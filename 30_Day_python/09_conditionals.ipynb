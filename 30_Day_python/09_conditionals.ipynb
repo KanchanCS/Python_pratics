{
 "cells": [
  {
   "cell_type": "markdown",
   "id": "2b8723d0",
   "metadata": {},
   "source": [
    "# If Condition\n",
    "###### In python and other programming languages the key word if is used to check if a condition is true and to execute the block code. Remember the indentation after the colon."
   ]
  },
  {
   "cell_type": "code",
   "execution_count": null,
   "id": "8fccd9da",
   "metadata": {},
   "outputs": [],
   "source": [
    "# syntax\n",
    "if condition:\n",
    "    this part of code runs for truthy conditions"
   ]
  },
  {
   "cell_type": "code",
   "execution_count": 6,
   "id": "72558b4e",
   "metadata": {},
   "outputs": [
    {
     "name": "stdout",
     "output_type": "stream",
     "text": [
      "A is positive Number\n"
     ]
    }
   ],
   "source": [
    "a = 2\n",
    "if a > 0:\n",
    "    print(\"A is positive Number\")"
   ]
  },
  {
   "cell_type": "markdown",
   "id": "351e72d2",
   "metadata": {},
   "source": [
    "## If Else\n",
    "##### If condition is true the first block will be executed, if not the else condition will run.\n",
    "\n",
    "##### syntax\n",
    "```python\n",
    "if condition:\n",
    "    this part of code runs for truthy conditions\n",
    "else:\n",
    "     this part of code runs for false conditions\n",
    "```        "
   ]
  },
  {
   "cell_type": "code",
   "execution_count": 20,
   "id": "328458e7",
   "metadata": {},
   "outputs": [
    {
     "name": "stdout",
     "output_type": "stream",
     "text": [
      "A is positive number\n"
     ]
    }
   ],
   "source": [
    "a = 2\n",
    "if a > 0:\n",
    "    print(\"A is positive number\")\n",
    "else:\n",
    "    print(\"A is negative number\")"
   ]
  },
  {
   "cell_type": "code",
   "execution_count": 22,
   "id": "ddf28828",
   "metadata": {},
   "outputs": [
    {
     "name": "stdout",
     "output_type": "stream",
     "text": [
      "You are not eligable\n"
     ]
    }
   ],
   "source": [
    "age = 12\n",
    "if age > 18:\n",
    "    print(\"You are eligable\")\n",
    "else:\n",
    "    print(\"You are not eligable\")"
   ]
  },
  {
   "cell_type": "markdown",
   "id": "b81b49c6",
   "metadata": {},
   "source": [
    "## If, Elif, Else\n",
    "##### In our daily life, we make decisions on daily basis. We make decisions not by checking one or two conditions but multiple conditions. As similar to life, programming is also full of conditions. We use elif when we have multiple conditions.\n",
    "######  syntax\n",
    "```python\n",
    "if condition:\n",
    "    code\n",
    "elif condition:\n",
    "    code\n",
    "else:\n",
    "    code\n",
    "```"
   ]
  },
  {
   "cell_type": "code",
   "execution_count": 19,
   "id": "adf60625",
   "metadata": {},
   "outputs": [
    {
     "name": "stdout",
     "output_type": "stream",
     "text": [
      "A is positive number\n"
     ]
    }
   ],
   "source": [
    "a = 2\n",
    "if a > 0:\n",
    "    print(\"A is positive number\")\n",
    "elif a < 0:\n",
    "    prinr(\"A is negative number\")\n",
    "else:\n",
    "    print(\"A is zero\")\n",
    "    "
   ]
  },
  {
   "cell_type": "code",
   "execution_count": 24,
   "id": "f9590b45",
   "metadata": {},
   "outputs": [],
   "source": [
    "# syntax\n",
    "code if condition else code    "
   ]
  },
  {
   "cell_type": "code",
   "execution_count": 5,
   "id": "a813c331",
   "metadata": {},
   "outputs": [
    {
     "data": {
      "text/plain": [
       "'Your age is Less then 18'"
      ]
     },
     "execution_count": 5,
     "metadata": {},
     "output_type": "execute_result"
    }
   ],
   "source": [
    "age = 12\n",
    "print(\"Your age is Grether then 18\") if age >=18 else (\"Your age is Less then 18\")"
   ]
  },
  {
   "cell_type": "markdown",
   "id": "6bda54f1",
   "metadata": {},
   "source": [
    "# Nested Conditions\n",
    "* Conditions can be nested\n",
    "\n",
    "###### syntax\n",
    "```python\n",
    "if condition:\n",
    "    code\n",
    "    if condition:\n",
    "    code\n",
    "```"
   ]
  },
  {
   "cell_type": "code",
   "execution_count": 10,
   "id": "433939a9",
   "metadata": {},
   "outputs": [
    {
     "name": "stdout",
     "output_type": "stream",
     "text": [
      "A is a positive number\n"
     ]
    }
   ],
   "source": [
    "a = 5\n",
    "if a > 0:\n",
    "    if a % 2 == 0:\n",
    "        print('A is a positive and even integer')\n",
    "    else:\n",
    "        print('A is a positive number')\n",
    "elif a == 0:\n",
    "    print('A is zero')\n",
    "else:\n",
    "    print('A is a negative number')\n"
   ]
  },
  {
   "cell_type": "markdown",
   "id": "d2c7f223",
   "metadata": {},
   "source": [
    "#### If Condition and Logical Operators\n",
    "##### syntax\n",
    "```python\n",
    "if condition and condition:\n",
    "    code\n",
    "```    "
   ]
  },
  {
   "cell_type": "code",
   "execution_count": 12,
   "id": "09ad10ec",
   "metadata": {},
   "outputs": [
    {
     "name": "stdout",
     "output_type": "stream",
     "text": [
      "A is an even and positive integer\n"
     ]
    }
   ],
   "source": [
    "a = 46\n",
    "if a > 0 and a % 2 == 0:\n",
    "        print('A is an even and positive integer')\n",
    "elif a > 0 and a % 2 !=  0:\n",
    "     print('A is a positive integer')\n",
    "elif a == 0:\n",
    "    print('A is zero')\n",
    "else:\n",
    "    print('A is negative')\n"
   ]
  },
  {
   "cell_type": "markdown",
   "id": "02fe4e8a",
   "metadata": {},
   "source": [
    "##### If and Or Logical Operators\n",
    "##### syntax\n",
    "```python\n",
    "if condition or condition:\n",
    "    code\n",
    "```    "
   ]
  },
  {
   "cell_type": "code",
   "execution_count": 14,
   "id": "aa55c224",
   "metadata": {},
   "outputs": [
    {
     "name": "stdout",
     "output_type": "stream",
     "text": [
      "Access granted!\n"
     ]
    }
   ],
   "source": [
    "user = 'James'\n",
    "access_level = 5\n",
    "if user == 'admin' or access_level >= 4:\n",
    "        print('Access granted!')\n",
    "else:\n",
    "    print('Access denied!')"
   ]
  },
  {
   "cell_type": "markdown",
   "id": "c2c67132",
   "metadata": {},
   "source": [
    "##### 1. Get user input using input(“Enter your age: ”). If user is 18 or older, give feedback: You are old enough to drive. If below 18 give feedback to wait for the missing amount of years. Output:\n",
    "```python\n",
    "Enter your age: 30\n",
    "You are old enough to learn to drive.\n",
    "Output:\n",
    "Enter your age: 15\n",
    "You need 3 more years to learn to drive.\n",
    "```"
   ]
  },
  {
   "cell_type": "code",
   "execution_count": 5,
   "id": "65829753",
   "metadata": {},
   "outputs": [
    {
     "name": "stdout",
     "output_type": "stream",
     "text": [
      "Enter Your Age: 0\n",
      "You need 18 more years to learn to drive\n"
     ]
    }
   ],
   "source": [
    "Age = int(input(\"Enter Your Age: \"))\n",
    "if Age >= 18:\n",
    "    print(\"You are old enough to learn to drive\")\n",
    "else :\n",
    "    year_left = 18 - Age\n",
    "    print(\"You need\", year_left ,\"more years to learn to drive\")\n",
    "    "
   ]
  },
  {
   "cell_type": "markdown",
   "id": "ac2fd4ae",
   "metadata": {},
   "source": [
    "##### 2. Compare the values of my_age and your_age using if … else. Who is older (me or you)? Use input(“Enter your age: ”) to get the age as input. You can use a nested condition to print 'year' for 1 year difference in age, 'years' for bigger differences, and a custom text if my_age = your_age. Output:\n",
    "```python\n",
    "Enter your age: 30\n",
    "You are 5 years older than me.\n",
    "```"
   ]
  },
  {
   "cell_type": "code",
   "execution_count": 24,
   "id": "1f29ec3d",
   "metadata": {},
   "outputs": [
    {
     "name": "stdout",
     "output_type": "stream",
     "text": [
      "Enter your age: 6\n",
      "I am older than you by 6 years.\n"
     ]
    }
   ],
   "source": [
    "my_age = 12\n",
    "your_age = int(input(\"Enter your age: \"))\n",
    "if my_age > your_age:\n",
    "    age_diff = my_age - your_age\n",
    "    if age_diff == 1: \n",
    "        print(\"I am older than you by 1 year.\")    \n",
    "    else:\n",
    "        print(\"I am older than you by\", age_diff, \"years.\")\n",
    "elif my_age < your_age:\n",
    "        age_diff = your_age - my_age\n",
    "        if age_diff == 1:\n",
    "            print(\"I am older than me by 1 year.\")    \n",
    "        else:\n",
    "            print(\"I am older than me by\", age_diff, \"years.\")\n",
    "else:\n",
    "    print(\"We are of the same age.\")            "
   ]
  },
  {
   "cell_type": "markdown",
   "id": "6dd358f7",
   "metadata": {},
   "source": [
    "#### 3. Get two numbers from the user using input prompt. If a is greater than b return a is greater than b, if a is less b return a is smaller than b, else a is equal to b. Output:\n",
    "```python\n",
    "Enter number one: 4\n",
    "Enter number two: 3\n",
    "4 is greater than 3\n",
    "```"
   ]
  },
  {
   "cell_type": "code",
   "execution_count": 28,
   "id": "eeccae68",
   "metadata": {},
   "outputs": [
    {
     "name": "stdout",
     "output_type": "stream",
     "text": [
      "Enter number one:2\n",
      "Enter number two:2\n",
      "2 is equal to 2\n"
     ]
    }
   ],
   "source": [
    "num1 = int(input(\"Enter number one:\"))\n",
    "num2 = int(input(\"Enter number two:\"))\n",
    "if num1 > num2:\n",
    "    print(num1,\"is greater then\",num2)\n",
    "elif num1 < num2:\n",
    "        print(num1,\"is less then\",num2)\n",
    "else:\n",
    "    print(num1,\"is equal to\",num2)"
   ]
  },
  {
   "cell_type": "markdown",
   "id": "14d0585b",
   "metadata": {},
   "source": [
    "##### 4. Write a code which gives grade to students according to theirs scores:\n",
    "```python\n",
    "80-100, A\n",
    "70-89, B\n",
    "60-69, C\n",
    "50-59, D\n",
    "0-49, F\n",
    "```"
   ]
  },
  {
   "cell_type": "code",
   "execution_count": 41,
   "id": "4db28c2c",
   "metadata": {},
   "outputs": [
    {
     "name": "stdout",
     "output_type": "stream",
     "text": [
      "Score: 80, Grade: A\n",
      "Score: 70, Grade: B\n",
      "Score: 60, Grade: C\n",
      "Score: 50, Grade: D\n",
      "Score: 0, Grade: F\n"
     ]
    }
   ],
   "source": [
    "def grade(score):\n",
    "    if score >= 80 and score <= 100:\n",
    "        return \"A\"\n",
    "    elif score >= 70 and score <= 89:\n",
    "        return \"B\"\n",
    "    elif score >= 60 and score <= 69:\n",
    "        return \"C\"\n",
    "    elif score >= 50 and score <= 59:\n",
    "        return \"D\"\n",
    "    elif score >= 0 and score <= 49:\n",
    "        return \"F\"  \n",
    "    else:\n",
    "        (\"Invalid Score\")\n",
    "scores = [80, 70, 60, 50, 0]\n",
    "for score in scores:\n",
    "    grade_calculate = grade(score)\n",
    "    print(f\"Score: {score}, Grade: {grade_calculate}\")\n",
    "    "
   ]
  },
  {
   "cell_type": "markdown",
   "id": "f997ae01",
   "metadata": {},
   "source": [
    "5. ##### Check if the season is Autumn, Winter, Spring or Summer. If the user input is: September, October or November, the season is Autumn. December, January or February, the season is Winter. March, April or May, the season is Spring June, July or August, the season is Summer"
   ]
  },
  {
   "cell_type": "code",
   "execution_count": 46,
   "id": "e65ca70f",
   "metadata": {},
   "outputs": [
    {
     "name": "stdout",
     "output_type": "stream",
     "text": [
      "Enter the month namemay\n",
      "The season is Spring\n"
     ]
    }
   ],
   "source": [
    "def get_season(month):\n",
    "    if month in [\"september\", \"october\", \"november\"]:\n",
    "        return \"Autumn\"\n",
    "    if month in [\"december\", \"january\",  \"february\"]:\n",
    "        return \"Winter\"\n",
    "    if month in [\"march\", \"april\", \"may\"]:\n",
    "        return \"Spring\"\n",
    "    if month in [\"june\", \"july\", \"august\"]:\n",
    "        return \"Summer\"   \n",
    "    else: \n",
    "        return \"Invalid input\"\n",
    "user = input(\"Enter the month name\") \n",
    "a = get_season(user)\n",
    "print(\"The season is\",a)                 \n",
    "    "
   ]
  },
  {
   "cell_type": "markdown",
   "id": "134ca7fb",
   "metadata": {},
   "source": [
    "#### The following list contains some fruits:\n",
    "```python\n",
    "fruits = ['banana', 'orange', 'mango', 'lemon']\n",
    "```\n",
    "##### If a fruit doesn't exist in the list add the fruit to the list and print the modified list. If the fruit exists print('That fruit already exist in the list')"
   ]
  },
  {
   "cell_type": "code",
   "execution_count": 54,
   "id": "53186086",
   "metadata": {},
   "outputs": [
    {
     "name": "stdout",
     "output_type": "stream",
     "text": [
      "Enter the Fruit: apple\n",
      "modified list\n"
     ]
    }
   ],
   "source": [
    "fruits = ['banana', 'orange', 'mango', 'lemon']\n",
    "fruit = input(\"Enter the Fruit: \")\n",
    "if fruit in fruits:\n",
    "    print(\"That fruit already exist in the list\")\n",
    "else:\n",
    "     fruits.append(fruit) \n",
    "     print(\"modified list\")        "
   ]
  },
  {
   "cell_type": "markdown",
   "id": "af36299b",
   "metadata": {},
   "source": [
    "##### Here we have a person dictionary. Feel free to modify it!\n",
    "```python\n",
    "        person={\n",
    "    'first_name': 'Asabeneh',\n",
    "    'last_name': 'Yetayeh',\n",
    "    'age': 250,\n",
    "    'country': 'Finland',\n",
    "    'is_marred': True,\n",
    "    'skills': ['JavaScript', 'React', 'Node', 'MongoDB', 'Python'],\n",
    "    'address': {\n",
    "        'street': 'Space street',\n",
    "        'zipcode': '02210'\n",
    "    }\n",
    "    }\n",
    " ```\n",
    " * Check if the person dictionary has skills key, if so print out the middle skill in the skills list.\n",
    " * Check if the person dictionary has skills key, if so check if the person has 'Python' skill and print out the result.\n",
    " * If a person skills has only JavaScript and React, print('He is a front end developer'), if the person skills has Node, Python, MongoDB, print('He is a backend developer'), if the person skills has React, Node and MongoDB, Print('He is a fullstack developer'), else print('unknown title') - for more accurate results more conditions can be nested!\n",
    " * If the person is married and if he lives in Finland, print the information in the following format:"
   ]
  },
  {
   "cell_type": "code",
   "execution_count": 55,
   "id": "f87f83b5",
   "metadata": {},
   "outputs": [
    {
     "name": "stdout",
     "output_type": "stream",
     "text": [
      "Middle skill: Node\n",
      "The person has the 'Python' skill.\n",
      "He is a back-end developer\n",
      "Marital information: Married, Country: Finland\n"
     ]
    }
   ],
   "source": [
    "person = {\n",
    "    'first_name': 'Asabeneh',\n",
    "    'last_name': 'Yetayeh',\n",
    "    'age': 250,\n",
    "    'country': 'Finland',\n",
    "    'is_married': True,\n",
    "    'skills': ['JavaScript', 'React', 'Node', 'MongoDB', 'Python'],\n",
    "    'address': {\n",
    "        'street': 'Space street',\n",
    "        'zipcode': '02210'\n",
    "    }\n",
    "}\n",
    "if 'skills' in person:\n",
    "    skills = person['skills']\n",
    "    if skills:\n",
    "        middle_skill_index = len(skills) // 2\n",
    "        print(\"Middle skill:\", skills[middle_skill_index])\n",
    "    else:\n",
    "        print(\"The skills list is empty.\")\n",
    "\n",
    "\n",
    "if 'skills' in person and 'Python' in person['skills']:\n",
    "    print(\"The person has the 'Python' skill.\")\n",
    "else:\n",
    "    print(\"The person does not have the 'Python' skill.\")\n",
    "\n",
    "if 'skills' in person:\n",
    "    skills = person['skills']\n",
    "    if skills == ['JavaScript', 'React']:\n",
    "        print(\"He is a front-end developer\")\n",
    "    elif set(['Node', 'Python', 'MongoDB']).issubset(skills):\n",
    "        print(\"He is a back-end developer\")\n",
    "    elif set(['React', 'Node', 'MongoDB']).issubset(skills):\n",
    "        print(\"He is a full-stack developer\")\n",
    "    else:\n",
    "        print(\"Unknown title\")\n",
    "\n",
    "if person.get('is_married') and person.get('country') == 'Finland':\n",
    "    print(\"Marital information: Married, Country: Finland\")\n"
   ]
  },
  {
   "cell_type": "code",
   "execution_count": null,
   "id": "2eb95e52",
   "metadata": {},
   "outputs": [],
   "source": []
  }
 ],
 "metadata": {
  "kernelspec": {
   "display_name": "Python 3 (ipykernel)",
   "language": "python",
   "name": "python3"
  },
  "language_info": {
   "codemirror_mode": {
    "name": "ipython",
    "version": 3
   },
   "file_extension": ".py",
   "mimetype": "text/x-python",
   "name": "python",
   "nbconvert_exporter": "python",
   "pygments_lexer": "ipython3",
   "version": "3.9.12"
  }
 },
 "nbformat": 4,
 "nbformat_minor": 5
}
