{
 "cells": [
  {
   "cell_type": "markdown",
   "id": "e0b062a6",
   "metadata": {},
   "source": [
    "\n",
    "# <span style='color:Blue'> Built in functions  </span>\n",
    "\n",
    "---\n",
    "### In Python we have lots of built-in functions. Built-in functions are globally available for your use that mean you can make use of the built-in functions without importing or configuring. Some of the most commonly used Python built-in functions are the following:<span style='color:Red'> print(), len(), type(), int(), float(), str(), input(), list(), dict(), min(), max(), sum(), sorted(), open(), file(), help(), and dir().</span> In the following table you will see an exhaustive list of Python built-in functions taken from"
   ]
  },
  {
   "cell_type": "markdown",
   "id": "aaf2a7db",
   "metadata": {
    "slideshow": {
     "slide_type": "notes"
    }
   },
   "source": [
    "## Python Variable Name Rules\n",
    "\n",
    "* A variable name must start with a letter or the underscore character\n",
    "* A variable name cannot start with a number\n",
    "* A variable name can only contain alpha-numeric characters and underscores (A-z, 0-9, and _ )\n",
    "* Variable names are case-sensitive (firstname, Firstname, FirstName and FIRSTNAME) are different variables)"
   ]
  },
  {
   "cell_type": "markdown",
   "id": "502d358b",
   "metadata": {},
   "source": [
    "### Here are some example of valid variable names:\n",
    "\n",
    "firstname\\\n",
    "lastname\\\n",
    "age\\\n",
    "country\\\n",
    "city\\\n",
    "first_name\\\n",
    "last_name\\\n",
    "capital_city\n",
    "#### _if we want to use reserved word as a variable\n",
    "year_2021\\\n",
    "year2021\\\n",
    "current_year_2021\\\n",
    "birth_year\\\n",
    "num1\\\n",
    "num2\n",
    "\n",
    "### Invalid variables names\n",
    "\n",
    "first-name\\\n",
    "first@name\\\n",
    "first$name\\\n",
    "num-\\\n",
    "1num\n"
   ]
  },
  {
   "cell_type": "code",
   "execution_count": 16,
   "id": "0ad7d646",
   "metadata": {},
   "outputs": [
    {
     "data": {
      "text/plain": [
       "'Yetayeh'"
      ]
     },
     "execution_count": 16,
     "metadata": {},
     "output_type": "execute_result"
    }
   ],
   "source": [
    "# Variables in Python\n",
    "first_name = 'Asabeneh'\n",
    "last_name = 'Yetayeh'\n",
    "country = 'Finland'\n",
    "city = 'Helsinki'\n",
    "age = 250\n",
    "is_married = True\n",
    "skills = ['HTML', 'CSS', 'JS', 'React', 'Python']\n",
    "person_info = {\n",
    "   'firstname':'Asabeneh',\n",
    "   'lastname':'Yetayeh',\n",
    "   'country':'Finland',\n",
    "   'city':'Helsinki'\n",
    "   }\n",
    "last_name"
   ]
  },
  {
   "cell_type": "markdown",
   "id": "2b889e3d",
   "metadata": {},
   "source": [
    "#### Let us use the print() and len() built-in functions. Print function takes unlimited number of arguments. An argument is a value which we can be passed or put inside the function parenthesis, see the example below."
   ]
  },
  {
   "cell_type": "code",
   "execution_count": 17,
   "id": "57542bca",
   "metadata": {},
   "outputs": [
    {
     "name": "stdout",
     "output_type": "stream",
     "text": [
      "Hello, World!\n",
      "Hello , World !\n",
      "13\n"
     ]
    }
   ],
   "source": [
    "print('Hello, World!') # The text Hello, World! is an argument\n",
    "print('Hello',',', 'World','!') # it can take multiple arguments, four arguments have been passed\n",
    "print(len('Hello, World!')) # it takes only one argument"
   ]
  },
  {
   "cell_type": "code",
   "execution_count": 18,
   "id": "37363058",
   "metadata": {},
   "outputs": [],
   "source": [
    "# Variables in Python\n",
    "first_name = 'Asabeneh'\n",
    "last_name = 'Yetayeh'\n",
    "country = 'Finland'\n",
    "city = 'Helsinki'\n",
    "age = 250\n",
    "is_married = True\n",
    "skills = ['HTML', 'CSS', 'JS', 'React', 'Python']\n",
    "person_info = {\n",
    "   'firstname':'Asabeneh',\n",
    "   'lastname':'Yetayeh',\n",
    "   'country':'Finland',\n",
    "   'city':'Helsinki'\n",
    "   }"
   ]
  },
  {
   "cell_type": "code",
   "execution_count": 21,
   "id": "69d3c49a",
   "metadata": {},
   "outputs": [
    {
     "name": "stdout",
     "output_type": "stream",
     "text": [
      "First name: Asabeneh\n",
      "First name length: 8\n",
      "Last name:  Yetayeh\n",
      "Last name length:  7\n",
      "Country:  Finland\n",
      "City:  Helsinki\n",
      "Age:  250\n",
      "Married:  True\n",
      "Skills:  ['HTML', 'CSS', 'JS', 'React', 'Python']\n",
      "Person information:  {'firstname': 'Asabeneh', 'lastname': 'Yetayeh', 'country': 'Finland', 'city': 'Helsinki'}\n"
     ]
    }
   ],
   "source": [
    "print('First name:', first_name)\n",
    "print('First name length:', len(first_name))\n",
    "print('Last name: ', last_name)\n",
    "print('Last name length: ', len(last_name))\n",
    "print('Country: ', country)\n",
    "print('City: ', city)\n",
    "print('Age: ', age)\n",
    "print('Married: ', is_married)\n",
    "print('Skills: ', skills)\n",
    "print('Person information: ', person_info)"
   ]
  },
  {
   "cell_type": "markdown",
   "id": "7a190a3c",
   "metadata": {},
   "source": [
    "## Declaring Multiple Variable in a Line\n",
    "### Multiple variables can also be declared in one line:"
   ]
  },
  {
   "cell_type": "code",
   "execution_count": 25,
   "id": "7aab3ab5",
   "metadata": {},
   "outputs": [
    {
     "name": "stdout",
     "output_type": "stream",
     "text": [
      "Asabeneh Yetayeh Helsink 250 True\n",
      "First name: Asabeneh\n",
      "Last name:  Yetayeh\n",
      "Country:  Helsink\n",
      "Age:  250\n",
      "Married k:  True\n"
     ]
    }
   ],
   "source": [
    "first_name, last_name, country, age, is_married = 'Asabeneh', 'Yetayeh', 'Helsink', 250, True\n",
    "\n",
    "print(first_name, last_name, country, age, is_married)\n",
    "\n",
    "print('First name:', first_name)\n",
    "print('Last name: ', last_name)\n",
    "print('Country: ', country)\n",
    "print('Age: ', age)\n",
    "print('Married: ', is_married)"
   ]
  },
  {
   "cell_type": "markdown",
   "id": "e855f9ae",
   "metadata": {},
   "source": [
    "## Getting user input using the input() built-in function. Let us assign the data we get from a user into first_name and age variables. Example:"
   ]
  },
  {
   "cell_type": "code",
   "execution_count": 44,
   "id": "3ed54870",
   "metadata": {},
   "outputs": [
    {
     "name": "stdout",
     "output_type": "stream",
     "text": [
      "What is your name: jon\n",
      "How old are you? 45\n",
      "jon\n",
      "45\n"
     ]
    }
   ],
   "source": [
    "\n",
    "first_name = input('What is your name: ')\n",
    "age = input('How old are you? ')\n",
    "\n",
    "print(first_name)\n",
    "print(age)"
   ]
  },
  {
   "cell_type": "markdown",
   "id": "a21ddd62",
   "metadata": {},
   "source": [
    "## Checking Data types and Casting"
   ]
  },
  {
   "cell_type": "code",
   "execution_count": 28,
   "id": "d0f285e8",
   "metadata": {},
   "outputs": [
    {
     "name": "stdout",
     "output_type": "stream",
     "text": [
      "<class 'str'>\n",
      "<class 'str'>\n",
      "<class 'int'>\n",
      "<class 'float'>\n",
      "<class 'complex'>\n",
      "<class 'bool'>\n",
      "<class 'list'>\n",
      "<class 'dict'>\n",
      "<class 'tuple'>\n",
      "<class 'zip'>\n"
     ]
    }
   ],
   "source": [
    "# Different python data types\n",
    "# Let's declare variables with various data types\n",
    "\n",
    "first_name = 'Asabeneh'     # str\n",
    "last_name = 'Yetayeh'       # str\n",
    "country = 'Finland'         # str\n",
    "city= 'Helsinki'            # str\n",
    "age = 250                   # int, it is not my real age, don't worry about it\n",
    "\n",
    "# Printing out types\n",
    "print(type('Asabeneh'))     # str\n",
    "print(type(first_name))     # str\n",
    "print(type(10))             # int\n",
    "print(type(3.14))           # float\n",
    "print(type(1 + 1j))         # complex\n",
    "print(type(True))           # bool\n",
    "print(type([1, 2, 3, 4]))     # list\n",
    "print(type({'name':'Asabeneh','age':250, 'is_married':250}))    # dict\n",
    "print(type((1,2)))                                              # tuple\n",
    "print(type(zip([1,2],[3,4])))                                   # set"
   ]
  },
  {
   "cell_type": "markdown",
   "id": "0a55b55c",
   "metadata": {},
   "source": [
    "* Casting: Converting one data type to another data type. We use int(), float(), str(), list, set When we do arithmetic operations string numbers should be first converted to int or float otherwise it will return an error. If we concatenate a number with a string, the number should be first converted to a string. We will talk about concatenation in String section."
   ]
  },
  {
   "cell_type": "code",
   "execution_count": 29,
   "id": "ad127f01",
   "metadata": {},
   "outputs": [
    {
     "name": "stdout",
     "output_type": "stream",
     "text": [
      "num_int 10\n",
      "num_float: 10.0\n"
     ]
    }
   ],
   "source": [
    "# int to float\n",
    "num_int = 10\n",
    "print('num_int',num_int) \n",
    "\n",
    "num_float = float(num_int)\n",
    "print('num_float:', num_float)   "
   ]
  },
  {
   "cell_type": "code",
   "execution_count": 38,
   "id": "4529fde5",
   "metadata": {},
   "outputs": [
    {
     "name": "stdout",
     "output_type": "stream",
     "text": [
      "9.81\n",
      "int number: 9\n"
     ]
    }
   ],
   "source": [
    "# float to int\n",
    "gravity = 9.81\n",
    "print(gravity)             # 9\n",
    "\n",
    "floot_ = int(gravity)\n",
    "print(\"int number:\",floot_)"
   ]
  },
  {
   "cell_type": "code",
   "execution_count": 35,
   "id": "94f7b2f7",
   "metadata": {},
   "outputs": [
    {
     "name": "stdout",
     "output_type": "stream",
     "text": [
      "10\n",
      "10\n"
     ]
    }
   ],
   "source": [
    "# int to str\n",
    "num_int = 10\n",
    "print(num_int)\n",
    "\n",
    "num_str = str(num_int)\n",
    "print(num_str)                  "
   ]
  },
  {
   "cell_type": "code",
   "execution_count": 42,
   "id": "f3053c47",
   "metadata": {},
   "outputs": [
    {
     "name": "stdout",
     "output_type": "stream",
     "text": [
      "num_float 10.6\n"
     ]
    }
   ],
   "source": [
    "# str to int or float\n",
    "num_str = '10.6'\n",
    "#print('num_int', int(num_str))      # 10\n",
    "print('num_float', float(num_str))  # 10.6\n"
   ]
  },
  {
   "cell_type": "code",
   "execution_count": 43,
   "id": "f19b97ee",
   "metadata": {},
   "outputs": [
    {
     "name": "stdout",
     "output_type": "stream",
     "text": [
      "Asabeneh\n",
      "['A', 's', 'a', 'b', 'e', 'n', 'e', 'h']\n"
     ]
    }
   ],
   "source": [
    "# str to list\n",
    "first_name = 'Asabeneh'\n",
    "print(first_name)               # 'Asabeneh'\n",
    "first_name_to_list = list(first_name)\n",
    "print(first_name_to_list) "
   ]
  },
  {
   "cell_type": "markdown",
   "id": "fcc9bca0",
   "metadata": {},
   "source": [
    "# Numbers\n",
    "___\n",
    "### Number data types in Python:\n",
    "\n",
    "* Integers: Integer(negative, zero and positive) numbers Example: ... -3, -2, -1, 0, 1, 2, 3 ...\n",
    "\n",
    "* Floating Point Numbers(Decimal numbers) Example: ... -3.5, -2.25, -1.0, 0.0, 1.1, 2.2, 3.5 ...\n",
    "\n",
    "* Complex Numbers Example: 1 + j, 2 + 4j, 1 - 1j"
   ]
  },
  {
   "cell_type": "code",
   "execution_count": null,
   "id": "1dd36673",
   "metadata": {},
   "outputs": [],
   "source": []
  }
 ],
 "metadata": {
  "celltoolbar": "Raw Cell Format",
  "kernelspec": {
   "display_name": "Python 3 (ipykernel)",
   "language": "python",
   "name": "python3"
  },
  "language_info": {
   "codemirror_mode": {
    "name": "ipython",
    "version": 3
   },
   "file_extension": ".py",
   "mimetype": "text/x-python",
   "name": "python",
   "nbconvert_exporter": "python",
   "pygments_lexer": "ipython3",
   "version": "3.9.12"
  }
 },
 "nbformat": 4,
 "nbformat_minor": 5
}
