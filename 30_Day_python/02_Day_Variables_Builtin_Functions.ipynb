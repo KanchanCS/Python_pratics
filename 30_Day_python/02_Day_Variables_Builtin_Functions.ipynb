{
 "cells": [
  {
   "cell_type": "markdown",
   "id": "e0b062a6",
   "metadata": {},
   "source": [
    "\n",
    "# <span style='color:Blue'> Built in functions  </span>\n",
    "\n",
    "---\n",
    "### In Python we have lots of built-in functions. Built-in functions are globally available for your use that mean you can make use of the built-in functions without importing or configuring. Some of the most commonly used Python built-in functions are the following:<span style='color:Red'> print(), len(), type(), int(), float(), str(), input(), list(), dict(), min(), max(), sum(), sorted(), open(), file(), help(), and dir().</span> In the following table you will see an exhaustive list of Python built-in functions taken from"
   ]
  },
  {
   "cell_type": "markdown",
   "id": "aaf2a7db",
   "metadata": {
    "slideshow": {
     "slide_type": "notes"
    }
   },
   "source": [
    "## Python Variable Name Rules\n",
    "\n",
    "* A variable name must start with a letter or the underscore character\n",
    "* A variable name cannot start with a number\n",
    "* A variable name can only contain alpha-numeric characters and underscores (A-z, 0-9, and _ )\n",
    "* Variable names are case-sensitive (firstname, Firstname, FirstName and FIRSTNAME) are different variables)"
   ]
  },
  {
   "cell_type": "markdown",
   "id": "70d3df63",
   "metadata": {},
   "source": [
    "### Here are some example of valid variable names:\n",
    "\n",
    "firstname\\\n",
    "lastname\\\n",
    "age\\\n",
    "country\\\n",
    "city\\\n",
    "first_name\\\n",
    "last_name\\\n",
    "capital_city\n",
    "#### _if we want to use reserved word as a variable\n",
    "year_2021\\\n",
    "year2021\\\n",
    "current_year_2021\\\n",
    "birth_year\\\n",
    "num1\\\n",
    "num2\n",
    "\n",
    "### Invalid variables names\n",
    "\n",
    "first-name\\\n",
    "first@name\\\n",
    "first$name\\\n",
    "num-\\\n",
    "1num\n"
   ]
  },
  {
   "cell_type": "code",
   "execution_count": 16,
   "id": "0ad7d646",
   "metadata": {},
   "outputs": [
    {
     "data": {
      "text/plain": [
       "'Yetayeh'"
      ]
     },
     "execution_count": 16,
     "metadata": {},
     "output_type": "execute_result"
    }
   ],
   "source": [
    "# Variables in Python\n",
    "first_name = 'Asabeneh'\n",
    "last_name = 'Yetayeh'\n",
    "country = 'Finland'\n",
    "city = 'Helsinki'\n",
    "age = 250\n",
    "is_married = True\n",
    "skills = ['HTML', 'CSS', 'JS', 'React', 'Python']\n",
    "person_info = {\n",
    "   'firstname':'Asabeneh',\n",
    "   'lastname':'Yetayeh',\n",
    "   'country':'Finland',\n",
    "   'city':'Helsinki'\n",
    "   }\n",
    "last_name"
   ]
  },
  {
   "cell_type": "markdown",
   "id": "df273c5f",
   "metadata": {},
   "source": [
    "#### Let us use the print() and len() built-in functions. Print function takes unlimited number of arguments. An argument is a value which we can be passed or put inside the function parenthesis, see the example below."
   ]
  },
  {
   "cell_type": "code",
   "execution_count": 17,
   "id": "6dcb4fb9",
   "metadata": {},
   "outputs": [
    {
     "name": "stdout",
     "output_type": "stream",
     "text": [
      "Hello, World!\n",
      "Hello , World !\n",
      "13\n"
     ]
    }
   ],
   "source": [
    "print('Hello, World!') # The text Hello, World! is an argument\n",
    "print('Hello',',', 'World','!') # it can take multiple arguments, four arguments have been passed\n",
    "print(len('Hello, World!')) # it takes only one argument"
   ]
  },
  {
   "cell_type": "code",
   "execution_count": null,
   "id": "936155d2",
   "metadata": {},
   "outputs": [],
   "source": []
  }
 ],
 "metadata": {
  "celltoolbar": "Raw Cell Format",
  "kernelspec": {
   "display_name": "Python 3 (ipykernel)",
   "language": "python",
   "name": "python3"
  },
  "language_info": {
   "codemirror_mode": {
    "name": "ipython",
    "version": 3
   },
   "file_extension": ".py",
   "mimetype": "text/x-python",
   "name": "python",
   "nbconvert_exporter": "python",
   "pygments_lexer": "ipython3",
   "version": "3.9.12"
  }
 },
 "nbformat": 4,
 "nbformat_minor": 5
}
