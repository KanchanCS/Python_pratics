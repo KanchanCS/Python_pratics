{
 "cells": [
  {
   "cell_type": "markdown",
   "id": "1e28ee29",
   "metadata": {},
   "source": [
    "## Boolean\n",
    "---\n",
    "*A boolean data type represents one of the two values: True or False. The use of these data types will be clear once we start using the comparison operator. The first letter T for True and F for False should be capital unlike JavaScript. Example: Boolean Values*"
   ]
  },
  {
   "cell_type": "code",
   "execution_count": 1,
   "id": "f470d638",
   "metadata": {},
   "outputs": [
    {
     "name": "stdout",
     "output_type": "stream",
     "text": [
      "True\n",
      "False\n"
     ]
    }
   ],
   "source": [
    "print(True)\n",
    "print(False)"
   ]
  },
  {
   "cell_type": "markdown",
   "id": "f36f3a2d",
   "metadata": {},
   "source": [
    "## Assignment Operators\n",
    "#### Assignment operators are used to assign values to variables. Let us take = as an example. Equal sign in mathematics shows that two values are equal, however in Python it means we are storing a value in a certain variable and we call it assignment or a assigning value to a variable. The table below shows the different types of python assignment operators, taken from\n",
    "\n",
    "### Arithmetic Operators:\n",
    "* Addition(+): a + b\n",
    "* Subtraction(-): a - b\n",
    "* Multiplication(*): a * b\n",
    "* Division(/): a / b\n",
    "* Modulus(%): a % b\n",
    "* Floor division(//): a // b\n",
    "* Exponentiation(**): a ** b"
   ]
  },
  {
   "cell_type": "code",
   "execution_count": 3,
   "id": "757abdd9",
   "metadata": {},
   "outputs": [
    {
     "name": "stdout",
     "output_type": "stream",
     "text": [
      "Addition:  3\n",
      "Subtraction:  1\n",
      "Multiplication:  6\n",
      "Division:  2.0\n",
      "Division:  3.0\n",
      "Division:  3.5\n",
      "Division without the remainder:  3\n",
      "Division without the remainder:  2\n",
      "Modulus:  1\n",
      "Exponentiation:  8\n"
     ]
    }
   ],
   "source": [
    "# Arithmetic Operations in Python\n",
    "# Integers\n",
    "\n",
    "print('Addition: ', 1 + 2)        # 3\n",
    "print('Subtraction: ', 2 - 1)     # 1\n",
    "print('Multiplication: ', 2 * 3)  # 6\n",
    "print ('Division: ', 4 / 2)       # 2.0  Division in Python gives floating number\n",
    "print('Division: ', 6 / 2)        # 3.0         \n",
    "print('Division: ', 7 / 2)        # 3.5\n",
    "print('Division without the remainder: ', 7 // 2)   # 3,  gives without the floating number or without the remaining\n",
    "print ('Division without the remainder: ',7 // 3)   # 2\n",
    "print('Modulus: ', 3 % 2)         # 1, Gives the remainder\n",
    "print('Exponentiation: ', 2 ** 3) # 9 it means 2 * 2 * 2"
   ]
  },
  {
   "cell_type": "markdown",
   "id": "19e68b26",
   "metadata": {},
   "source": [
    "### Float"
   ]
  },
  {
   "cell_type": "code",
   "execution_count": 5,
   "id": "ccbc8006",
   "metadata": {},
   "outputs": [
    {
     "name": "stdout",
     "output_type": "stream",
     "text": [
      "Floating Point Number, PI 3.14\n",
      "Floating Point Number, gravity 9.81\n"
     ]
    }
   ],
   "source": [
    "# Floating numbers\n",
    "print('Floating Point Number, PI', 3.14)\n",
    "print('Floating Point Number, gravity', 9.81)"
   ]
  },
  {
   "cell_type": "markdown",
   "id": "da6d06de",
   "metadata": {},
   "source": [
    "### Complex numbers"
   ]
  },
  {
   "cell_type": "code",
   "execution_count": 6,
   "id": "ed5d5fe1",
   "metadata": {},
   "outputs": [
    {
     "name": "stdout",
     "output_type": "stream",
     "text": [
      "Complex number:  (1+1j)\n",
      "Multiplying complex numbers:  (2+0j)\n"
     ]
    }
   ],
   "source": [
    "# Complex numbers\n",
    "print('Complex number: ', 1 + 1j)\n",
    "print('Multiplying complex numbers: ',(1 + 1j) * (1 - 1j))"
   ]
  },
  {
   "cell_type": "markdown",
   "id": "c66b03c0",
   "metadata": {},
   "source": [
    "#### Let's declare a variable and assign a number data type. I am going to use single character variable but remember do not develop a habit of declaring such types of variables. Variable names should be all the time mnemonic."
   ]
  },
  {
   "cell_type": "code",
   "execution_count": 8,
   "id": "da0cd32b",
   "metadata": {},
   "outputs": [
    {
     "name": "stdout",
     "output_type": "stream",
     "text": [
      "5\n",
      "a + b =  5\n",
      "a - b =  1\n",
      "a * b =  6\n",
      "a / b =  1.5\n",
      "a % b =  1\n",
      "a // b =  1\n",
      "a ** b =  9\n"
     ]
    }
   ],
   "source": [
    "# Declaring the variable at the top first\n",
    "\n",
    "a = 3 # a is a variable name and 3 is an integer data type\n",
    "b = 2 # b is a variable name and 3 is an integer data type\n",
    "\n",
    "total = a + b\n",
    "diff = a - b\n",
    "product = a * b\n",
    "division = a / b\n",
    "remainder = a % b\n",
    "floor_division = a // b\n",
    "exponential = a ** b\n",
    "\n",
    "# I should have used sum instead of total but sum is a built-in function - try to avoid overriding built-in functions\n",
    "print(total) # if you do not label your print with some string, you never know where the result is coming from\n",
    "\n",
    "print('a + b = ', total)\n",
    "print('a - b = ', diff)\n",
    "print('a * b = ', product)\n",
    "print('a / b = ', division)\n",
    "print('a % b = ', remainder)\n",
    "print('a // b = ', floor_division)\n",
    "print('a ** b = ', exponential)"
   ]
  },
  {
   "cell_type": "code",
   "execution_count": 9,
   "id": "f36d75c5",
   "metadata": {},
   "outputs": [
    {
     "name": "stdout",
     "output_type": "stream",
     "text": [
      "== Addition, Subtraction, Multiplication, Division, Modulus ==\n",
      "total:  7\n",
      "difference:  1\n",
      "product:  12\n",
      "division:  1.3333333333333333\n",
      "remainder:  1\n"
     ]
    }
   ],
   "source": [
    "print('== Addition, Subtraction, Multiplication, Division, Modulus ==')\n",
    "\n",
    "num_one = 3\n",
    "num_two = 4\n",
    "\n",
    "# Arithmetic operations\n",
    "total = num_one + num_two\n",
    "diff = num_two - num_one\n",
    "product = num_one * num_two\n",
    "div = num_two / num_one\n",
    "remainder = num_two % num_one\n",
    "\n",
    "print('total: ', total)\n",
    "print('difference: ', diff)\n",
    "print('product: ', product)\n",
    "print('division: ', div)\n",
    "print('remainder: ', remainder)"
   ]
  },
  {
   "cell_type": "code",
   "execution_count": 10,
   "id": "16906880",
   "metadata": {},
   "outputs": [
    {
     "name": "stdout",
     "output_type": "stream",
     "text": [
      "Area of a circle: 314.0\n"
     ]
    }
   ],
   "source": [
    "# Calculating area of a circle\n",
    "radius = 10                                 # radius of a circle\n",
    "area_of_circle = 3.14 * radius ** 2         # two * sign means exponent or power\n",
    "print('Area of a circle:', area_of_circle)"
   ]
  },
  {
   "cell_type": "code",
   "execution_count": 11,
   "id": "f7113229",
   "metadata": {},
   "outputs": [
    {
     "name": "stdout",
     "output_type": "stream",
     "text": [
      "Area of rectangle: 200\n"
     ]
    }
   ],
   "source": [
    "# Calculating area of a rectangle\n",
    "length = 10\n",
    "width = 20\n",
    "area_of_rectangle = length * width\n",
    "print('Area of rectangle:', area_of_rectangle)"
   ]
  },
  {
   "cell_type": "code",
   "execution_count": 12,
   "id": "cecd29fa",
   "metadata": {},
   "outputs": [
    {
     "name": "stdout",
     "output_type": "stream",
     "text": [
      "735.75 N\n"
     ]
    }
   ],
   "source": [
    "# Calculating a weight of an object\n",
    "mass = 75\n",
    "gravity = 9.81\n",
    "weight = mass * gravity\n",
    "print(weight, 'N')   "
   ]
  },
  {
   "cell_type": "code",
   "execution_count": 14,
   "id": "cee481e4",
   "metadata": {},
   "outputs": [
    {
     "name": "stdout",
     "output_type": "stream",
     "text": [
      "1000.0\n"
     ]
    }
   ],
   "source": [
    "# Calculate the density of a liquid\n",
    "mass = 75 # in Kg\n",
    "volume = 0.075 # in cubic meter\n",
    "density = mass / volume # 1000 Kg/m^3\n",
    "print(density)"
   ]
  },
  {
   "cell_type": "markdown",
   "id": "18ea33b2",
   "metadata": {},
   "source": [
    "## Comparison Operators\n",
    "#### In programming we compare values, we use comparison operators to compare two values. We check if a value is greater or less or equal to other value. The following table shows Python comparison operators which was taken from w3shool."
   ]
  },
  {
   "cell_type": "code",
   "execution_count": 15,
   "id": "78ffa1f3",
   "metadata": {},
   "outputs": [
    {
     "name": "stdout",
     "output_type": "stream",
     "text": [
      "True\n",
      "True\n",
      "False\n",
      "True\n",
      "True\n",
      "False\n",
      "True\n",
      "False\n",
      "True\n",
      "True\n",
      "False\n",
      "True\n",
      "True\n",
      "False\n",
      "True == True:  True\n",
      "True == False:  False\n",
      "False == False: True\n"
     ]
    }
   ],
   "source": [
    "print(3 > 2)     # True, because 3 is greater than 2\n",
    "print(3 >= 2)    # True, because 3 is greater than 2\n",
    "print(3 < 2)     # False,  because 3 is greater than 2\n",
    "print(2 < 3)     # True, because 2 is less than 3\n",
    "print(2 <= 3)    # True, because 2 is less than 3\n",
    "print(3 == 2)    # False, because 3 is not equal to 2\n",
    "print(3 != 2)    # True, because 3 is not equal to 2\n",
    "print(len('mango') == len('avocado'))  # False\n",
    "print(len('mango') != len('avocado'))  # True\n",
    "print(len('mango') < len('avocado'))   # True\n",
    "print(len('milk') != len('meat'))      # False\n",
    "print(len('milk') == len('meat'))      # True\n",
    "print(len('tomato') == len('potato'))  # True\n",
    "print(len('python') > len('dragon'))   # False\n",
    "\n",
    "\n",
    "# Comparing something gives either a True or False\n",
    "\n",
    "print('True == True: ', True == True)\n",
    "print('True == False: ', True == False)\n",
    "print('False == False:', False == False)"
   ]
  },
  {
   "cell_type": "markdown",
   "id": "d5b72b0a",
   "metadata": {},
   "source": [
    "### In addition to the above comparison operator Python uses:\n",
    "\n",
    "* **is** : Returns true if both variables are the same object(x is y)\n",
    "* **is not** : Returns true if both variables are not the same object(x is not y)\n",
    "* **in**: Returns True if the queried list contains a certain item(x in y)\n",
    "* **not in**: Returns True if the queried list doesn't have a certain item(x in y)"
   ]
  },
  {
   "cell_type": "code",
   "execution_count": 17,
   "id": "95ae222b",
   "metadata": {},
   "outputs": [],
   "source": [
    "print('1 is 1', 1 is 1)                   # True - because the data values are the same\n",
    "print('1 is not 2', 1 is not 2)           # True - because 1 is not 2\n",
    "print('A in Asabeneh', 'A' in 'Asabeneh') # True - A found in the string\n",
    "print('B in Asabeneh', 'B' in 'Asabeneh') # False - there is no uppercase B\n",
    "print('coding' in 'coding for all') # True - because coding for all has the word coding\n",
    "print('a in an:', 'a' in 'an')      # True\n",
    "print('4 is 2 ** 2:', 4 is 2 ** 2) "
   ]
  },
  {
   "cell_type": "markdown",
   "id": "23854a81",
   "metadata": {},
   "source": [
    "## Logical Operators\n",
    "#### Unlike other programming languages python uses keywords\n",
    "* and\n",
    "* or\n",
    "* not for logical operators. Logical operators are used to combine conditional statements:"
   ]
  },
  {
   "cell_type": "code",
   "execution_count": null,
   "id": "c3bba54c",
   "metadata": {},
   "outputs": [],
   "source": [
    "print(3 > 2 and 4 > 3) # True - because both statements are true\n",
    "print(3 > 2 and 4 < 3) # False - because the second statement is false\n",
    "print(3 < 2 and 4 < 3) # False - because both statements are false\n",
    "print('True and True: ', True and True)\n",
    "print(3 > 2 or 4 > 3)  # True - because both statements are true\n",
    "print(3 > 2 or 4 < 3)  # True - because one of the statements is true\n",
    "print(3 < 2 or 4 < 3)  # False - because both statements are false\n",
    "print('True or False:', True or False)\n",
    "print(not 3 > 2)     # False - because 3 > 2 is true, then not True gives False\n",
    "print(not True)      # False - Negation, the not operator turns true to false\n",
    "print(not False)     # True\n",
    "print(not not True)  # True\n",
    "print(not not False) # False\n"
   ]
  },
  {
   "cell_type": "code",
   "execution_count": 18,
   "id": "e82442b3",
   "metadata": {},
   "outputs": [
    {
     "name": "stdout",
     "output_type": "stream",
     "text": [
      "Declare my age: 24\n"
     ]
    }
   ],
   "source": [
    "# 1.Declare your age as integer variable\n",
    "\n",
    "age = 24\n",
    "print(\"Declare my age:\",age)"
   ]
  },
  {
   "cell_type": "code",
   "execution_count": 19,
   "id": "5116ff9c",
   "metadata": {},
   "outputs": [
    {
     "name": "stdout",
     "output_type": "stream",
     "text": [
      "Declare my height: 5.3\n"
     ]
    }
   ],
   "source": [
    "# 2.Declare your height as a float variable\n",
    "\n",
    "height = 5.3\n",
    "print(\"Declare my height:\", height)"
   ]
  },
  {
   "cell_type": "code",
   "execution_count": 24,
   "id": "47783293",
   "metadata": {},
   "outputs": [
    {
     "name": "stdout",
     "output_type": "stream",
     "text": [
      "Declare a complex number: (2-2j)\n"
     ]
    }
   ],
   "source": [
    "# 3.Declare a variable that store a complex number\n",
    "\n",
    "a = 2-2j\n",
    "print(\"Declare a complex number:\", a)"
   ]
  },
  {
   "cell_type": "code",
   "execution_count": 33,
   "id": "1b386ae2",
   "metadata": {},
   "outputs": [
    {
     "name": "stdout",
     "output_type": "stream",
     "text": [
      "Enter the base:20\n",
      "Enter the height:10\n",
      "The area of the triangle is: 100.0\n"
     ]
    }
   ],
   "source": [
    "# 4.Write a script that prompts the user to enter base and height of the triangle and calculate\n",
    "#an area of this triangle (area = 0.5 x b x h).\n",
    "\n",
    "base = float(input(\"Enter the base:\"))\n",
    "height = float(input(\"Enter the height:\"))\n",
    "area =0.5 * base * height\n",
    "print(\"The area of the triangle is:\",area)\n"
   ]
  },
  {
   "cell_type": "code",
   "execution_count": 5,
   "id": "fe241862",
   "metadata": {},
   "outputs": [
    {
     "name": "stdout",
     "output_type": "stream",
     "text": [
      "Enter the length of side a: 4\n",
      "Enter the length of side b: 4\n",
      "Enter the length of side c: 4\n",
      "The perimeter of the triangle is: 12.0\n"
     ]
    }
   ],
   "source": [
    "# 5.Write a script that prompts the user to enter side a, side b, and side c of the triangle.\n",
    "#Calculate the perimeter of the triangle (perimeter = a + b + c).\n",
    "\n",
    "a = float(input(\"Enter the length of side a: \"))\n",
    "b = float(input(\"Enter the length of side b: \"))\n",
    "c = float(input(\"Enter the length of side c: \"))\n",
    "\n",
    "\n",
    "perimeter = a + b + c\n",
    "\n",
    "\n",
    "print(\"The perimeter of the triangle is:\", perimeter)\n"
   ]
  },
  {
   "cell_type": "code",
   "execution_count": 6,
   "id": "084aceac",
   "metadata": {},
   "outputs": [
    {
     "name": "stdout",
     "output_type": "stream",
     "text": [
      "perimeter: 18\n"
     ]
    }
   ],
   "source": [
    "# 6.Get length and width of a rectangle using prompt. Calculate its area (area = length x width) and \n",
    "#perimeter (perimeter = 2 x (length + width))\n",
    "\n",
    "l = 4\n",
    "w = 5\n",
    "perimeter = 2 * (l+w)\n",
    "print(\"perimeter:\", perimeter)"
   ]
  },
  {
   "cell_type": "code",
   "execution_count": 7,
   "id": "399f3950",
   "metadata": {},
   "outputs": [
    {
     "name": "stdout",
     "output_type": "stream",
     "text": [
      "4.0\n"
     ]
    }
   ],
   "source": [
    "# 7.Get radius of a circle using prompt. Calculate the area (area = pi x r x r) and circumference (c = 2 x pi x r) where pi = 3.14.\n",
    "\n",
    "r = 4\n",
    "area = 2 * 3.14 * 4\n",
    "print(a)"
   ]
  },
  {
   "cell_type": "code",
   "execution_count": 8,
   "id": "ae04f30b",
   "metadata": {},
   "outputs": [
    {
     "name": "stdout",
     "output_type": "stream",
     "text": [
      "Equation: y = 2x - 2\n",
      "Slope: 2\n",
      "X-intercept: 1.0\n",
      "Y-intercept: -2\n"
     ]
    }
   ],
   "source": [
    "# 8.Calculate the slope, x-intercept and y-intercept of y = 2x -2\n",
    "\n",
    "slope = 2\n",
    "y_intercept = -2\n",
    "\n",
    "x_intercept = -y_intercept / slope\n",
    "\n",
    "print(\"Equation: y = 2x - 2\")\n",
    "print(\"Slope:\", slope)\n",
    "print(\"X-intercept:\", x_intercept)\n",
    "print(\"Y-intercept:\", y_intercept)\n"
   ]
  },
  {
   "cell_type": "code",
   "execution_count": 9,
   "id": "8fc5d044",
   "metadata": {},
   "outputs": [
    {
     "name": "stdout",
     "output_type": "stream",
     "text": [
      "Slope: 2.0\n",
      "Euclidean Distance: 8.94427190999916\n"
     ]
    }
   ],
   "source": [
    " # 9.Slope is (m = y2-y1/x2-x1). Find the slope and Euclidean distance between point (2, 2) and point (6,10)\n",
    "\n",
    "import math\n",
    "\n",
    "x1, y1 = 2, 2\n",
    "x2, y2 = 6, 10\n",
    "\n",
    "# Calculating the slope\n",
    "slope = (y2 - y1) / (x2 - x1)\n",
    "\n",
    "# Calculating the Euclidean distance\n",
    "distance = math.sqrt((x2 - x1)**2 + (y2 - y1)**2)\n",
    "\n",
    "# Displaying the results\n",
    "print(\"Slope:\", slope)\n",
    "print(\"Euclidean Distance:\", distance)\n"
   ]
  },
  {
   "cell_type": "code",
   "execution_count": 13,
   "id": "e486885d",
   "metadata": {},
   "outputs": [
    {
     "name": "stdout",
     "output_type": "stream",
     "text": [
      "Number  1st Power  2nd Power  3rd Power  4th Power\n",
      "1      1          1          1          1          \n",
      "2      2          4          8          16         \n",
      "3      3          9          27         81         \n",
      "4      4          16         64         256        \n",
      "5      5          25         125        625        \n"
     ]
    }
   ],
   "source": [
    "# 10. Write a Python script that displays the following table\n",
    "#1 1 1 1 1\n",
    "#2 1 2 4 8\n",
    "#3 1 3 9 27\n",
    "#4 1 4 16 64\n",
    "#5 1 5 25 125#\n",
    "\n",
    "print(\"Number  1st Power  2nd Power  3rd Power  4th Power\")\n",
    "for number in range(1, 6):\n",
    "    power_1 = number ** 1\n",
    "    power_2 = number ** 2\n",
    "    power_3 = number ** 3\n",
    "    power_4 = number ** 4\n",
    "    print(f\"{number:<7}{power_1:<11}{power_2:<11}{power_3:<11}{power_4:<11}\")\n"
   ]
  },
  {
   "cell_type": "code",
   "execution_count": null,
   "id": "83ec44bb",
   "metadata": {},
   "outputs": [],
   "source": []
  }
 ],
 "metadata": {
  "kernelspec": {
   "display_name": "Python 3 (ipykernel)",
   "language": "python",
   "name": "python3"
  },
  "language_info": {
   "codemirror_mode": {
    "name": "ipython",
    "version": 3
   },
   "file_extension": ".py",
   "mimetype": "text/x-python",
   "name": "python",
   "nbconvert_exporter": "python",
   "pygments_lexer": "ipython3",
   "version": "3.9.12"
  }
 },
 "nbformat": 4,
 "nbformat_minor": 5
}
