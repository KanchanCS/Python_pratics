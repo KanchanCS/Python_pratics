{
 "cells": [
  {
   "cell_type": "markdown",
   "id": "336cc7f0",
   "metadata": {},
   "source": [
    "```python\n",
    "A function is a reusable block of code or programming statements designed to perform a certain task. To define or declare a function, Python provides the def keyword. The following is the syntax for defining a function. The function block of code is executed only if the function is called or invoked.\n",
    "# syntax\n",
    "# Declaring a function\n",
    "def function_name():\n",
    "    codes\n",
    "    codes\n",
    "# Calling a function\n",
    "function_name()\n",
    "```"
   ]
  },
  {
   "cell_type": "markdown",
   "id": "8c9de58e",
   "metadata": {},
   "source": [
    "## <span style='color:red'> Function without Parameters </span>\n",
    "#### Function can be declared without parameters."
   ]
  },
  {
   "cell_type": "code",
   "execution_count": 11,
   "id": "416ce815",
   "metadata": {},
   "outputs": [
    {
     "name": "stdout",
     "output_type": "stream",
     "text": [
      "7\n"
     ]
    }
   ],
   "source": [
    "def add_two_number():\n",
    "    num1 = 2\n",
    "    num2 = 5\n",
    "    total = num1 + num2\n",
    "    print(total)\n",
    "add_two_number()    "
   ]
  },
  {
   "cell_type": "code",
   "execution_count": 12,
   "id": "03b36617",
   "metadata": {},
   "outputs": [
    {
     "name": "stdout",
     "output_type": "stream",
     "text": [
      "kanchan yadav\n"
     ]
    }
   ],
   "source": [
    "def name():\n",
    "    first_name = \"kanchan\"\n",
    "    last_name = \"yadav\"\n",
    "    add = first_name + \" \" + last_name\n",
    "    print(add)\n",
    "name()    "
   ]
  },
  {
   "cell_type": "markdown",
   "id": "ded17a92",
   "metadata": {},
   "source": [
    "## <span style='color:red'> Function Returning a Value - Part 1 </span>"
   ]
  },
  {
   "cell_type": "code",
   "execution_count": 15,
   "id": "01f37700",
   "metadata": {},
   "outputs": [
    {
     "name": "stdout",
     "output_type": "stream",
     "text": [
      "10\n"
     ]
    }
   ],
   "source": [
    "def add_two_number():\n",
    "    num1 = 5\n",
    "    num2 = 5\n",
    "    total = num1 + num2 \n",
    "    return (total)\n",
    "print(add_two_number())"
   ]
  },
  {
   "cell_type": "code",
   "execution_count": 21,
   "id": "23270f12",
   "metadata": {},
   "outputs": [
    {
     "name": "stdout",
     "output_type": "stream",
     "text": [
      "jon din\n"
     ]
    }
   ],
   "source": [
    "def name():\n",
    "    fname = \"jon\"\n",
    "    lname = \"din\"\n",
    "    add = fname + \" \" + lname\n",
    "    return (add)\n",
    "print(name())"
   ]
  },
  {
   "cell_type": "markdown",
   "id": "644826ee",
   "metadata": {},
   "source": [
    "## <span style='color:red'>Function with Parameters  </span>\n",
    "** In a function we can pass different data types(number, string, boolean, list, tuple, dictionary or set) as a parameter\n",
    "\n",
    "** Single Parameter: If our function takes a parameter we should call our function with an argument\n",
    "  ```python\n",
    "  # syntax\n",
    "  # Declaring a function\n",
    "  def function_name(parameter):\n",
    "    codes\n",
    "    codes\n",
    "  # Calling function\n",
    "  print(function_name(argument))\n",
    "  ```  "
   ]
  },
  {
   "cell_type": "code",
   "execution_count": 67,
   "id": "eccd3f77",
   "metadata": {},
   "outputs": [
    {
     "name": "stdout",
     "output_type": "stream",
     "text": [
      "ExcelR Pvt LTD\n",
      "**************************************************\n",
      "bhau Dog\n",
      "**************************************************\n",
      "+91 111222333\n",
      "**************************************************\n",
      "100\n",
      "**************************************************\n",
      "341.0\n"
     ]
    }
   ],
   "source": [
    "def person(name):\n",
    "    message = name + \"Pvt LTD\"\n",
    "    return message\n",
    "print(person(\"ExcelR \"))\n",
    "\n",
    "print(\"*\" * 50)\n",
    "\n",
    "def dog(voice):\n",
    "    name = voice + \"Dog\"\n",
    "    return name\n",
    "print(dog(\"bhau \"))\n",
    "\n",
    "print(\"*\" * 50)\n",
    "\n",
    "def mobile(NO):\n",
    "    num = \"+91\"\n",
    "    return num + NO\n",
    "print(mobile(' 111222333'))\n",
    "\n",
    "print(\"*\" * 50)\n",
    "\n",
    "def square(num):\n",
    "    return num ** 2\n",
    "print(square(10))\n",
    "\n",
    "print(\"*\" * 50)\n",
    "\n",
    "def area_of_circle(a):\n",
    "    PI = 3.41\n",
    "    area =  PI * a **2\n",
    "    return area\n",
    "print(area_of_circle(10))"
   ]
  },
  {
   "cell_type": "markdown",
   "id": "b48b2fa8",
   "metadata": {},
   "source": [
    "* Two Parameter: A function may or may not have a parameter or parameters. A function may also have two or more parameters. If our function takes parameters we should call it with arguments. Let us check a function with two parameters:\n",
    "```python\n",
    "  # syntax\n",
    "  # Declaring a function\n",
    "  def function_name(para1, para2):\n",
    "    codes\n",
    "    codes\n",
    "  # Calling function\n",
    "  print(function_name(arg1, arg2))\n",
    " ```   "
   ]
  },
  {
   "cell_type": "code",
   "execution_count": 82,
   "id": "b3e20115",
   "metadata": {},
   "outputs": [
    {
     "name": "stdout",
     "output_type": "stream",
     "text": [
      "Full Name: kanchan yadav\n",
      "Add two number :  3\n",
      "Age:  202\n",
      "Weight of an object in Newtons:  981.0 N\n"
     ]
    }
   ],
   "source": [
    "def name(fname, lname):\n",
    "    fullname = fname + \" \" + lname\n",
    "    return fullname\n",
    "print(\"Full Name:\", name(\"kanchan\",\"yadav\"))  \n",
    "#**********************************************************   \n",
    "def sum_of_two_number(num1, num2):\n",
    "    sum = num1 + num2\n",
    "    return(sum)\n",
    "print('Add two number : ',sum_of_two_number(1, 2))\n",
    "#**********************************************************\n",
    "def calculate_age (current_year, birth_year):\n",
    "    age = current_year - birth_year\n",
    "    return age;\n",
    "print('Age: ', calculate_age(2021, 1819))\n",
    "#**********************************************************\n",
    "def weight_of_object (mass, gravity):\n",
    "    weight = str(mass * gravity)+ ' N' \n",
    "    return weight\n",
    "print('Weight of an object in Newtons: ', weight_of_object(100, 9.81))"
   ]
  },
  {
   "cell_type": "markdown",
   "id": "1808b991",
   "metadata": {},
   "source": [
    "## Passing Arguments with Key and Value\n",
    "* If we pass the arguments with key and value, the order of the arguments does not matter.\n",
    "```python\n",
    "# syntax\n",
    "# Declaring a function\n",
    "def function_name(para1, para2):\n",
    "    codes\n",
    "    codes\n",
    "# Calling function\n",
    "print(function_name(para1 = 'John', para2 = 'Doe')) # the order of arguments does not matter here\n",
    "```"
   ]
  },
  {
   "cell_type": "code",
   "execution_count": 86,
   "id": "f14e09c5",
   "metadata": {},
   "outputs": [
    {
     "name": "stdout",
     "output_type": "stream",
     "text": [
      "kanchan yadav\n",
      "5\n",
      "None\n"
     ]
    }
   ],
   "source": [
    "def name(fname, lname):\n",
    "    name = fname + \" \" + lname\n",
    "    return name\n",
    "print(name(fname=\"kanchan\", lname=\"yadav\"))\n",
    "#****************************************************\n",
    "def add_two_numbers (num1, num2):\n",
    "    total = num1 + num2\n",
    "    print(total)\n",
    "print(add_two_numbers(num2 = 3, num1 = 2))"
   ]
  },
  {
   "cell_type": "code",
   "execution_count": 93,
   "id": "fb8b2942",
   "metadata": {},
   "outputs": [
    {
     "data": {
      "text/plain": [
       "'Asabeneh Yetayeh'"
      ]
     },
     "execution_count": 93,
     "metadata": {},
     "output_type": "execute_result"
    }
   ],
   "source": [
    "def print_full_name(firstname, lastname):\n",
    "    space = ' '\n",
    "    full_name = firstname  + space + lastname\n",
    "    return full_name\n",
    "print_full_name(firstname='Asabeneh', lastname='Yetayeh')"
   ]
  },
  {
   "cell_type": "code",
   "execution_count": 96,
   "id": "8002b1a2",
   "metadata": {},
   "outputs": [
    {
     "name": "stdout",
     "output_type": "stream",
     "text": [
      "Sum:  5\n",
      "Age:  200\n"
     ]
    }
   ],
   "source": [
    "def add_two_numbers (num1, num2):\n",
    "    total = num1 + num2\n",
    "    return total\n",
    "print(\"Sum: \",add_two_numbers(2, 3))\n",
    "\n",
    "def calculate_age (current_year, birth_year):\n",
    "    age = current_year - birth_year\n",
    "    return age;\n",
    "print('Age: ', calculate_age(2019, 1819))"
   ]
  },
  {
   "cell_type": "markdown",
   "id": "1328cab0",
   "metadata": {},
   "source": [
    "## even odd"
   ]
  },
  {
   "cell_type": "code",
   "execution_count": 107,
   "id": "fd65eefb",
   "metadata": {},
   "outputs": [
    {
     "name": "stdout",
     "output_type": "stream",
     "text": [
      "even\n",
      "True\n"
     ]
    }
   ],
   "source": [
    "def num(n):\n",
    "    if n % 2 == 0:\n",
    "        print(\"even\")\n",
    "        return True\n",
    "    return False\n",
    "print(num(10))"
   ]
  },
  {
   "cell_type": "code",
   "execution_count": 108,
   "id": "c2dedd63",
   "metadata": {},
   "outputs": [
    {
     "name": "stdout",
     "output_type": "stream",
     "text": [
      "odd\n",
      "True\n"
     ]
    }
   ],
   "source": [
    "def num(n):\n",
    "    if n % 3 == 0:\n",
    "        print(\"odd\")\n",
    "        return True\n",
    "    return False\n",
    "print(num(9))"
   ]
  },
  {
   "cell_type": "code",
   "execution_count": 114,
   "id": "3de1b61a",
   "metadata": {},
   "outputs": [
    {
     "name": "stdout",
     "output_type": "stream",
     "text": [
      "[0, 2, 4, 6, 8, 10]\n"
     ]
    }
   ],
   "source": [
    "def num(n):\n",
    "    even = []\n",
    "    for i in range(n+1):\n",
    "        if i % 2 == 0:\n",
    "             even.append(i)\n",
    "    return even\n",
    "print(num(10))"
   ]
  },
  {
   "cell_type": "code",
   "execution_count": 117,
   "id": "7f0b3af3",
   "metadata": {},
   "outputs": [
    {
     "name": "stdout",
     "output_type": "stream",
     "text": [
      "[0, 2, 4, 6, 8, 10, 12, 14, 16, 18, 20, 22, 24, 26, 28, 30, 32, 34, 36, 38, 40, 42, 44, 46, 48, 50, 52, 54, 56, 58, 60, 62, 64, 66, 68, 70, 72, 74, 76, 78, 80, 82, 84, 86, 88, 90, 92, 94, 96, 98, 100]\n"
     ]
    }
   ],
   "source": [
    "def num(n):\n",
    "    even = []\n",
    "    for i in range(n + 1):\n",
    "        if i % 2 == 0:\n",
    "            even.append(i)\n",
    "    return even\n",
    "print(num(100))\n",
    "    "
   ]
  },
  {
   "cell_type": "markdown",
   "id": "db606426",
   "metadata": {},
   "source": [
    "## Function with Default Parameters\n",
    "###### Sometimes we pass default values to parameters, when we invoke the function. If we do not pass arguments when calling the function, their default values will be used.\n",
    "```python\n",
    "# syntax\n",
    "# Declaring a function\n",
    "def function_name(param = value):\n",
    "    codes\n",
    "    codes\n",
    "# Calling function\n",
    "function_name()\n",
    "function_name(arg)\n",
    "```"
   ]
  },
  {
   "cell_type": "code",
   "execution_count": 124,
   "id": "d3b3e4ae",
   "metadata": {},
   "outputs": [
    {
     "name": "stdout",
     "output_type": "stream",
     "text": [
      "Weight of an object in Newtons:  981.0 N\n",
      "Weight of an object in Newtons:  162.0 N\n"
     ]
    }
   ],
   "source": [
    "def weight_of_object (mass, gravity = 9.81):\n",
    "    weight = str(mass * gravity)+ ' N' \n",
    "    return weight\n",
    "print('Weight of an object in Newtons: ', weight_of_object(100)) \n",
    "print('Weight of an object in Newtons: ', weight_of_object(100, 1.62))"
   ]
  },
  {
   "cell_type": "code",
   "execution_count": 125,
   "id": "26fb127d",
   "metadata": {},
   "outputs": [
    {
     "name": "stdout",
     "output_type": "stream",
     "text": [
      "Peter, welcome to Python for Everyone!\n",
      "kanchan, welcome to Python for Everyone!\n"
     ]
    }
   ],
   "source": [
    "def greetings (name = 'Peter'):\n",
    "    message = name + ', welcome to Python for Everyone!'\n",
    "    return message\n",
    "print(greetings())\n",
    "print(greetings(\"kanchan\"))"
   ]
  },
  {
   "cell_type": "code",
   "execution_count": 126,
   "id": "f470a3d9",
   "metadata": {},
   "outputs": [
    {
     "name": "stdout",
     "output_type": "stream",
     "text": [
      "Asabeneh Yetayeh\n",
      "David Smith\n"
     ]
    }
   ],
   "source": [
    "def generate_full_name (first_name = 'Asabeneh', last_name = 'Yetayeh'):\n",
    "    space = ' '\n",
    "    full_name = first_name + space + last_name\n",
    "    return full_name\n",
    "print(generate_full_name())\n",
    "print(generate_full_name('David','Smith')) "
   ]
  },
  {
   "cell_type": "code",
   "execution_count": 127,
   "id": "7dda7b7c",
   "metadata": {},
   "outputs": [
    {
     "name": "stdout",
     "output_type": "stream",
     "text": [
      "Age:  200\n"
     ]
    }
   ],
   "source": [
    "def calculate_age (birth_year,current_year = 2021):\n",
    "    age = current_year - birth_year\n",
    "    return age;\n",
    "print('Age: ', calculate_age(1821))"
   ]
  },
  {
   "cell_type": "code",
   "execution_count": 139,
   "id": "428a9e24",
   "metadata": {},
   "outputs": [
    {
     "name": "stdout",
     "output_type": "stream",
     "text": [
      "[1, 2, 3, 4, 5]\n"
     ]
    }
   ],
   "source": [
    "def list1(a):\n",
    "    b = list(reversed(a))\n",
    "    return b\n",
    "print(list1([5, 4, 3, 2, 1]))\n"
   ]
  },
  {
   "cell_type": "code",
   "execution_count": 142,
   "id": "7c99790a",
   "metadata": {},
   "outputs": [
    {
     "name": "stdout",
     "output_type": "stream",
     "text": [
      "['C', 'B', 'A']\n"
     ]
    }
   ],
   "source": [
    "def list1(a):\n",
    "    b = [s.capitalize() for s in a]\n",
    "    return b\n",
    "print(list1(['c', 'B', 'A']))\n"
   ]
  },
  {
   "cell_type": "code",
   "execution_count": 143,
   "id": "118d33db",
   "metadata": {},
   "outputs": [
    {
     "name": "stdout",
     "output_type": "stream",
     "text": [
      "['Potato', 'Tomato', 'Milk']\n",
      "[2, 7, 9]\n"
     ]
    }
   ],
   "source": [
    "#Declare a function named remove_item. It takes a list and an item parameters. It returns a list with the item removed from it.\n",
    "def remove_item(lst, item):\n",
    "    if item in lst:\n",
    "        lst.remove(item)\n",
    "    return lst\n",
    "\n",
    "food_staff = ['Potato', 'Tomato', 'Mango', 'Milk']\n",
    "print(remove_item(food_staff, 'Mango')) \n",
    "\n",
    "numbers = [2, 3, 7, 9]\n",
    "print(remove_item(numbers, 3)) \n"
   ]
  },
  {
   "cell_type": "code",
   "execution_count": 144,
   "id": "0e3b89d1",
   "metadata": {},
   "outputs": [
    {
     "name": "stdout",
     "output_type": "stream",
     "text": [
      "15\n",
      "55\n",
      "5050\n"
     ]
    }
   ],
   "source": [
    "#Declare a function named sum_of_numbers. It takes a number parameter and it adds all the numbers in that range.\n",
    "def sum_of_numbers(num):\n",
    "    return sum(range(1, num + 1))\n",
    "\n",
    "print(sum_of_numbers(5))    \n",
    "print(sum_of_numbers(10))  \n",
    "print(sum_of_numbers(100)) \n"
   ]
  },
  {
   "cell_type": "code",
   "execution_count": null,
   "id": "2b4cdd84",
   "metadata": {},
   "outputs": [],
   "source": []
  }
 ],
 "metadata": {
  "kernelspec": {
   "display_name": "Python 3 (ipykernel)",
   "language": "python",
   "name": "python3"
  },
  "language_info": {
   "codemirror_mode": {
    "name": "ipython",
    "version": 3
   },
   "file_extension": ".py",
   "mimetype": "text/x-python",
   "name": "python",
   "nbconvert_exporter": "python",
   "pygments_lexer": "ipython3",
   "version": "3.9.12"
  }
 },
 "nbformat": 4,
 "nbformat_minor": 5
}
