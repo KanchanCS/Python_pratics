{
 "cells": [
  {
   "cell_type": "markdown",
   "id": "d9b0d068",
   "metadata": {},
   "source": [
    "```python\n",
    "Classes and Objects\n",
    "Python is an object oriented programming language. Everything in Python is an object, with its properties and methods. A number, string, list, dictionary, tuple, set etc. used in a program is an object of a corresponding built-in class. We create class to create an object. A class is like an object constructor, or a \"blueprint\" for creating objects. We instantiate a class to create an object. The class defines attributes and the behavior of the object, while the object, on the other hand, represents the class.\n",
    "\n",
    "We have been working with classes and objects right from the beginning of this challenge unknowingly. Every element in a Python program is an object of a class. Let us check if everything in python is a class:\n",
    "```    "
   ]
  },
  {
   "cell_type": "code",
   "execution_count": null,
   "id": "8df5dd63",
   "metadata": {},
   "outputs": [],
   "source": [
    "#Type \"help\", \"copyright\", \"credits\" or \"license\" for more information.\n",
    "num = 10\n",
    "type(num)\n",
    "<class 'int'>\n",
    "string = 'string'\n",
    "type(string)\n",
    "<class 'str'>\n",
    "boolean = True\n",
    "type(boolean)\n",
    "<class 'bool'>\n",
    "lst = []\n",
    "type(lst)\n",
    "<class 'list'>\n",
    "tpl = ()\n",
    "type(tpl)\n",
    "<class 'tuple'>\n",
    "set1 = set()\n",
    "type(set1)\n",
    "<class 'set'>\n",
    "dct = {}\n",
    "type(dct)\n",
    "<class 'dict'>"
   ]
  },
  {
   "cell_type": "markdown",
   "id": "2d55a6ed",
   "metadata": {},
   "source": [
    "## Creating a Class\n",
    "To create a class we need the key word class followed by the name and colon. Class name should be CamelCase.\n",
    "```python\n",
    "# syntax\n",
    "class ClassName:\n",
    "  code goes here\n",
    "```"
   ]
  },
  {
   "cell_type": "code",
   "execution_count": 11,
   "id": "dfbc30d8",
   "metadata": {},
   "outputs": [
    {
     "name": "stdout",
     "output_type": "stream",
     "text": [
      "<class '__main__.person'>\n"
     ]
    }
   ],
   "source": [
    "class person:\n",
    "    pass\n",
    "print(person)"
   ]
  },
  {
   "cell_type": "markdown",
   "id": "f35450a0",
   "metadata": {},
   "source": [
    "```python\n",
    "Creating an Object\n",
    "We can create an object by calling the class.\n",
    "\n",
    "p = Person()\n",
    "print(p)\n",
    "```"
   ]
  },
  {
   "cell_type": "markdown",
   "id": "22aee8cd",
   "metadata": {},
   "source": [
    "### Class Constructor\n",
    "```python\n",
    "In the examples above, we have created an object from the Person class. However, a class without a constructor is not really useful in real applications. Let us use constructor function to make our class more useful. Like the constructor function in Java or JavaScript, Python has also a built-in init() constructor function. The init constructor function has self parameter which is a reference to the current instance of the class\n",
    "```"
   ]
  },
  {
   "cell_type": "code",
   "execution_count": 13,
   "id": "0fcc6a2b",
   "metadata": {},
   "outputs": [
    {
     "name": "stdout",
     "output_type": "stream",
     "text": [
      "Asabeneh\n"
     ]
    }
   ],
   "source": [
    "class Person:\n",
    "      def __init__ (self, name):\n",
    "        # self allows to attach parameter to the class\n",
    "          self.name =name\n",
    "\n",
    "p = Person('Asabeneh')\n",
    "print(p.name)\n"
   ]
  },
  {
   "cell_type": "code",
   "execution_count": 21,
   "id": "86bd6b67",
   "metadata": {},
   "outputs": [
    {
     "name": "stdout",
     "output_type": "stream",
     "text": [
      "kanchan\n",
      "yadav\n",
      "24\n"
     ]
    }
   ],
   "source": [
    "class person:\n",
    "    def __init__(self,fname, lname, age):\n",
    "        self.fname = fname\n",
    "        self.lname = lname\n",
    "        self.age = age\n",
    "p = person(\"kanchan\", \"yadav\", 24)\n",
    "print(p.fname)\n",
    "print(p.lname)\n",
    "print(p.age)"
   ]
  },
  {
   "cell_type": "markdown",
   "id": "876d1059",
   "metadata": {},
   "source": [
    "##### Object Methods\n",
    "* Objects can have methods. The methods are functions which belong to the object."
   ]
  },
  {
   "cell_type": "code",
   "execution_count": 24,
   "id": "b070c504",
   "metadata": {},
   "outputs": [
    {
     "name": "stdout",
     "output_type": "stream",
     "text": [
      "kanchan Yadav is 24 years old. He lives in Noida, India\n"
     ]
    }
   ],
   "source": [
    "class Person:\n",
    "    def __init__(self, firstname, lastname, age, country, city):\n",
    "        self.firstname = firstname\n",
    "        self.lastname = lastname\n",
    "        self.age = age\n",
    "        self.country = country\n",
    "        self.city = city\n",
    "    def person_info(self):\n",
    "        return f'{self.firstname} {self.lastname} is {self.age} years old. He lives in {self.city}, {self.country}'\n",
    "p = Person('kanchan', 'Yadav', 24, 'India', 'Noida')\n",
    "print(p.person_info())"
   ]
  },
  {
   "cell_type": "code",
   "execution_count": null,
   "id": "953503be",
   "metadata": {},
   "outputs": [],
   "source": []
  }
 ],
 "metadata": {
  "kernelspec": {
   "display_name": "Python 3 (ipykernel)",
   "language": "python",
   "name": "python3"
  },
  "language_info": {
   "codemirror_mode": {
    "name": "ipython",
    "version": 3
   },
   "file_extension": ".py",
   "mimetype": "text/x-python",
   "name": "python",
   "nbconvert_exporter": "python",
   "pygments_lexer": "ipython3",
   "version": "3.9.12"
  }
 },
 "nbformat": 4,
 "nbformat_minor": 5
}
