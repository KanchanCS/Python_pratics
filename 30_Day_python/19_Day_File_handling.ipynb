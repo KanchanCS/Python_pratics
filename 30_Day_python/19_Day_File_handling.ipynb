{
 "cells": [
  {
   "cell_type": "markdown",
   "id": "6f045169",
   "metadata": {},
   "source": [
    "### File Handling\n",
    "* So far we have seen different Python data types. We usually store our data in different file formats. In addition to handling files, we will also see different file formats(.txt, .json, .xml, .csv, .tsv, .excel) in this section. First, let us get familiar with handling files with common file format(.txt).\n",
    "\n",
    "* File handling is an import part of programming which allows us to create, read, update and delete files. In Python to handle data we use open() built-in function.\n",
    "```python\n",
    "# Syntax\n",
    "open('filename', mode) # mode(r, a, w, x, t,b)  could be to read, write, update\n",
    "```\n",
    "* \"r\" - Read - Default value. Opens a file for reading, it returns an error if the file does not exist\n",
    "* \"a\" - Append - Opens a file for appending, creates the file if it does not exist\n",
    "* \"w\" - Write - Opens a file for writing, creates the file if it does not exist\n",
    "* \"x\" - Create - Creates the specified file, returns an error if the file exists\n",
    "* \"t\" - Text - Default value. Text mode\n",
    "* \"b\" - Binary - Binary mode (e.g. images)"
   ]
  },
  {
   "cell_type": "markdown",
   "id": "6acd2ee2",
   "metadata": {},
   "source": [
    "### Opening Files for Reading\n",
    "* The default mode of open is reading, so we do not have to specify 'r' or 'rt'. I have created and saved a file named reading_file_example.txt in the files directory. Let us see how it is done:"
   ]
  },
  {
   "cell_type": "code",
   "execution_count": 2,
   "id": "a367cf0f",
   "metadata": {},
   "outputs": [
    {
     "name": "stdout",
     "output_type": "stream",
     "text": [
      "<_io.TextIOWrapper name='C:/Users/kanch/Desktop/Excel_File/sample1.txt' mode='r' encoding='cp1252'>\n"
     ]
    }
   ],
   "source": [
    "f = open(\"C:/Users/kanch/Desktop/Excel_File/sample1.txt\")\n",
    "print(f) # <_io.TextIOWrapper name='./files/reading_file_example.txt' mode='r' encoding='UTF-8'>"
   ]
  },
  {
   "cell_type": "markdown",
   "id": "3343ef56",
   "metadata": {},
   "source": [
    "##### As you can see in the example above, I printed the opened file and it gave some information about it. Opened file has different reading methods: read(), readline, readlines. An opened file has to be closed with close() method.\n",
    "\n",
    "* read(): read the whole text as string. If we want to limit the number of characters we want to read, we can limit it by passing int value to the read(number) method."
   ]
  },
  {
   "cell_type": "code",
   "execution_count": 30,
   "id": "d5230fbc",
   "metadata": {},
   "outputs": [
    {
     "name": "stdout",
     "output_type": "stream",
     "text": [
      "<class 'str'>\n",
      "Hello Python Developer\n"
     ]
    }
   ],
   "source": [
    "f = open(\"C:/Users/kanch/Desktop/Excel_File/sample1.txt\")\n",
    "txt = f.read()\n",
    "print(type(txt))\n",
    "print(txt)\n",
    "f.close()"
   ]
  },
  {
   "cell_type": "markdown",
   "id": "6f608fe4",
   "metadata": {},
   "source": [
    "* readline(): read only the first line\n"
   ]
  },
  {
   "cell_type": "code",
   "execution_count": 9,
   "id": "0ca9c61a",
   "metadata": {},
   "outputs": [
    {
     "name": "stdout",
     "output_type": "stream",
     "text": [
      "<class 'str'>\n",
      "Utilitatis causa amicitia est quaesita.\n",
      "\n"
     ]
    }
   ],
   "source": [
    "f = open(\"C:/Users/kanch/Desktop/Excel_File/sample1.txt\")\n",
    "line = f.readline()\n",
    "print(type(line))\n",
    "print(line)\n",
    "f.close()"
   ]
  },
  {
   "cell_type": "markdown",
   "id": "dbf9b2c9",
   "metadata": {},
   "source": [
    "* readlines(): read all the text line by line and returns a list of lines"
   ]
  },
  {
   "cell_type": "code",
   "execution_count": 28,
   "id": "d46b6f91",
   "metadata": {},
   "outputs": [
    {
     "name": "stdout",
     "output_type": "stream",
     "text": [
      "<class 'list'>\n",
      "[\"'Utilitatis causa amicitia est quaesita.\\n\", \"', 'Lorem ipsum dolor sit amet, consectetur adipiscing elit. Collatio igitur ista te nihil iuvat. Honesta oratio, Socratica, Platonis etiam. Primum in nostrane potestate est, quid meminerimus? Duo Reges: constructio interrete. Quid, si etiam iucunda memoria est praeteritorum malorum? Si quidem, inquit, tollerem, sed relinquo. An nisi populari fama?\\n\", \"', '\\n\", \"', 'Quamquam id quidem licebit iis existimare, qui legerint. Summum a vobis bonum voluptas dicitur. At hoc in eo M. Refert tamen, quo modo. Quid sequatur, quid repugnet, vident. Iam id ipsum absurdum, maximum malum neglegi.'\"]\n"
     ]
    }
   ],
   "source": [
    "f = open(\"C:/Users/kanch/Desktop/Excel_File/sample2.txt\")\n",
    "lines = f.readlines()\n",
    "print(type(lines))\n",
    "print(lines)\n",
    "f.close()"
   ]
  },
  {
   "cell_type": "markdown",
   "id": "0b75d852",
   "metadata": {},
   "source": [
    "* Another way to get all the lines as a list is using splitlines():"
   ]
  },
  {
   "cell_type": "code",
   "execution_count": 13,
   "id": "d40832c9",
   "metadata": {},
   "outputs": [
    {
     "name": "stdout",
     "output_type": "stream",
     "text": [
      "<class 'list'>\n",
      "['Utilitatis causa amicitia est quaesita.', 'Lorem ipsum dolor sit amet, consectetur adipiscing elit. Collatio igitur ista te nihil iuvat. Honesta oratio, Socratica, Platonis etiam. Primum in nostrane potestate est, quid meminerimus? Duo Reges: constructio interrete. Quid, si etiam iucunda memoria est praeteritorum malorum? Si quidem, inquit, tollerem, sed relinquo. An nisi populari fama?', '', 'Quamquam id quidem licebit iis existimare, qui legerint. Summum a vobis bonum voluptas dicitur. At hoc in eo M. Refert tamen, quo modo. Quid sequatur, quid repugnet, vident. Iam id ipsum absurdum, maximum malum neglegi.']\n"
     ]
    }
   ],
   "source": [
    "f = open(\"C:/Users/kanch/Desktop/Excel_File/sample1.txt\")\n",
    "lines = f.read().splitlines()\n",
    "print(type(lines))\n",
    "print(lines)\n",
    "f.close()"
   ]
  },
  {
   "cell_type": "markdown",
   "id": "4c3818d8",
   "metadata": {},
   "source": [
    "#### After we open a file, we should close it. There is a high tendency of forgetting to close them. There is a new way of opening files using with - closes the files by itself. Let us rewrite the the previous example with the with method:"
   ]
  },
  {
   "cell_type": "code",
   "execution_count": 20,
   "id": "ea83d2d3",
   "metadata": {},
   "outputs": [
    {
     "name": "stdout",
     "output_type": "stream",
     "text": [
      "<class 'list'>\n",
      "['Utilitatis causa amicitia est quaesita.', 'Lorem ipsum dolor sit amet, consectetur adipiscing elit. Collatio igitur ista te nihil iuvat. Honesta oratio, Socratica, Platonis etiam. Primum in nostrane potestate est, quid meminerimus? Duo Reges: constructio interrete. Quid, si etiam iucunda memoria est praeteritorum malorum? Si quidem, inquit, tollerem, sed relinquo. An nisi populari fama?', '', 'Quamquam id quidem licebit iis existimare, qui legerint. Summum a vobis bonum voluptas dicitur. At hoc in eo M. Refert tamen, quo modo. Quid sequatur, quid repugnet, vident. Iam id ipsum absurdum, maximum malum neglegi.Hello Python']\n"
     ]
    }
   ],
   "source": [
    "with open(\"C:/Users/kanch/Desktop/Excel_File/sample1.txt\") as f:\n",
    "    lines = f.read().splitlines()\n",
    "    print(type(lines))\n",
    "    print(lines)\n"
   ]
  },
  {
   "cell_type": "markdown",
   "id": "63be168f",
   "metadata": {},
   "source": [
    "### Opening Files for Writing and Updating\n",
    "###### To write to an existing file, we must add a mode as parameter to the open() function:\n",
    "\n",
    "* \"a\" - append - will append to the end of the file, if the file does not it creates a new file.\n",
    "* \"w\" - write - will overwrite any existing content, if the file does not exist it creates.\n",
    "###### Let us append some text to the file we have been reading:"
   ]
  },
  {
   "cell_type": "code",
   "execution_count": 23,
   "id": "080838bb",
   "metadata": {},
   "outputs": [],
   "source": [
    "with open(\"C:/Users/kanch/Desktop/Excel_File/sample1.txt\",\"a\") as f:\n",
    "    f.write(\"\\n,Hello Python\")"
   ]
  },
  {
   "cell_type": "code",
   "execution_count": 31,
   "id": "69139689",
   "metadata": {},
   "outputs": [],
   "source": [
    "# The method below creates a new file, if the file does not exist:\n",
    "with open(\"C:/Users/kanch/Desktop/Excel_File/sample1.txt\",\"w\") as f:\n",
    "    f.write(\"Python Developer\")"
   ]
  },
  {
   "cell_type": "markdown",
   "id": "f766af07",
   "metadata": {},
   "source": [
    "### Deleting Files\n",
    "* We have seen in previous section, how to make and remove a directory using os module. Again now, if we want to remove a file we use os module."
   ]
  },
  {
   "cell_type": "code",
   "execution_count": 32,
   "id": "77e1bcd6",
   "metadata": {},
   "outputs": [],
   "source": [
    "import os\n",
    "os.remove('C:/Users/kanch/Desktop/Excel_File/sample1.txt')\n"
   ]
  },
  {
   "cell_type": "code",
   "execution_count": null,
   "id": "82314d2b",
   "metadata": {},
   "outputs": [],
   "source": []
  }
 ],
 "metadata": {
  "kernelspec": {
   "display_name": "Python 3 (ipykernel)",
   "language": "python",
   "name": "python3"
  },
  "language_info": {
   "codemirror_mode": {
    "name": "ipython",
    "version": 3
   },
   "file_extension": ".py",
   "mimetype": "text/x-python",
   "name": "python",
   "nbconvert_exporter": "python",
   "pygments_lexer": "ipython3",
   "version": "3.9.12"
  }
 },
 "nbformat": 4,
 "nbformat_minor": 5
}
