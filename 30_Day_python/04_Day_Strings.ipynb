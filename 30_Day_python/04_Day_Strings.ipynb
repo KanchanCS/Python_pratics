{
 "cells": [
  {
   "cell_type": "markdown",
   "id": "71946c74",
   "metadata": {},
   "source": [
    "# Strings\n",
    "---\n",
    "#### Text is a string data type. Any data type written as text is a string. Any data under single, double or triple quote are strings. There are different string methods and built-in functions to deal with string data types. To check the length of a string use the len() method.\n",
    "\n"
   ]
  },
  {
   "cell_type": "markdown",
   "id": "a056db0d",
   "metadata": {},
   "source": [
    "##### Creating a String"
   ]
  },
  {
   "cell_type": "code",
   "execution_count": 1,
   "id": "c67dbb95",
   "metadata": {},
   "outputs": [
    {
     "name": "stdout",
     "output_type": "stream",
     "text": [
      "P\n",
      "1\n",
      "Hello, World!\n",
      "13\n",
      "I hope you are enjoying 30 days of Python Challenge\n"
     ]
    }
   ],
   "source": [
    "letter = 'P'                # A string could be a single character or a bunch of texts\n",
    "print(letter)               # P\n",
    "print(len(letter))          # 1\n",
    "greeting = 'Hello, World!'  # String could be made using a single or double quote,\"Hello, World!\"\n",
    "print(greeting)             # Hello, World!\n",
    "print(len(greeting))        # 13\n",
    "sentence = \"I hope you are enjoying 30 days of Python Challenge\"\n",
    "print(sentence)"
   ]
  },
  {
   "cell_type": "markdown",
   "id": "3d5e726c",
   "metadata": {},
   "source": [
    "#### Multiline string is created by using triple single (''') or triple double quotes (\"\"\"). See the example below."
   ]
  },
  {
   "cell_type": "code",
   "execution_count": 9,
   "id": "cf05d6dc",
   "metadata": {},
   "outputs": [
    {
     "name": "stdout",
     "output_type": "stream",
     "text": [
      "I am a teacher and enjoy teaching.\n",
      "I didn't find anything as rewarding as empowering people.\n",
      "That is why I created 30 days of python.\n",
      "--------------------------------------------------\n",
      "I am a teacher and enjoy teaching.\n",
      "I didn't find anything as rewarding as empowering people.\n",
      "That is why I created 30 days of python.\n"
     ]
    }
   ],
   "source": [
    "multiline_string = '''I am a teacher and enjoy teaching.\n",
    "I didn't find anything as rewarding as empowering people.\n",
    "That is why I created 30 days of python.'''\n",
    "print(multiline_string)\n",
    "print(\"-\"*50)\n",
    "# Another way of doing the same thing\n",
    "multiline_string = \"\"\"I am a teacher and enjoy teaching.\n",
    "I didn't find anything as rewarding as empowering people.\n",
    "That is why I created 30 days of python.\"\"\"\n",
    "print(multiline_string)"
   ]
  },
  {
   "cell_type": "markdown",
   "id": "fcd0df60",
   "metadata": {},
   "source": [
    "## String Concatenation\n",
    "##### We can connect strings together. Merging or connecting strings is called concatenation. See the example below:"
   ]
  },
  {
   "cell_type": "code",
   "execution_count": 10,
   "id": "aa322dc5",
   "metadata": {},
   "outputs": [
    {
     "name": "stdout",
     "output_type": "stream",
     "text": [
      "Asabeneh Yetayeh\n",
      "8\n",
      "7\n",
      "True\n",
      "16\n"
     ]
    }
   ],
   "source": [
    "first_name = 'Asabeneh'\n",
    "last_name = 'Yetayeh'\n",
    "space = ' '\n",
    "full_name = first_name  +  space + last_name\n",
    "print(full_name) # Asabeneh Yetayeh\n",
    "# Checking the length of a string using len() built-in function\n",
    "print(len(first_name))  # 8\n",
    "print(len(last_name))   # 7\n",
    "print(len(first_name) > len(last_name)) # True\n",
    "print(len(full_name)) # 16"
   ]
  },
  {
   "cell_type": "markdown",
   "id": "69ed5c8a",
   "metadata": {},
   "source": [
    "### Escape Sequences in Strings\n",
    "##### In Python and other programming languages \\ followed by a character is an escape sequence. Let us see the most common escape characters:\n",
    "\n",
    "* \\n: new line\n",
    "* \\t: Tab means(8 spaces)\n",
    "* \\\\: Back slash\n",
    "* \\': Single quote (')\n",
    "* \\\": Double quote (\")\n",
    "###### Now, let us see the use of the above escape sequences with examples."
   ]
  },
  {
   "cell_type": "code",
   "execution_count": 11,
   "id": "134117f3",
   "metadata": {},
   "outputs": [
    {
     "name": "stdout",
     "output_type": "stream",
     "text": [
      "I hope everyone is enjoying the Python Challenge.\n",
      "Are you ?\n",
      "Days\tTopics\tExercises\n",
      "Day 1\t5\t5\n",
      "Day 2\t6\t20\n",
      "Day 3\t5\t23\n",
      "Day 4\t1\t35\n",
      "This is a backslash  symbol (\\)\n",
      "In every programming language it starts with \"Hello, World!\"\n"
     ]
    }
   ],
   "source": [
    "print('I hope everyone is enjoying the Python Challenge.\\nAre you ?') # line break\n",
    "print('Days\\tTopics\\tExercises') # adding tab space or 4 spaces \n",
    "print('Day 1\\t5\\t5')\n",
    "print('Day 2\\t6\\t20')\n",
    "print('Day 3\\t5\\t23')\n",
    "print('Day 4\\t1\\t35')\n",
    "print('This is a backslash  symbol (\\\\)') # To write a backslash\n",
    "print('In every programming language it starts with \\\"Hello, World!\\\"') # to write a double quote inside a single quote"
   ]
  },
  {
   "cell_type": "code",
   "execution_count": 13,
   "id": "9f48c152",
   "metadata": {},
   "outputs": [
    {
     "name": "stdout",
     "output_type": "stream",
     "text": [
      "I am Asabeneh Yetayeh. I teach Python\n",
      "The area of circle with a radius 10 is 314.00.\n",
      "The following are python libraries:['Django', 'Flask', 'NumPy', 'Matplotlib', 'Pandas']\n"
     ]
    }
   ],
   "source": [
    "# Strings only\n",
    "first_name = 'Asabeneh'\n",
    "last_name = 'Yetayeh'\n",
    "language = 'Python'\n",
    "formated_string = 'I am %s %s. I teach %s' %(first_name, last_name, language)\n",
    "print(formated_string)\n",
    "\n",
    "# Strings  and numbers\n",
    "radius = 10\n",
    "pi = 3.14\n",
    "area = pi * radius ** 2\n",
    "formated_string1 = 'The area of circle with a radius %d is %.2f.' %(radius, area) # 2 refers the 2 significant digits after the point\n",
    "print(formated_string1)\n",
    "\n",
    "python_libraries = ['Django', 'Flask', 'NumPy', 'Matplotlib','Pandas']\n",
    "formated_string = 'The following are python libraries:%s' % (python_libraries)\n",
    "print(formated_string) # \"The following are python libraries:['Django', 'Flask', 'NumPy', 'Matplotlib','Pandas']\""
   ]
  },
  {
   "cell_type": "code",
   "execution_count": 15,
   "id": "0e834dbc",
   "metadata": {},
   "outputs": [
    {
     "name": "stdout",
     "output_type": "stream",
     "text": [
      "I am Asabeneh Yetayeh. I teach Python\n"
     ]
    }
   ],
   "source": [
    "first_name = 'Asabeneh'\n",
    "last_name = 'Yetayeh'\n",
    "language = 'Python'\n",
    "formated_string = 'I am {} {}. I teach {}'.format(first_name, last_name, language)\n",
    "print(formated_string)"
   ]
  },
  {
   "cell_type": "code",
   "execution_count": 16,
   "id": "51f6392f",
   "metadata": {},
   "outputs": [
    {
     "name": "stdout",
     "output_type": "stream",
     "text": [
      "4 + 3 = 7\n",
      "4 - 3 = 1\n",
      "4 * 3 = 12\n",
      "4 / 3 = 1.33\n",
      "4 % 3 = 1\n",
      "4 // 3 = 1\n",
      "4 ** 3 = 64\n"
     ]
    }
   ],
   "source": [
    "a = 4\n",
    "b = 3\n",
    "\n",
    "print('{} + {} = {}'.format(a, b, a + b))\n",
    "print('{} - {} = {}'.format(a, b, a - b))\n",
    "print('{} * {} = {}'.format(a, b, a * b))\n",
    "print('{} / {} = {:.2f}'.format(a, b, a / b)) # limits it to two digits after decimal\n",
    "print('{} % {} = {}'.format(a, b, a % b))\n",
    "print('{} // {} = {}'.format(a, b, a // b))\n",
    "print('{} ** {} = {}'.format(a, b, a ** b))"
   ]
  },
  {
   "cell_type": "code",
   "execution_count": 19,
   "id": "ba3c0256",
   "metadata": {},
   "outputs": [
    {
     "name": "stdout",
     "output_type": "stream",
     "text": [
      "The area of a circle with a radius 10 is 314.00.\n"
     ]
    }
   ],
   "source": [
    "# Strings  and numbers\n",
    "radius = 10\n",
    "pi = 3.14\n",
    "area = pi * radius ** 2\n",
    "formated_string = 'The area of a circle with a radius {} is {:.2f}.'.format(radius, area) # 2 digits after decimal\n",
    "print(formated_string)"
   ]
  },
  {
   "cell_type": "markdown",
   "id": "7cff662e",
   "metadata": {},
   "source": [
    "##### unpacking sequence"
   ]
  },
  {
   "cell_type": "code",
   "execution_count": 18,
   "id": "62990792",
   "metadata": {},
   "outputs": [
    {
     "name": "stdout",
     "output_type": "stream",
     "text": [
      "P\n",
      "y\n",
      "t\n",
      "h\n",
      "o\n",
      "n\n"
     ]
    }
   ],
   "source": [
    "language = 'Python'\n",
    "a,b,c,d,e,f = language # unpacking sequence characters into variables\n",
    "print(a) # P\n",
    "print(b) # y\n",
    "print(c) # t\n",
    "print(d) # h\n",
    "print(e) # o\n",
    "print(f) # n"
   ]
  },
  {
   "cell_type": "markdown",
   "id": "6226b8f9",
   "metadata": {},
   "source": [
    "### Accessing Characters in Strings by Index"
   ]
  },
  {
   "cell_type": "code",
   "execution_count": 24,
   "id": "9d7a8d9f",
   "metadata": {},
   "outputs": [
    {
     "name": "stdout",
     "output_type": "stream",
     "text": [
      "P\n",
      "y\n",
      "n\n"
     ]
    }
   ],
   "source": [
    "language = 'Python'\n",
    "first_letter = language[0]\n",
    "print(first_letter)\n",
    "\n",
    "second_letter = language[1]\n",
    "print(second_letter)\n",
    "\n",
    "#last_index = len(language) - 1\n",
    "last_letter = language[last_index]\n",
    "print(last_letter) "
   ]
  },
  {
   "cell_type": "markdown",
   "id": "beefad6b",
   "metadata": {},
   "source": [
    "###### If we want to start from right end we can use negative indexing. -1 is the last index."
   ]
  },
  {
   "cell_type": "code",
   "execution_count": 25,
   "id": "1a55fb1b",
   "metadata": {},
   "outputs": [
    {
     "name": "stdout",
     "output_type": "stream",
     "text": [
      "n\n",
      "o\n"
     ]
    }
   ],
   "source": [
    "language = 'Python'\n",
    "last_letter = language[-1]\n",
    "print(last_letter) \n",
    "\n",
    "second_last = language[-2]\n",
    "print(second_last) "
   ]
  },
  {
   "cell_type": "markdown",
   "id": "0761093b",
   "metadata": {},
   "source": [
    "### Slicing Python Strings\n",
    "###### In python we can slice strings into substrings."
   ]
  },
  {
   "cell_type": "code",
   "execution_count": 26,
   "id": "7806c112",
   "metadata": {},
   "outputs": [
    {
     "name": "stdout",
     "output_type": "stream",
     "text": [
      "Pyt\n",
      "hon\n",
      "hon\n",
      "hon\n"
     ]
    }
   ],
   "source": [
    "language = 'Python'\n",
    "first_three = language[0:3] # starts at zero index and up to 3 but not include 3\n",
    "print(first_three) \n",
    "last_three = language[3:6]\n",
    "print(last_three) \n",
    "# Another way\n",
    "last_three = language[-3:]\n",
    "print(last_three)  \n",
    "last_three = language[3:]\n",
    "print(last_three) "
   ]
  },
  {
   "cell_type": "markdown",
   "id": "37fd756d",
   "metadata": {},
   "source": [
    "### Reversing a String\n",
    "###### We can easily reverse strings in python."
   ]
  },
  {
   "cell_type": "code",
   "execution_count": 28,
   "id": "c6c84f8c",
   "metadata": {},
   "outputs": [
    {
     "name": "stdout",
     "output_type": "stream",
     "text": [
      "!dlroW ,olleH\n"
     ]
    }
   ],
   "source": [
    "greeting = 'Hello, World!'\n",
    "print(greeting[::-1])"
   ]
  },
  {
   "cell_type": "markdown",
   "id": "7deb16d1",
   "metadata": {},
   "source": [
    "### Skipping Characters While Slicing\n",
    "###### It is possible to skip characters while slicing by passing step argument to slice method.\n",
    "\n"
   ]
  },
  {
   "cell_type": "code",
   "execution_count": 29,
   "id": "65126e4e",
   "metadata": {},
   "outputs": [
    {
     "name": "stdout",
     "output_type": "stream",
     "text": [
      "Pto\n"
     ]
    }
   ],
   "source": [
    "language = 'Python'\n",
    "pto = language[0:6:2] #\n",
    "print(pto) # Pto"
   ]
  },
  {
   "cell_type": "markdown",
   "id": "26b4f235",
   "metadata": {},
   "source": [
    "###### capitalize(): Converts the first character of the string to capital letter"
   ]
  },
  {
   "cell_type": "code",
   "execution_count": 30,
   "id": "e405cdc9",
   "metadata": {},
   "outputs": [
    {
     "name": "stdout",
     "output_type": "stream",
     "text": [
      "Thirty days of python\n"
     ]
    }
   ],
   "source": [
    "challenge = 'thirty days of python'\n",
    "print(challenge.capitalize()) "
   ]
  },
  {
   "cell_type": "markdown",
   "id": "e17a4fad",
   "metadata": {},
   "source": [
    "###### count(): returns occurrences of substring in string, count(substring, start=.., end=..). The start is a starting indexing for counting and end is the last index to count."
   ]
  },
  {
   "cell_type": "code",
   "execution_count": 31,
   "id": "b2685ec7",
   "metadata": {},
   "outputs": [
    {
     "name": "stdout",
     "output_type": "stream",
     "text": [
      "3\n",
      "1\n",
      "2\n"
     ]
    }
   ],
   "source": [
    "challenge = 'thirty days of python'\n",
    "print(challenge.count('y')) # 3\n",
    "print(challenge.count('y', 7, 14)) # 1, \n",
    "print(challenge.count('th')) # 2`"
   ]
  },
  {
   "cell_type": "markdown",
   "id": "0f4c7132",
   "metadata": {},
   "source": [
    "###### endswith(): Checks if a string ends with a specified ending"
   ]
  },
  {
   "cell_type": "code",
   "execution_count": 42,
   "id": "24f3cd68",
   "metadata": {},
   "outputs": [
    {
     "name": "stdout",
     "output_type": "stream",
     "text": [
      "True\n",
      "False\n"
     ]
    }
   ],
   "source": [
    "challenge = 'thirty days of python'\n",
    "print(challenge.endswith('on'))   # True\n",
    "print(challenge.endswith('tion')) # False"
   ]
  },
  {
   "cell_type": "markdown",
   "id": "416c576b",
   "metadata": {},
   "source": [
    "#### isupper(): Checks if all alphabet characters in the string are uppercase"
   ]
  },
  {
   "cell_type": "code",
   "execution_count": 50,
   "id": "f2dbc249",
   "metadata": {},
   "outputs": [
    {
     "name": "stdout",
     "output_type": "stream",
     "text": [
      "False\n",
      "True\n"
     ]
    }
   ],
   "source": [
    "challenge = 'thirty days of python'\n",
    "print(challenge.isupper()) #  False\n",
    "challenge = 'THIRTY DAYS OF PYTHON'\n",
    "print(challenge.isupper()) # True"
   ]
  },
  {
   "cell_type": "markdown",
   "id": "ac0b0f15",
   "metadata": {},
   "source": [
    "#### title(): Returns a title cased string"
   ]
  },
  {
   "cell_type": "code",
   "execution_count": 51,
   "id": "56a70e58",
   "metadata": {},
   "outputs": [
    {
     "name": "stdout",
     "output_type": "stream",
     "text": [
      "Thirty Days Of Python\n"
     ]
    }
   ],
   "source": [
    "challenge = 'thirty days of python'\n",
    "print(challenge.title()) # Thirty Days Of Python"
   ]
  },
  {
   "cell_type": "markdown",
   "id": "ef636cfb",
   "metadata": {},
   "source": [
    "### 1. Concatenate the string 'Thirty', 'Days', 'Of', 'Python' to a single string, 'Thirty Days Of Python'."
   ]
  },
  {
   "cell_type": "code",
   "execution_count": 34,
   "id": "63460e93",
   "metadata": {},
   "outputs": [
    {
     "data": {
      "text/plain": [
       "'Thirty Days Of Python'"
      ]
     },
     "execution_count": 34,
     "metadata": {},
     "output_type": "execute_result"
    }
   ],
   "source": [
    "a1 = \"Thirty\"\n",
    "a = \"Days\"\n",
    "b = \"Of\"\n",
    "c = \"Python\"\n",
    "d = a1 + \" \" + a +\" \"+ b + \" \" + c\n",
    "d"
   ]
  },
  {
   "cell_type": "markdown",
   "id": "819c492d",
   "metadata": {},
   "source": [
    "### 2. Concatenate the string 'Coding', 'For' , 'All' to a single string, 'Coding For All'."
   ]
  },
  {
   "cell_type": "code",
   "execution_count": 35,
   "id": "d05021ac",
   "metadata": {},
   "outputs": [
    {
     "data": {
      "text/plain": [
       "'Coding For All'"
      ]
     },
     "execution_count": 35,
     "metadata": {},
     "output_type": "execute_result"
    }
   ],
   "source": [
    "a = \"Coding\"\n",
    "b = \"For\"\n",
    "c = \"All\"\n",
    "d = a + \" \" + b + \" \" + c\n",
    "d"
   ]
  },
  {
   "cell_type": "markdown",
   "id": "aa849c55",
   "metadata": {},
   "source": [
    "### 3. Declare a variable named company and assign it to an initial value \"Coding For All\".\n"
   ]
  },
  {
   "cell_type": "code",
   "execution_count": 39,
   "id": "d4cbcd24",
   "metadata": {},
   "outputs": [
    {
     "name": "stdout",
     "output_type": "stream",
     "text": [
      "coding for all\n"
     ]
    }
   ],
   "source": [
    "company = \"coding for all\"\n",
    "print(company)"
   ]
  },
  {
   "cell_type": "markdown",
   "id": "6ee20058",
   "metadata": {},
   "source": [
    "### 4. Print the length of the company string using len() method and print()."
   ]
  },
  {
   "cell_type": "code",
   "execution_count": 40,
   "id": "9a2fb5bd",
   "metadata": {},
   "outputs": [
    {
     "name": "stdout",
     "output_type": "stream",
     "text": [
      "14\n"
     ]
    }
   ],
   "source": [
    "print(len(company))"
   ]
  },
  {
   "cell_type": "markdown",
   "id": "b72cc4ff",
   "metadata": {},
   "source": [
    "### 5. Change all the characters to uppercase letters using upper() method.\n"
   ]
  },
  {
   "cell_type": "code",
   "execution_count": 46,
   "id": "bd41c92c",
   "metadata": {},
   "outputs": [
    {
     "name": "stdout",
     "output_type": "stream",
     "text": [
      "CODING FOR ALL\n"
     ]
    }
   ],
   "source": [
    "print(company.upper())"
   ]
  },
  {
   "cell_type": "markdown",
   "id": "13014852",
   "metadata": {},
   "source": [
    "### 6. Change all the characters to lowercase letters using lower() method."
   ]
  },
  {
   "cell_type": "code",
   "execution_count": 48,
   "id": "853ea9bb",
   "metadata": {},
   "outputs": [
    {
     "name": "stdout",
     "output_type": "stream",
     "text": [
      "coding for all\n"
     ]
    }
   ],
   "source": [
    "print(company.lower())"
   ]
  },
  {
   "cell_type": "markdown",
   "id": "725ed1f5",
   "metadata": {},
   "source": [
    "### 7. Use capitalize(), title(), swapcase() methods to format the value of the string Coding For All."
   ]
  },
  {
   "cell_type": "code",
   "execution_count": 53,
   "id": "7843fb91",
   "metadata": {},
   "outputs": [
    {
     "name": "stdout",
     "output_type": "stream",
     "text": [
      "Coding for all\n",
      "Coding For All\n",
      "CODING FOR ALL\n"
     ]
    }
   ],
   "source": [
    "print(company.capitalize())\n",
    "print(company.title())\n",
    "print(company.swapcase())"
   ]
  },
  {
   "cell_type": "markdown",
   "id": "229ca4d5",
   "metadata": {},
   "source": [
    "### 8. Cut(slice) out the first word of Coding For All string."
   ]
  },
  {
   "cell_type": "code",
   "execution_count": 56,
   "id": "619645ac",
   "metadata": {},
   "outputs": [
    {
     "name": "stdout",
     "output_type": "stream",
     "text": [
      "For All\n"
     ]
    }
   ],
   "source": [
    "company = \"Coding For All\"\n",
    "sliced_company = company.split(\" \", 1)[1]\n",
    "print(sliced_company)\n"
   ]
  },
  {
   "cell_type": "code",
   "execution_count": null,
   "id": "449fc553",
   "metadata": {},
   "outputs": [],
   "source": []
  }
 ],
 "metadata": {
  "kernelspec": {
   "display_name": "Python 3 (ipykernel)",
   "language": "python",
   "name": "python3"
  },
  "language_info": {
   "codemirror_mode": {
    "name": "ipython",
    "version": 3
   },
   "file_extension": ".py",
   "mimetype": "text/x-python",
   "name": "python",
   "nbconvert_exporter": "python",
   "pygments_lexer": "ipython3",
   "version": "3.9.12"
  }
 },
 "nbformat": 4,
 "nbformat_minor": 5
}
