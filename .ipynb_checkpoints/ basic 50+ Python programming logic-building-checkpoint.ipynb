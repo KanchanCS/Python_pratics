{
 "cells": [
  {
   "cell_type": "markdown",
   "id": "8f07c911",
   "metadata": {},
   "source": [
    "### <span style='color:Red'>1. How to check if two python strings are Anagrams </span>"
   ]
  },
  {
   "cell_type": "code",
   "execution_count": 10,
   "id": "afc7b1c3",
   "metadata": {},
   "outputs": [
    {
     "name": "stdout",
     "output_type": "stream",
     "text": [
      "Enter the first string: kk\n",
      "Enter the first string: kk\n",
      "The string are anagrams.\n"
     ]
    }
   ],
   "source": [
    "# get input string from user.\n",
    "str1 = input(\"Enter the first string: \")\n",
    "str2 = input(\"Enter the first string: \")\n",
    "\n",
    "# check if string are of equal length\n",
    "if len(str1) != len(str2):\n",
    "    print(\"The string are not anagrams.\")\n",
    "else: \n",
    "    # convert string to lowercase and sort them\n",
    "    sort_str1 = sorted(str1.lower())\n",
    "    sort_str2 = sorted(str2.lower())\n",
    "    \n",
    "# compare the two sorted string\n",
    "    if sort_str1 == sort_str2:\n",
    "        print(\"The string are anagrams.\")\n",
    "    else: \n",
    "        print(\"The string are not anagrams.\")"
   ]
  },
  {
   "cell_type": "markdown",
   "id": "e846bac5",
   "metadata": {},
   "source": [
    "### <span style='color:green'>2. Check Armstrong number in python.</span>"
   ]
  },
  {
   "cell_type": "code",
   "execution_count": 42,
   "id": "219f6f41",
   "metadata": {},
   "outputs": [
    {
     "name": "stdout",
     "output_type": "stream",
     "text": [
      "Enter a number: 1\n",
      "1 is Armstrong number\n"
     ]
    }
   ],
   "source": [
    "my_num = int(input(\"Enter a number: \"))\n",
    "power_of_my_num = len(str(my_num))\n",
    "total = 0\n",
    "i = my_num\n",
    "while i > 0:\n",
    "    remainder = i % 10\n",
    "    total += remainder ** power_of_my_num\n",
    "    i = i // 10\n",
    "if total == my_num:\n",
    "    print(f'{my_num} is Armstrong number')\n",
    "else: \n",
    "    print(f'{my_num} is not Armstrong number')"
   ]
  },
  {
   "cell_type": "markdown",
   "id": "66248228",
   "metadata": {},
   "source": [
    "### <span style='color:green'>3. Python programs to check for Leap Year.</span>"
   ]
  },
  {
   "cell_type": "code",
   "execution_count": 44,
   "id": "8573f5b7",
   "metadata": {},
   "outputs": [
    {
     "name": "stdout",
     "output_type": "stream",
     "text": [
      "Enter a year: 2022\n",
      "2022 is not leap year\n"
     ]
    }
   ],
   "source": [
    "num = int(input(\"Enter a year: \"))\n",
    "if num % 4 == 0:\n",
    "    if num % 100 == 0:\n",
    "        if num % 400 == 0:\n",
    "            print(f'{num} is not leap year')\n",
    "        else:\n",
    "            print(f'{num} is leap year')\n",
    "else:\n",
    "     print(f'{num} is not leap year')\n",
    "            "
   ]
  },
  {
   "cell_type": "markdown",
   "id": "812966f0",
   "metadata": {},
   "source": [
    "### <span style='color:green'>4. Python Programs for Fibonacci Series.</span>"
   ]
  },
  {
   "cell_type": "code",
   "execution_count": 54,
   "id": "082c02a0",
   "metadata": {},
   "outputs": [
    {
     "name": "stdout",
     "output_type": "stream",
     "text": [
      "Enter number for series :12\n",
      "0 1 1 2 3 5 8 13 21 34 55 89 "
     ]
    }
   ],
   "source": [
    "num = int(input(\"Enter number for series :\"))\n",
    "a = 0\n",
    "b = 1\n",
    "if num <= 0:\n",
    "    print(\"Enter valid number (>0)\")\n",
    "elif num == 1:\n",
    "    print(a)\n",
    "elif num == 2:\n",
    "    print(a,b)\n",
    "else:\n",
    "    print(a, end = \" \")\n",
    "    print(b, end = \" \")\n",
    "    i = 0\n",
    "    while i < num - 2:\n",
    "        c = a + b\n",
    "        a = b\n",
    "        b = c\n",
    "        print(c, end = \" \")\n",
    "        i += 1"
   ]
  },
  {
   "cell_type": "markdown",
   "id": "112dfc71",
   "metadata": {},
   "source": [
    "### <span style='color:green'>5. Python Programs to check Perfect Number.</span>"
   ]
  },
  {
   "cell_type": "code",
   "execution_count": 59,
   "id": "42df077a",
   "metadata": {},
   "outputs": [
    {
     "name": "stdout",
     "output_type": "stream",
     "text": [
      "Enter a number:12\n",
      "divisor  of 12 is :1,2,3,4,6,\n",
      "\n",
      "12 is not perfect number\n"
     ]
    }
   ],
   "source": [
    "number = int(input(\"Enter a number:\"))\n",
    "sum = 0\n",
    "print(f'divisor  of {number} is :',end=\"\" )\n",
    "for i in range(1,number):\n",
    "    if number % i == 0:\n",
    "        print(i, end= \",\")\n",
    "        sum += i\n",
    "print(\"\\n\")\n",
    "if sum == number:\n",
    "    print(f'{number} is perfect number')\n",
    "else:\n",
    "    print(f'{number} is not perfect number')"
   ]
  },
  {
   "cell_type": "code",
   "execution_count": null,
   "id": "b7c7b583",
   "metadata": {},
   "outputs": [],
   "source": []
  },
  {
   "cell_type": "code",
   "execution_count": 43,
   "id": "ee8c8dee",
   "metadata": {},
   "outputs": [
    {
     "name": "stdout",
     "output_type": "stream",
     "text": [
      "2146529264512 \n",
      " 2146529404416\n",
      "[1, 5, 3, [7, 4]] [1, 5, 3, [6, 4]]\n"
     ]
    }
   ],
   "source": [
    "import copy\n",
    "a = [1,5,3,[7,4]]\n",
    "b =copy.deepcopy(a)\n",
    "b[3][0] = 6\n",
    "print(id(a),'\\n', id(b))\n",
    "print(a,b)"
   ]
  },
  {
   "cell_type": "code",
   "execution_count": 31,
   "id": "133b09b2",
   "metadata": {},
   "outputs": [
    {
     "name": "stdout",
     "output_type": "stream",
     "text": [
      "2146414258768 \n",
      " 2146414258736\n"
     ]
    }
   ],
   "source": [
    "a = 9\n",
    "b =a\n",
    "a =10\n",
    "\n",
    "print(id(a),'\\n', id(b))"
   ]
  },
  {
   "cell_type": "code",
   "execution_count": 28,
   "id": "cf9e92e6",
   "metadata": {},
   "outputs": [
    {
     "data": {
      "text/plain": [
       "'11'"
      ]
     },
     "execution_count": 28,
     "metadata": {},
     "output_type": "execute_result"
    }
   ],
   "source": [
    "fn = [5,6]\n",
    "def full_name(first, last):\n",
    "    return f\"{first+last}\"\n",
    "full_name(*fn)"
   ]
  },
  {
   "cell_type": "code",
   "execution_count": null,
   "id": "b6fe3220",
   "metadata": {},
   "outputs": [],
   "source": []
  },
  {
   "cell_type": "code",
   "execution_count": null,
   "id": "2357279a",
   "metadata": {},
   "outputs": [],
   "source": []
  }
 ],
 "metadata": {
  "kernelspec": {
   "display_name": "Python 3 (ipykernel)",
   "language": "python",
   "name": "python3"
  },
  "language_info": {
   "codemirror_mode": {
    "name": "ipython",
    "version": 3
   },
   "file_extension": ".py",
   "mimetype": "text/x-python",
   "name": "python",
   "nbconvert_exporter": "python",
   "pygments_lexer": "ipython3",
   "version": "3.9.12"
  }
 },
 "nbformat": 4,
 "nbformat_minor": 5
}
