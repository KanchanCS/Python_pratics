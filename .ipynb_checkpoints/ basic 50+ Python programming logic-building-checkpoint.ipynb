{
 "cells": [
  {
   "cell_type": "markdown",
   "id": "e50ff1ad",
   "metadata": {},
   "source": [
    "### <span style='color:Red'>1. How to check if two python strings are Anagrams </span>"
   ]
  },
  {
   "cell_type": "code",
   "execution_count": 10,
   "id": "d0284afb",
   "metadata": {},
   "outputs": [
    {
     "name": "stdout",
     "output_type": "stream",
     "text": [
      "Enter the first string: kk\n",
      "Enter the first string: kk\n",
      "The string are anagrams.\n"
     ]
    }
   ],
   "source": [
    "# get input string from user.\n",
    "str1 = input(\"Enter the first string: \")\n",
    "str2 = input(\"Enter the first string: \")\n",
    "\n",
    "# check if string are of equal length\n",
    "if len(str1) != len(str2):\n",
    "    print(\"The string are not anagrams.\")\n",
    "else: \n",
    "    # convert string to lowercase and sort them\n",
    "    sort_str1 = sorted(str1.lower())\n",
    "    sort_str2 = sorted(str2.lower())\n",
    "    \n",
    "# compare the two sorted string\n",
    "    if sort_str1 == sort_str2:\n",
    "        print(\"The string are anagrams.\")\n",
    "    else: \n",
    "        print(\"The string are not anagrams.\")"
   ]
  },
  {
   "cell_type": "markdown",
   "id": "c69fae68",
   "metadata": {},
   "source": [
    "### <span style='color:green'>2. Check Armstrong number in python.</span>"
   ]
  },
  {
   "cell_type": "code",
   "execution_count": 60,
   "id": "c94b0f83",
   "metadata": {},
   "outputs": [
    {
     "name": "stdout",
     "output_type": "stream",
     "text": [
      "Enter a number: 1\n",
      "1 is Armstrong number\n"
     ]
    }
   ],
   "source": [
    "my_num = int(input(\"Enter a number: \"))\n",
    "power_of_my_num = len(str(my_num))\n",
    "total = 0\n",
    "i = my_num\n",
    "while i > 0:\n",
    "    remainder = i % 10\n",
    "    total += remainder ** power_of_my_num\n",
    "    i = i // 10\n",
    "if total == my_num:\n",
    "    print(f'{my_num} is Armstrong number')\n",
    "else: \n",
    "    print(f'{my_num} is not Armstrong number')"
   ]
  },
  {
   "cell_type": "markdown",
   "id": "000d1224",
   "metadata": {},
   "source": [
    "### <span style='color:green'>3. Python programs to check for Leap Year.</span>"
   ]
  },
  {
   "cell_type": "code",
   "execution_count": 44,
   "id": "be0cf88d",
   "metadata": {},
   "outputs": [
    {
     "name": "stdout",
     "output_type": "stream",
     "text": [
      "Enter a year: 2022\n",
      "2022 is not leap year\n"
     ]
    }
   ],
   "source": [
    "num = int(input(\"Enter a year: \"))\n",
    "if num % 4 == 0:\n",
    "    if num % 100 == 0:\n",
    "        if num % 400 == 0:\n",
    "            print(f'{num} is not leap year')\n",
    "        else:\n",
    "            print(f'{num} is leap year')\n",
    "else:\n",
    "     print(f'{num} is not leap year')\n",
    "            "
   ]
  },
  {
   "cell_type": "markdown",
   "id": "a93db7fe",
   "metadata": {},
   "source": [
    "### <span style='color:green'>4. Python Programs for Fibonacci Series.</span>"
   ]
  },
  {
   "cell_type": "code",
   "execution_count": 54,
   "id": "7c884d3b",
   "metadata": {},
   "outputs": [
    {
     "name": "stdout",
     "output_type": "stream",
     "text": [
      "Enter number for series :12\n",
      "0 1 1 2 3 5 8 13 21 34 55 89 "
     ]
    }
   ],
   "source": [
    "num = int(input(\"Enter number for series :\"))\n",
    "a = 0\n",
    "b = 1\n",
    "if num <= 0:\n",
    "    print(\"Enter valid number (>0)\")\n",
    "elif num == 1:\n",
    "    print(a)\n",
    "elif num == 2:\n",
    "    print(a,b)\n",
    "else:\n",
    "    print(a, end = \" \")\n",
    "    print(b, end = \" \")\n",
    "    i = 0\n",
    "    while i < num - 2:\n",
    "        c = a + b\n",
    "        a = b\n",
    "        b = c\n",
    "        print(c, end = \" \")\n",
    "        i += 1"
   ]
  },
  {
   "cell_type": "markdown",
   "id": "789f839c",
   "metadata": {},
   "source": [
    "### <span style='color:green'>5. Python Programs to check Perfect Number.</span>"
   ]
  },
  {
   "cell_type": "code",
   "execution_count": 59,
   "id": "ebbf268b",
   "metadata": {},
   "outputs": [
    {
     "name": "stdout",
     "output_type": "stream",
     "text": [
      "Enter a number:12\n",
      "divisor  of 12 is :1,2,3,4,6,\n",
      "\n",
      "12 is not perfect number\n"
     ]
    }
   ],
   "source": [
    "number = int(input(\"Enter a number:\"))\n",
    "sum = 0\n",
    "print(f'divisor  of {number} is :',end=\"\" )\n",
    "for i in range(1,number):\n",
    "    if number % i == 0:\n",
    "        print(i, end= \",\")\n",
    "        sum += i\n",
    "print(\"\\n\")\n",
    "if sum == number:\n",
    "    print(f'{number} is perfect number')\n",
    "else:\n",
    "    print(f'{number} is not perfect number')"
   ]
  },
  {
   "cell_type": "markdown",
   "id": "23039237",
   "metadata": {},
   "source": [
    "# 50+ from book\n",
    "#### Write a Python program to print \"Hello, World!"
   ]
  },
  {
   "cell_type": "markdown",
   "id": "dd05a3f7",
   "metadata": {},
   "source": [
    "#### PYTHON PASSWORD GENERATOR"
   ]
  },
  {
   "cell_type": "code",
   "execution_count": 9,
   "id": "c88834ea",
   "metadata": {},
   "outputs": [
    {
     "name": "stdout",
     "output_type": "stream",
     "text": [
      "av4KJBiEk91qpS;X\n"
     ]
    }
   ],
   "source": [
    "import random\n",
    "lower = \"abcdefghijklmnopqrstuvwxyz\"\n",
    "upper = \"ABCDEFGHIJKLMNOPQRSTUVWXYZ\"\n",
    "number = \"0123456789\"\n",
    "symbols = \"[]{}()*;|_-\"\n",
    "\n",
    "all = lower + upper + number + symbols\n",
    "length = 16\n",
    "password = \"\".join(random.sample(all,length))\n",
    "print(password)"
   ]
  },
  {
   "cell_type": "markdown",
   "id": "8e9b1a0c",
   "metadata": {},
   "source": [
    "#### 1. Write a Python program to reverse a string."
   ]
  },
  {
   "cell_type": "code",
   "execution_count": 3,
   "id": "5abf470e",
   "metadata": {},
   "outputs": [
    {
     "name": "stdout",
     "output_type": "stream",
     "text": [
      "Enter the string: python\n",
      "Reverse String: nohtyp\n"
     ]
    }
   ],
   "source": [
    "def reverse(string):\n",
    "    return string[::-1]\n",
    "user = input(\"Enter the string: \")\n",
    "reversed = reverse(user)\n",
    "print(\"Reverse String:\",reversed)"
   ]
  },
  {
   "cell_type": "markdown",
   "id": "29c96de8",
   "metadata": {},
   "source": [
    "### 2.Implement a function to check if a given number is prime.\n"
   ]
  },
  {
   "cell_type": "code",
   "execution_count": 4,
   "id": "98310df3",
   "metadata": {},
   "outputs": [
    {
     "name": "stdout",
     "output_type": "stream",
     "text": [
      "Enter the number: 5\n",
      "prime\n"
     ]
    }
   ],
   "source": [
    "def prime(n):\n",
    "    count = 0\n",
    "    for i in range(1, n+1):\n",
    "        if n % 2 == 0:\n",
    "            count = count+1\n",
    "    if (count == 0):\n",
    "        print(\"prime\")\n",
    "    else:\n",
    "        print(\"not prime\")    \n",
    "n = int(input(\"Enter the number: \"))\n",
    "prime(n)\n",
    "    "
   ]
  },
  {
   "cell_type": "markdown",
   "id": "cbbb680c",
   "metadata": {},
   "source": [
    "### 3. Create a class to represent a simple bank account with deposit and withdrawal methods."
   ]
  },
  {
   "cell_type": "code",
   "execution_count": null,
   "id": "e9be8ea2",
   "metadata": {},
   "outputs": [],
   "source": []
  },
  {
   "cell_type": "code",
   "execution_count": 26,
   "id": "25f1f376",
   "metadata": {},
   "outputs": [
    {
     "name": "stdout",
     "output_type": "stream",
     "text": [
      "--Option Enter-- \n",
      "`D` for Depoist \n",
      "Enter `W` for Withdrawl \n",
      "Enter `C` for Check Balanc\n",
      "Enter Your choice W\n",
      "Enter Withdrawl amount :2000\n",
      "Insufficient funds.\n"
     ]
    }
   ],
   "source": [
    "class BankAccount:\n",
    "    def __init__(self, account_number, account_holder, balance=0):\n",
    "        self.account_number = account_number\n",
    "        self.account_holder = account_holder\n",
    "        self.balance = balance\n",
    "\n",
    "    def deposit(self, amount):\n",
    "        if amount <= 0:\n",
    "            print(\"Deposit amount must be greater than zero.\")\n",
    "        else:\n",
    "            self.balance += amount\n",
    "            print(f\"Deposited {amount} units. Current balance: {self.balance} units.\")\n",
    "\n",
    "    def withdraw(self, amount):\n",
    "        if amount <= 0:\n",
    "            print(\"Withdrawal amount must be greater than zero.\")\n",
    "        elif amount > self.balance:\n",
    "            print(\"Insufficient funds.\")\n",
    "        else:\n",
    "            self.balance -= amount\n",
    "            print(f\"Withdrawn {amount} units. Current balance: {self.balance} units.\")\n",
    "\n",
    "    def get_balance(self):\n",
    "        return self.balance\n",
    "\n",
    "    def __str__(self):\n",
    "        return f\"Account Number: {self.account_number}, Account Holder: {self.account_holder}, Balance: {self.balance} units\"\n",
    "\n",
    "\n",
    "# Example usage:\n",
    "if __name__ == \"__main__\":\n",
    "    account1 = BankAccount(\"12345\", \"John Doe\", 1000)\n",
    "    Opitons = \"\"\"--Option Enter-- \\n`D` for Depoist \\nEnter `W` for Withdrawl \\nEnter `C` for Check Balanc\"\"\"\n",
    "    print(Opitons)\n",
    "    choice = input(\"Enter Your choice \")\n",
    "    if choice == 'D':\n",
    "        amount = int(input(\"Enter Depoist amount :\"))\n",
    "        account1.deposit(amount)\n",
    "    elif choice == 'W':\n",
    "        amount = int(input(\"Enter Withdrawl amount :\"))\n",
    "        account1.withdraw(amount)\n",
    "    elif choice == 'C':\n",
    "        print(\"Account Details\")\n",
    "        print(account1)\n",
    "        print(f\"your acount balanc {account1.get_balance()}\")\n",
    "    else:\n",
    "        print(f\"Request Failed! Invalid Options `{choice}`\")\n",
    "        print(\"Choose valid Options Below \")\n",
    "        print(Options)\n",
    "        \n"
   ]
  },
  {
   "cell_type": "code",
   "execution_count": 3,
   "id": "4a0f16bc",
   "metadata": {},
   "outputs": [
    {
     "name": "stdout",
     "output_type": "stream",
     "text": [
      "The account is created\n",
      "Enter the amount to be deposit: 400\n",
      "The deposit is successful and the balance in the account is 400.000000\n",
      "Enter the amount to withdraw: 100\n",
      "The withdraw is successful and the balance is 300.000000\n",
      "Balance in the account is 300.000000\n"
     ]
    }
   ],
   "source": [
    "class Bank:\n",
    "    def __init__(self):\n",
    "        self.balance = 0\n",
    "        print (\"The account is created\")\n",
    "        \n",
    "    def deposit(self):\n",
    "        amount = float(input(\"Enter the amount to be deposit: \"))\n",
    "        self.balance = self.balance + amount\n",
    "        print (\"The deposit is successful and the balance in the account is %f\" % self.balance)\n",
    "    \n",
    "    def withdraw(self):\n",
    "        amount = float(input(\"Enter the amount to withdraw: \"))\n",
    "        if (self.balance >= amount):\n",
    "            self.balance = self.balance - amount\n",
    "            print (\"The withdraw is successful and the balance is %f\" % self.balance)\n",
    "        else:\n",
    "            print ('Insuficient Balance')\n",
    "    \n",
    "    def enquiry(self):\n",
    "        print (\"Balance in the account is %f\" % self.balance)\n",
    "        \n",
    "\n",
    "acc = Bank()\n",
    "acc.deposit()\n",
    "acc.withdraw()\n",
    "acc.enquiry()"
   ]
  },
  {
   "cell_type": "markdown",
   "id": "4d62da43",
   "metadata": {},
   "source": [
    "### 4.  Write a function to find the factorial of a given number using recursion.\n"
   ]
  },
  {
   "cell_type": "code",
   "execution_count": 2,
   "id": "0b61a159",
   "metadata": {},
   "outputs": [
    {
     "name": "stdout",
     "output_type": "stream",
     "text": [
      "enter the number: 10\n",
      "Factorial:  3628800\n"
     ]
    }
   ],
   "source": [
    "n = int(input(\"enter the number: \"))   \n",
    "fac = 1\n",
    "while (n > 0):\n",
    "    fac = fac * n\n",
    "    n = n - 1\n",
    "print(\"Factorial: \", fac)    "
   ]
  },
  {
   "cell_type": "code",
   "execution_count": 1,
   "id": "404677ec",
   "metadata": {},
   "outputs": [
    {
     "name": "stdout",
     "output_type": "stream",
     "text": [
      "3628800\n"
     ]
    }
   ],
   "source": [
    "def fact(n):\n",
    "    if n == 0 or n == 1:\n",
    "        return 1\n",
    "    else:\n",
    "        return n * fact(n-1)\n",
    "print(fact(10))\n",
    "\n",
    "    "
   ]
  },
  {
   "cell_type": "markdown",
   "id": "23fdd59d",
   "metadata": {},
   "source": [
    "  ### 5.Implement a program to read a CSV file and print its contents."
   ]
  },
  {
   "cell_type": "code",
   "execution_count": 31,
   "id": "df389c5b",
   "metadata": {},
   "outputs": [],
   "source": [
    "import csv\n",
    "def create():\n",
    "    with open('detail.csv','w') as obj:\n",
    "        fobj = csv.writer(obj)\n",
    "        fobj . write([\"roll\", \"name\" , \"age\"])\n",
    "    while True:\n",
    "        roll = int(input(\"Enter the roll\"))\n",
    "        name = input(\"Enter the roll\")\n",
    "        age = int(input(\"Enter the roll\"))\n",
    "        lst = [\"roll\", \"name\" , \"age\"]\n",
    "        form.write(lst)"
   ]
  },
  {
   "cell_type": "code",
   "execution_count": 47,
   "id": "e3bea977",
   "metadata": {},
   "outputs": [
    {
     "data": {
      "text/plain": [
       "['',\n",
       " '/Users/himanshu/Documents/office_project/fully-faltoo.com/NewGrades.xlsx',\n",
       " '/Users/himanshu/Downloads/django-example-powerful-4th.pdf',\n",
       " '/Users/himanshu/Library/Mobile Documents/iCloudcomappleiBooks/Documents/Assignment.pdf',\n",
       " '/Users/himanshu/Downloads/Telegram/Notes/Advanced-java.pdf',\n",
       " '/Users/himanshu/Library/Mobile Documents/iCloudcomappleiBooks/Documents/Assignment.pdf',\n",
       " '/Users/himanshu/Downloads/Telegram/password_list/imhim.csv',\n",
       " '/Users/himanshu/Downloads/Telegram/password_list/webdev.csv',\n",
       " '/Users/himanshu/Downloads/Telegram/vcard-personal-portfolio/index.html',\n",
       " '/Users/himanshu/Downloads/squire-example/index.html']"
      ]
     },
     "execution_count": 47,
     "metadata": {},
     "output_type": "execute_result"
    }
   ],
   "source": [
    "fili_list = ['','/Users/himanshu/Documents/office_project/fully-faltoo.com/NewGrades.xlsx','/Users/himanshu/Downloads/django-example-powerful-4th.pdf','/Users/himanshu/Library/Mobile Documents/iCloudcomappleiBooks/Documents/Assignment.pdf','/Users/himanshu/Downloads/Telegram/Notes/Advanced-java.pdf','/Users/himanshu/Library/Mobile Documents/iCloudcomappleiBooks/Documents/Assignment.pdf','/Users/himanshu/Downloads/Telegram/password_list/imhim.csv','/Users/himanshu/Downloads/Telegram/password_list/webdev.csv','/Users/himanshu/Downloads/Telegram/vcard-personal-portfolio/index.html','/Users/himanshu/Downloads/squire-example/index.html']\n",
    "fili_list"
   ]
  },
  {
   "cell_type": "code",
   "execution_count": 48,
   "id": "882bdeac",
   "metadata": {},
   "outputs": [
    {
     "name": "stdout",
     "output_type": "stream",
     "text": [
      "['', 'NewGrades.xlsx', 'django-example-powerful-4th.pdf', 'Assignment.pdf', 'Advanced-java.pdf', 'Assignment.pdf', 'imhim.csv', 'webdev.csv', 'index.html', 'index.html']\n"
     ]
    }
   ],
   "source": [
    "filename_list = []\n",
    "for path in fili_list:\n",
    "    path_split = path.split('/')\n",
    "    filename_list.append(path_split[-1])\n",
    "print(filename_list)"
   ]
  },
  {
   "cell_type": "code",
   "execution_count": 64,
   "id": "39829dcc",
   "metadata": {},
   "outputs": [
    {
     "name": "stdout",
     "output_type": "stream",
     "text": [
      "Enter the num: 4,1\n",
      "4\n",
      "1\n"
     ]
    }
   ],
   "source": [
    "a,b =input(\"Enter the num: \").split(\",\")\n",
    "print(a)\n",
    "print(b)"
   ]
  },
  {
   "cell_type": "code",
   "execution_count": 88,
   "id": "671aacb0",
   "metadata": {},
   "outputs": [
    {
     "name": "stdout",
     "output_type": "stream",
     "text": [
      "a == {'first': 'Geeks', 'mid': 'for'}\n"
     ]
    }
   ],
   "source": [
    "def myFun(**kwargs):\n",
    "\tfor key, value in kwargs.items():\n",
    "\t\tprint(\"%s == %s\" % (key, value))\n",
    "\n",
    "\n",
    "# Driver code\n",
    "myFun({first='Geeks', mid='for')\n"
   ]
  },
  {
   "cell_type": "code",
   "execution_count": 74,
   "id": "e18dd520",
   "metadata": {},
   "outputs": [
    {
     "data": {
      "text/plain": [
       "7"
      ]
     },
     "execution_count": 74,
     "metadata": {},
     "output_type": "execute_result"
    }
   ],
   "source": []
  },
  {
   "cell_type": "code",
   "execution_count": null,
   "id": "c549ff34",
   "metadata": {},
   "outputs": [],
   "source": []
  }
 ],
 "metadata": {
  "kernelspec": {
   "display_name": "Python 3 (ipykernel)",
   "language": "python",
   "name": "python3"
  },
  "language_info": {
   "codemirror_mode": {
    "name": "ipython",
    "version": 3
   },
   "file_extension": ".py",
   "mimetype": "text/x-python",
   "name": "python",
   "nbconvert_exporter": "python",
   "pygments_lexer": "ipython3",
   "version": "3.9.12"
  }
 },
 "nbformat": 4,
 "nbformat_minor": 5
}
