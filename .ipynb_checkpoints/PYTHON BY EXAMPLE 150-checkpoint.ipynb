{
 "cells": [
  {
   "cell_type": "markdown",
   "id": "70c10e81",
   "metadata": {},
   "source": [
    "### 001 \n",
    "###### Ask for the user’s first name and display the\n",
    "* output message Hello [First Name] ."
   ]
  },
  {
   "cell_type": "code",
   "execution_count": 4,
   "id": "32087a21",
   "metadata": {},
   "outputs": [
    {
     "name": "stdout",
     "output_type": "stream",
     "text": [
      "Enter The first name: jon\n",
      "Hello jon\n"
     ]
    }
   ],
   "source": [
    "user = input(\"Enter The first name: \")\n",
    "print(\"Hello\",user)"
   ]
  },
  {
   "cell_type": "markdown",
   "id": "3494ccee",
   "metadata": {},
   "source": [
    "### 002 \n",
    "###### Ask for the user’s first name and then ask for their surname and display the \n",
    "* output message Hello [First Name] [Surname]. "
   ]
  },
  {
   "cell_type": "code",
   "execution_count": 7,
   "id": "438e7661",
   "metadata": {},
   "outputs": [
    {
     "name": "stdout",
     "output_type": "stream",
     "text": [
      "Enter The Fname: python\n",
      "Enter The Lname: Developer\n",
      "Hello python Developer\n"
     ]
    }
   ],
   "source": [
    "fname = input(\"Enter The Fname: \")\n",
    "lname = input(\"Enter The Lname: \")\n",
    "fullname = fname + \" \" + lname\n",
    "print(\"Hello\",fullname)"
   ]
  },
  {
   "cell_type": "markdown",
   "id": "7d821b8c",
   "metadata": {},
   "source": [
    "#### 003 \n",
    "##### Write code that will display the joke “What do you call a bear with no teeth?” and on the next line display the answer “A gummy bear!” Try to create it using only one line of code. "
   ]
  },
  {
   "cell_type": "code",
   "execution_count": 9,
   "id": "36448871",
   "metadata": {},
   "outputs": [
    {
     "name": "stdout",
     "output_type": "stream",
     "text": [
      " “What do you call a bear with no teeth?\"\n",
      "“A gummy bear!” \n"
     ]
    }
   ],
   "source": [
    "joke = \"\"\" “What do you call a bear with no teeth?\"\\n“A gummy bear!” \"\"\"\n",
    "print(joke)"
   ]
  },
  {
   "cell_type": "markdown",
   "id": "9a601fe3",
   "metadata": {},
   "source": [
    "#### 004 \n",
    "* Ask the user to enter two numbers. Add them together and display the answer as The total is \n",
    "[answer]. "
   ]
  },
  {
   "cell_type": "code",
   "execution_count": 18,
   "id": "ed5d8bb1",
   "metadata": {},
   "outputs": [
    {
     "name": "stdout",
     "output_type": "stream",
     "text": [
      "Enter The num1: 4\n",
      "Enter The num2: 4\n",
      "Total count Number:  8\n"
     ]
    }
   ],
   "source": [
    "num1 = int(input(\"Enter The num1: \"))\n",
    "num2 = int(input(\"Enter The num2: \"))\n",
    "total = num1 + num2\n",
    "print(\"Total count Number: \",total)"
   ]
  },
  {
   "cell_type": "markdown",
   "id": "becac4c0",
   "metadata": {},
   "source": [
    "### 005 \n",
    "###### Ask the user to enter three numbers. Add together the first two numbers and then multiply this total by the third. Display the answer as The answer is \n",
    "[answer]. \n"
   ]
  },
  {
   "cell_type": "code",
   "execution_count": 23,
   "id": "1b3c809a",
   "metadata": {},
   "outputs": [
    {
     "name": "stdout",
     "output_type": "stream",
     "text": [
      "Enter The num1: 2\n",
      "Enter The num2: 2\n",
      "Enter The num3: 2\n",
      "8\n"
     ]
    }
   ],
   "source": [
    "num1 = int(input(\"Enter The num1: \"))\n",
    "num2 = int(input(\"Enter The num2: \"))\n",
    "num3 = int(input(\"Enter The num3: \"))\n",
    "\n",
    "add = (num1 + num2) * num3\n",
    "print(add)"
   ]
  },
  {
   "cell_type": "markdown",
   "id": "9ffb8979",
   "metadata": {},
   "source": [
    "#### 006 \n",
    "###### Ask how many slices of pizza the user started with and ask how many slices they have eaten. Work out how many slices they have left and display the answer in a user\u0002friendly format"
   ]
  },
  {
   "cell_type": "code",
   "execution_count": 27,
   "id": "5558b8a0",
   "metadata": {},
   "outputs": [
    {
     "name": "stdout",
     "output_type": "stream",
     "text": [
      "How many slices of pizza: 6\n",
      "How many slices of pizza: 4\n",
      "You have 2 slices remaining\n"
     ]
    }
   ],
   "source": [
    "pizz = int(input(\"How many slices of pizza: \"))\n",
    "eat = int(input(\"How many slices of pizza: \"))\n",
    "slices = pizz - eat\n",
    "print(\"You have\", slices, \"slices remaining\")"
   ]
  },
  {
   "cell_type": "markdown",
   "id": "376f5e2f",
   "metadata": {},
   "source": [
    "#### 007 \n",
    "###### Ask the user for their name and their age. Add 1 to their age and display the output [Name] next birthday you will be [new age]. "
   ]
  },
  {
   "cell_type": "code",
   "execution_count": 28,
   "id": "59dca539",
   "metadata": {},
   "outputs": [
    {
     "name": "stdout",
     "output_type": "stream",
     "text": [
      "What is your name: kanchan\n",
      "Curent your age: 24\n",
      "kanchan next birthday you will be 25\n"
     ]
    }
   ],
   "source": [
    "user = input(\"What is your name: \")\n",
    "user_age = int(input(\"Curent your age: \"))\n",
    "add = user_age + 1\n",
    "print(user,\"next birthday you will be\", add )"
   ]
  },
  {
   "cell_type": "markdown",
   "id": "15ad1eb8",
   "metadata": {},
   "source": [
    "#### 008 \n",
    "###### Ask for the total price of the bill, then ask how many diners there are. Divide the total bill by the number of diners and show how much each person must pay. "
   ]
  },
  {
   "cell_type": "code",
   "execution_count": 33,
   "id": "7a710dd9",
   "metadata": {},
   "outputs": [
    {
     "name": "stdout",
     "output_type": "stream",
     "text": [
      "Total price of the bill: 400\n",
      "How many diners there are: 200\n",
      "Each person Should pay:  1\n"
     ]
    }
   ],
   "source": [
    "total_bill = int(input(\"Total price of the bill: \"))\n",
    "number =  int(input(\"How many diners there are: \"))\n",
    "each = total_bill /number\n",
    "print(\"Each person Should pay: \",div)"
   ]
  },
  {
   "cell_type": "markdown",
   "id": "ae85587d",
   "metadata": {},
   "source": [
    "### 009 \n",
    "###### Write a program that will ask for a number of days and then will show how many hours, minutes and seconds are in that number of days. "
   ]
  },
  {
   "cell_type": "code",
   "execution_count": 37,
   "id": "35046545",
   "metadata": {},
   "outputs": [
    {
     "name": "stdout",
     "output_type": "stream",
     "text": [
      "Enter the Number of days: 1\n",
      "in 1 number of days: \n",
      "Hours:  24\n",
      "Minutes:  1440\n",
      "Seconds:  86400\n"
     ]
    }
   ],
   "source": [
    "day = int(input(\"Enter the Number of days: \"))\n",
    "hour = day*24\n",
    "minutes = hour*60\n",
    "sec = minutes*60\n",
    "print(\"in\",day,\"number of days: \")\n",
    "print(\"Hours: \",hour)\n",
    "print(\"Minutes: \",minutes)\n",
    "print(\"Seconds: \",sec)"
   ]
  },
  {
   "cell_type": "markdown",
   "id": "cb600ad5",
   "metadata": {},
   "source": [
    "#### 010 \n",
    "###### There are 2,204 pounds in a kilogram. Ask the user to enter a weight in kilograms and convert it to pounds"
   ]
  },
  {
   "cell_type": "code",
   "execution_count": 42,
   "id": "8f1f29fd",
   "metadata": {},
   "outputs": [
    {
     "name": "stdout",
     "output_type": "stream",
     "text": [
      "Enter a weight: 4\n",
      "That is 8.816 pounds\n"
     ]
    }
   ],
   "source": [
    "weit  = int(input(\"Enter a weight: \"))\n",
    "pounds = weit * 2.204\n",
    "print(\"That is\",pounds,\"pounds\")"
   ]
  },
  {
   "cell_type": "markdown",
   "id": "bd6a66d2",
   "metadata": {},
   "source": [
    "### 011 \n",
    "###### Task the user to enter a number over 100 and then enter a number under 10 and tell them how many times the smaller number goes into the larger number in a user-friendly format"
   ]
  },
  {
   "cell_type": "code",
   "execution_count": 47,
   "id": "5aa83112",
   "metadata": {},
   "outputs": [
    {
     "name": "stdout",
     "output_type": "stream",
     "text": [
      "Enter a number over 100: 110\n",
      "Enter a number under 10: 10\n",
      "10 goes into 110 11 times\n"
     ]
    }
   ],
   "source": [
    "large  = int(input(\"Enter a number over 100: \"))\n",
    "small  = int(input(\"Enter a number under 10: \"))\n",
    "answer = large // small\n",
    "print(small,\"goes into\", large,answer,\"times\")"
   ]
  },
  {
   "cell_type": "markdown",
   "id": "6f73eedc",
   "metadata": {},
   "source": [
    "\n",
    "## if statement\n"
   ]
  },
  {
   "cell_type": "code",
   "execution_count": 51,
   "id": "14ae7e63",
   "metadata": {},
   "outputs": [
    {
     "name": "stdout",
     "output_type": "stream",
     "text": [
      "This over 10\n"
     ]
    }
   ],
   "source": [
    "num = 14\n",
    "if num > 10:\n",
    "    print(\"This over 10\")\n",
    "elif num == 10:\n",
    "    print(\"This is equal\")\n",
    "else:\n",
    "    print(\"This is under 10\")"
   ]
  },
  {
   "cell_type": "markdown",
   "id": "1d9e6a67",
   "metadata": {},
   "source": [
    "### 012 \n",
    "###### Ask for two numbers. If the first one is larger than the second, display the second number first and then the first number, otherwise show the first number first and then the second. "
   ]
  },
  {
   "cell_type": "code",
   "execution_count": 57,
   "id": "ec12e164",
   "metadata": {},
   "outputs": [
    {
     "name": "stdout",
     "output_type": "stream",
     "text": [
      "Enter the first number: 1\n",
      "Enter the second number: 2\n",
      "First number: 1 Second number:  2\n"
     ]
    }
   ],
   "source": [
    "num1 = int(input(\"Enter the first number: \"))\n",
    "num2 = int(input(\"Enter the second number: \"))\n",
    "if num1 > num2:\n",
    "    print(\"Second number: \",num2,\"First number:\", num1)\n",
    "else:\n",
    "    print(\"First number:\", num1, \"Second number: \", num2)"
   ]
  },
  {
   "cell_type": "markdown",
   "id": "311e27a2",
   "metadata": {},
   "source": [
    "### 013 \n",
    "###### Ask the user to enter a number that is under 20. If they enter a number that is 20 or more, display the message “Too high”, otherwise display “Thank you”. "
   ]
  },
  {
   "cell_type": "code",
   "execution_count": 62,
   "id": "d52be1da",
   "metadata": {},
   "outputs": [
    {
     "name": "stdout",
     "output_type": "stream",
     "text": [
      "Enter a number that is under 20: 63\n",
      "Too high\n"
     ]
    }
   ],
   "source": [
    "num1 = int(input(\"Enter a number that is under 20: \"))\n",
    "if num1 >= 20:\n",
    "    print(\"Too high\")\n",
    "else:\n",
    "    print(\"Thank you\")"
   ]
  },
  {
   "cell_type": "markdown",
   "id": "ff7a28a4",
   "metadata": {},
   "source": [
    "#### 014 \n",
    "###### Ask the user to enter a number between 10 and 20 (inclusive). If they enter a number within this range, display the message “Thank you”, otherwise display the message “Incorrect answer”. "
   ]
  },
  {
   "cell_type": "code",
   "execution_count": 65,
   "id": "591a5877",
   "metadata": {},
   "outputs": [
    {
     "name": "stdout",
     "output_type": "stream",
     "text": [
      "Enter a number between 10 and 20: 45\n",
      "incorrect answer\n"
     ]
    }
   ],
   "source": [
    "num1 = int(input(\"Enter a number between 10 and 20: \"))\n",
    "if num1 > 10 and num1 < 20:\n",
    "    print(\"Thank you\")\n",
    "else:\n",
    "    print(\"incorrect answer\")"
   ]
  },
  {
   "cell_type": "markdown",
   "id": "f617019f",
   "metadata": {},
   "source": [
    "#### 015 \n",
    "###### Ask the user to enter their favourite colour. If they enter “red”, “RED” or “Red” display the message “I like red too”, otherwise display the message “I don’t like [colour], I prefer red”. "
   ]
  },
  {
   "cell_type": "code",
   "execution_count": 74,
   "id": "9e8e86b5",
   "metadata": {},
   "outputs": [
    {
     "name": "stdout",
     "output_type": "stream",
     "text": [
      "Enter their favourite colour : red\n",
      "I like red too\n"
     ]
    }
   ],
   "source": [
    "colour = input(\"Enter their favourite colour : \")\n",
    "if colour == \"red\" or colour == \"RED\" or colour == \"Red\":\n",
    "    print(\"I like red too\")\n",
    "else:\n",
    "    print(\"I don’t like\",colour)"
   ]
  },
  {
   "cell_type": "markdown",
   "id": "4cec917a",
   "metadata": {},
   "source": [
    "#### 016 \n",
    "###### Ask the user if it is raining and convert their answer to lower case so it doesn’t matter what case they type it in. If they answer “yes”, ask if it is windy. If they answer “yes” to this second question, display the answer “It is too windy for an umbrella”, otherwise display the message “Take an umbrella”. If they did not answer yes to the first question, display the answer “Enjoy your day”. "
   ]
  },
  {
   "cell_type": "code",
   "execution_count": 2,
   "id": "6e54afa7",
   "metadata": {},
   "outputs": [
    {
     "name": "stdout",
     "output_type": "stream",
     "text": [
      "It is raining: FGHJ\n",
      "Enjoy your day\n"
     ]
    }
   ],
   "source": [
    "raining = input(\"It is raining: \")\n",
    "raining = str.lower(raining)\n",
    "if raining == \"Yes\":\n",
    "    windy = input(\"it is windly?\")\n",
    "    windy = str.lower(windy)\n",
    "    if windy == \"yes\":\n",
    "        print(\"iit is too windly for an umberella\")\n",
    "    else:\n",
    "        print(\"Take a umberella\")\n",
    "else:\n",
    "    print(\"Enjoy your day\")\n",
    "                "
   ]
  },
  {
   "cell_type": "markdown",
   "id": "96a36f19",
   "metadata": {},
   "source": [
    "#### 017 \n",
    "###### Ask the user’s age. If they are 18 or over, display the message “You can vote”, if they are aged 17, display the message “You can learn to drive”, if they are 16, display the message “You can buy a lottery ticket”, if they are under 16, display the message “You can go Trick\u0002or-Treating”"
   ]
  },
  {
   "cell_type": "code",
   "execution_count": 10,
   "id": "6426eb3f",
   "metadata": {},
   "outputs": [
    {
     "name": "stdout",
     "output_type": "stream",
     "text": [
      "Enter the your age: 14\n",
      "You can go Trick\u0002or-Treating\n"
     ]
    }
   ],
   "source": [
    "age = int(input(\"Enter the your age: \"))\n",
    "if age >= 18:\n",
    "    print(\"You can vote\")\n",
    "elif age == 17:\n",
    "    print(\"You can learn to drive\")\n",
    "elif age == 16 :\n",
    "    print(\"You can buy a lottery ticket\")\n",
    "else:\n",
    "    print(\"You can go Trick\u0002or-Treating\")"
   ]
  },
  {
   "cell_type": "markdown",
   "id": "a7ea314d",
   "metadata": {},
   "source": [
    "#### 018 \n",
    "###### Ask the user to enter a number. If it is under 10, display the message “Too low”, if their number is between 10 and 20, display “Correct”, otherwise display “Too high”. "
   ]
  },
  {
   "cell_type": "code",
   "execution_count": 20,
   "id": "28577fd2",
   "metadata": {},
   "outputs": [
    {
     "name": "stdout",
     "output_type": "stream",
     "text": [
      "Enter a number: 16\n",
      "Correct\n"
     ]
    }
   ],
   "source": [
    "num = int(input(\"Enter a number: \"))\n",
    "if num < 10:\n",
    "    print(\"Too low\")\n",
    "elif num >= 10 and num <= 20:\n",
    "    print(\"Correct\")\n",
    "else:\n",
    "    print(\"Too high\")\n",
    "    "
   ]
  },
  {
   "cell_type": "markdown",
   "id": "9f1fd414",
   "metadata": {},
   "source": [
    "#### 019 \n",
    "###### Ask the user to enter 1, 2 or 3. If they enter a 1, display the message “Thank you”, if they enter a 2, display “Well done”, if they enter a 3, display “Correct”. If they enter anything else, display “Error message”. "
   ]
  },
  {
   "cell_type": "code",
   "execution_count": 25,
   "id": "9ae16b05",
   "metadata": {},
   "outputs": [
    {
     "name": "stdout",
     "output_type": "stream",
     "text": [
      "Enter a number: 1\n",
      "Thank you\n"
     ]
    }
   ],
   "source": [
    "num = int(input(\"Enter a number: \"))\n",
    "if num == 1:\n",
    "    print(\"Thank you\")\n",
    "elif num == 2:\n",
    "    print(\"Well done\")\n",
    "elif num == 3:\n",
    "    print(\"Correct\")\n",
    "else:\n",
    "    print(\"Error\")\n"
   ]
  },
  {
   "cell_type": "code",
   "execution_count": null,
   "id": "b16d158b",
   "metadata": {},
   "outputs": [],
   "source": []
  }
 ],
 "metadata": {
  "kernelspec": {
   "display_name": "Python 3 (ipykernel)",
   "language": "python",
   "name": "python3"
  },
  "language_info": {
   "codemirror_mode": {
    "name": "ipython",
    "version": 3
   },
   "file_extension": ".py",
   "mimetype": "text/x-python",
   "name": "python",
   "nbconvert_exporter": "python",
   "pygments_lexer": "ipython3",
   "version": "3.9.12"
  }
 },
 "nbformat": 4,
 "nbformat_minor": 5
}
