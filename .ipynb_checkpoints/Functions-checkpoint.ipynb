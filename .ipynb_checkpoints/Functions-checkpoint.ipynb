{
 "cells": [
  {
   "cell_type": "markdown",
   "metadata": {
    "colab_type": "text",
    "id": "view-in-github"
   },
   "source": [
    "<a href=\"https://colab.research.google.com/github/KanchanCS/Python_pratics/blob/main/Functions.ipynb\" target=\"_parent\"><img src=\"https://colab.research.google.com/assets/colab-badge.svg\" alt=\"Open In Colab\"/></a>"
   ]
  },
  {
   "cell_type": "code",
   "execution_count": null,
   "metadata": {
    "colab": {
     "base_uri": "https://localhost:8080/"
    },
    "id": "n0ENWdBIN6je",
    "outputId": "edca8e2d-6341-4331-92b5-dbfe0d933799"
   },
   "outputs": [
    {
     "data": {
      "text/plain": [
       "5"
      ]
     },
     "execution_count": 5,
     "metadata": {},
     "output_type": "execute_result"
    }
   ],
   "source": [
    "my_list = [1,2,3,4,5]\n",
    "cumulative_sum = 0\n",
    "cumulative_result =[]\n",
    "def i in my_list:\n",
    "    cumulative_sum+=i\n",
    "    cumulative_result.append"
   ]
  },
  {
   "cell_type": "code",
   "execution_count": null,
   "metadata": {
    "colab": {
     "base_uri": "https://localhost:8080/"
    },
    "id": "3fmiNfnuLsZf",
    "outputId": "339ba46b-db3b-4ae4-da59-8d26cadd28b9"
   },
   "outputs": [
    {
     "name": "stdout",
     "output_type": "stream",
     "text": [
      "5\n",
      "7\n",
      "HelloWello\n",
      "[1, 2, 5, 6]\n",
      "Enter the value of ab\n",
      "Enter the value of b7\n",
      "b7\n",
      "False\n",
      "True\n"
     ]
    }
   ],
   "source": [
    "def sum(a, b):\n",
    "  return a+b\n",
    "\n",
    "print(sum(2,3)) # 5\n",
    "print(sum(5,2)) # 7\n",
    "print(sum(\"Hello\", \"Wello\")) # HelloWello\n",
    "print(sum([1,2], [5,6])) # [3, 11]  # [1,2,5,6]\n",
    "\n",
    "a = input(\"Enter the value of a\")\n",
    "b = input(\"Enter the value of b\")\n",
    "x = a.isdigit()\n",
    "y = b.isdigit()\n",
    "if x == y == True:\n",
    "  print(sum(int(a), int(b)))\n",
    "else:\n",
    "  print(sum(a,b))\n",
    "\n",
    "print(x)\n",
    "print(y)\n",
    "\n"
   ]
  },
  {
   "cell_type": "code",
   "execution_count": null,
   "metadata": {
    "id": "ob_pJOHcMyE8"
   },
   "outputs": [],
   "source": [
    "class Person():\n",
    "  def __init__(self, name, age, height):\n",
    "    self.name = name\n",
    "    self.age = age\n",
    "    self.heigth = height\n",
    "  def person_detail(self):\n",
    "    return f\"{self.name} my age is {self.age}\"\n"
   ]
  },
  {
   "cell_type": "code",
   "execution_count": null,
   "metadata": {
    "colab": {
     "base_uri": "https://localhost:8080/",
     "height": 35
    },
    "id": "6tA6g7cpXgpF",
    "outputId": "3f833c1f-022c-4f57-ce2f-92cce5230e0b"
   },
   "outputs": [
    {
     "data": {
      "application/vnd.google.colaboratory.intrinsic+json": {
       "type": "string"
      },
      "text/plain": [
       "'Rohan my age is 19'"
      ]
     },
     "execution_count": 35,
     "metadata": {},
     "output_type": "execute_result"
    }
   ],
   "source": [
    "p1 = Person(\"Rohan\", 19, 0)\n",
    "p1.person_detail()"
   ]
  },
  {
   "cell_type": "markdown",
   "metadata": {
    "id": "sReq6BwfcF9q"
   },
   "source": [
    "Sure! Here are five easy questions related to basic object-oriented programming concepts in Python:\n",
    "\n",
    "Question 1:\n",
    "Story: Alice is a student who wants to keep track of her grades for different subjects. She wants to create a class to represent her grades.\n",
    "Question: Define a class called \"Grades\" that has a constructor method to initialize the subject name and a method called \"display_grade\" that prints the subject name and the corresponding grade.\n",
    "\n",
    "Question 2:\n",
    "Story: Bob is a bank customer who wants to manage his bank account. He wants to create a class to represent his account.\n",
    "Question: Define a class called \"BankAccount\" that has instance variables for account number and balance. Create methods called \"deposit\" and \"withdraw\" to update the account balance accordingly.\n",
    "\n",
    "Question 3:\n",
    "Story: Carol loves animals and wants to create a class hierarchy to represent different types of animals.\n",
    "Question: Define a base class called \"Animal\" that has a method called \"sound\" which prints a generic sound. Create two derived classes called \"Dog\" and \"Cat\" that override the \"sound\" method to print \"Woof\" and \"Meow\" respectively.\n",
    "\n",
    "Question 4:\n",
    "Story: David is a game developer who wants to create a class for a player in a game.\n",
    "Question: Define a class called \"Player\" that has instance variables for player name and score. Implement a method called \"update_score\" that takes a parameter and updates the player's score by adding the provided value.\n",
    "\n",
    "Question 5:\n",
    "Story: Emily wants to create a class to represent a rectangle shape.\n",
    "Question: Define a class called \"Rectangle\" that has instance variables for length and width. Implement a method called \"calculate_area\" that calculates and returns the area of the rectangle.\n",
    "\n",
    "These questions cover basic concepts like class definition, constructor, instance variables, methods, inheritance, and method implementation. They should provide a good foundation for understanding object-oriented programming in Python."
   ]
  },
  {
   "cell_type": "code",
   "execution_count": 2,
   "metadata": {
    "colab": {
     "base_uri": "https://localhost:8080/"
    },
    "id": "wD3VzsuracDr",
    "outputId": "dd192cbd-449c-4691-d51c-6d63f0cf95fc"
   },
   "outputs": [
    {
     "name": "stdout",
     "output_type": "stream",
     "text": [
      "subject: Math\n",
      "Grade: 90\n"
     ]
    }
   ],
   "source": [
    "class Grade:\n",
    "\n",
    "  def __init__(self, subject_name, grade):\n",
    "    self.subject_name = subject_name\n",
    "    self.grade = grade\n",
    "\n",
    "  def display_grade(self):\n",
    "    print(f\"subject: {self.subject_name}\")\n",
    "    print(f\"Grade: {self.grade}\")\n",
    "\n",
    "math_grade = Grade(\"Math\", 90)\n",
    "math_grade.display_grade()"
   ]
  },
  {
   "cell_type": "code",
   "execution_count": 1,
   "metadata": {
    "colab": {
     "base_uri": "https://localhost:8080/"
    },
    "id": "ZQx26_jracQw",
    "outputId": "c4364d93-01d8-4630-f430-7be0f4221f50"
   },
   "outputs": [
    {
     "name": "stdout",
     "output_type": "stream",
     "text": [
      "Account Number: 1234567890\n",
      "Initial Balance: 1000\n",
      "Balance after deposit: 1500\n",
      "Balance after withdrawal: 1300\n",
      "Insufficient funds\n"
     ]
    }
   ],
   "source": [
    "class BankAccount:\n",
    "    def __init__(self, account_number, initial_balance=0):\n",
    "        self.account_number = account_number\n",
    "        self.balance = initial_balance\n",
    "\n",
    "    def deposit(self, amount):\n",
    "        self.balance += amount\n",
    "\n",
    "    def withdraw(self, amount):\n",
    "        if self.balance >= amount:\n",
    "            self.balance -= amount\n",
    "        else:\n",
    "            print(\"Insufficient funds\")\n",
    "\n",
    "account = BankAccount(\"1234567890\", 1000)\n",
    "\n",
    "print(\"Account Number:\", account.account_number)\n",
    "print(\"Initial Balance:\", account.balance)\n",
    "\n",
    "account.deposit(500)\n",
    "print(\"Balance after deposit:\", account.balance)\n",
    "\n",
    "account.withdraw(200)\n",
    "print(\"Balance after withdrawal:\", account.balance)\n",
    "\n",
    "account.withdraw(2000)\n"
   ]
  },
  {
   "cell_type": "code",
   "execution_count": 3,
   "metadata": {
    "colab": {
     "base_uri": "https://localhost:8080/"
    },
    "id": "Mw3THutAacTN",
    "outputId": "2740e832-67ee-4e3c-e291-a98be307fe06"
   },
   "outputs": [
    {
     "name": "stdout",
     "output_type": "stream",
     "text": [
      "Generic sound\n",
      "Woof\n",
      "Meow\n"
     ]
    }
   ],
   "source": [
    "class Animal:\n",
    "    def sound(self):\n",
    "        print(\"Generic sound\")\n",
    "\n",
    "class Dog(Animal):\n",
    "    def sound(self):\n",
    "        print(\"Woof\")\n",
    "\n",
    "class Cat(Animal):\n",
    "    def sound(self):\n",
    "        print(\"Meow\")\n",
    "\n",
    "animal = Animal()\n",
    "animal.sound()\n",
    "\n",
    "dog = Dog()\n",
    "dog.sound()\n",
    "\n",
    "cat = Cat()\n",
    "cat.sound()\n"
   ]
  },
  {
   "cell_type": "code",
   "execution_count": null,
   "metadata": {
    "id": "V3JftiJYacXo"
   },
   "outputs": [],
   "source": []
  },
  {
   "cell_type": "code",
   "execution_count": null,
   "metadata": {
    "id": "B0HgCybsacaU"
   },
   "outputs": [],
   "source": []
  },
  {
   "cell_type": "code",
   "execution_count": null,
   "metadata": {
    "id": "hMlXVGN5acd5"
   },
   "outputs": [],
   "source": []
  }
 ],
 "metadata": {
  "colab": {
   "include_colab_link": true,
   "provenance": []
  },
  "kernelspec": {
   "display_name": "Python 3 (ipykernel)",
   "language": "python",
   "name": "python3"
  },
  "language_info": {
   "codemirror_mode": {
    "name": "ipython",
    "version": 3
   },
   "file_extension": ".py",
   "mimetype": "text/x-python",
   "name": "python",
   "nbconvert_exporter": "python",
   "pygments_lexer": "ipython3",
   "version": "3.9.12"
  }
 },
 "nbformat": 4,
 "nbformat_minor": 1
}
