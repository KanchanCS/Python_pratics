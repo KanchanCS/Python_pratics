{
 "cells": [
  {
   "cell_type": "markdown",
   "id": "7029a4de",
   "metadata": {},
   "source": [
    "### 001 \n",
    "###### Ask for the user’s first name and display the\n",
    "* output message Hello [First Name] ."
   ]
  },
  {
   "cell_type": "code",
   "execution_count": 4,
   "id": "1f6c00b1",
   "metadata": {},
   "outputs": [
    {
     "name": "stdout",
     "output_type": "stream",
     "text": [
      "Enter The first name: jon\n",
      "Hello jon\n"
     ]
    }
   ],
   "source": [
    "user = input(\"Enter The first name: \")\n",
    "print(\"Hello\",user)"
   ]
  },
  {
   "cell_type": "markdown",
   "id": "39df1e90",
   "metadata": {},
   "source": [
    "### 002 \n",
    "###### Ask for the user’s first name and then ask for their surname and display the \n",
    "* output message Hello [First Name] [Surname]. "
   ]
  },
  {
   "cell_type": "code",
   "execution_count": 7,
   "id": "dd0957d0",
   "metadata": {},
   "outputs": [
    {
     "name": "stdout",
     "output_type": "stream",
     "text": [
      "Enter The Fname: python\n",
      "Enter The Lname: Developer\n",
      "Hello python Developer\n"
     ]
    }
   ],
   "source": [
    "fname = input(\"Enter The Fname: \")\n",
    "lname = input(\"Enter The Lname: \")\n",
    "fullname = fname + \" \" + lname\n",
    "print(\"Hello\",fullname)"
   ]
  },
  {
   "cell_type": "markdown",
   "id": "41f80352",
   "metadata": {},
   "source": [
    "#### 003 \n",
    "##### Write code that will display the joke “What do you call a bear with no teeth?” and on the next line display the answer “A gummy bear!” Try to create it using only one line of code. "
   ]
  },
  {
   "cell_type": "code",
   "execution_count": 9,
   "id": "2bf8ffd2",
   "metadata": {},
   "outputs": [
    {
     "name": "stdout",
     "output_type": "stream",
     "text": [
      " “What do you call a bear with no teeth?\"\n",
      "“A gummy bear!” \n"
     ]
    }
   ],
   "source": [
    "joke = \"\"\" “What do you call a bear with no teeth?\"\\n“A gummy bear!” \"\"\"\n",
    "print(joke)"
   ]
  },
  {
   "cell_type": "markdown",
   "id": "b7c4631d",
   "metadata": {},
   "source": [
    "#### 004 \n",
    "* Ask the user to enter two numbers. Add them together and display the answer as The total is \n",
    "[answer]. "
   ]
  },
  {
   "cell_type": "code",
   "execution_count": 18,
   "id": "4bd9b07a",
   "metadata": {},
   "outputs": [
    {
     "name": "stdout",
     "output_type": "stream",
     "text": [
      "Enter The num1: 4\n",
      "Enter The num2: 4\n",
      "Total count Number:  8\n"
     ]
    }
   ],
   "source": [
    "num1 = int(input(\"Enter The num1: \"))\n",
    "num2 = int(input(\"Enter The num2: \"))\n",
    "total = num1 + num2\n",
    "print(\"Total count Number: \",total)"
   ]
  },
  {
   "cell_type": "markdown",
   "id": "fb428b5b",
   "metadata": {},
   "source": [
    "### 005 \n",
    "###### Ask the user to enter three numbers. Add together the first two numbers and then multiply this total by the third. Display the answer as The answer is \n",
    "[answer]. \n"
   ]
  },
  {
   "cell_type": "code",
   "execution_count": 23,
   "id": "493c1d37",
   "metadata": {},
   "outputs": [
    {
     "name": "stdout",
     "output_type": "stream",
     "text": [
      "Enter The num1: 2\n",
      "Enter The num2: 2\n",
      "Enter The num3: 2\n",
      "8\n"
     ]
    }
   ],
   "source": [
    "num1 = int(input(\"Enter The num1: \"))\n",
    "num2 = int(input(\"Enter The num2: \"))\n",
    "num3 = int(input(\"Enter The num3: \"))\n",
    "\n",
    "add = (num1 + num2) * num3\n",
    "print(add)"
   ]
  },
  {
   "cell_type": "markdown",
   "id": "ec0114bb",
   "metadata": {},
   "source": [
    "#### 006 \n",
    "###### Ask how many slices of pizza the user started with and ask how many slices they have eaten. Work out how many slices they have left and display the answer in a user\u0002friendly format"
   ]
  },
  {
   "cell_type": "code",
   "execution_count": 27,
   "id": "0a71ca9a",
   "metadata": {},
   "outputs": [
    {
     "name": "stdout",
     "output_type": "stream",
     "text": [
      "How many slices of pizza: 6\n",
      "How many slices of pizza: 4\n",
      "You have 2 slices remaining\n"
     ]
    }
   ],
   "source": [
    "pizz = int(input(\"How many slices of pizza: \"))\n",
    "eat = int(input(\"How many slices of pizza: \"))\n",
    "slices = pizz - eat\n",
    "print(\"You have\", slices, \"slices remaining\")"
   ]
  },
  {
   "cell_type": "markdown",
   "id": "da3a1598",
   "metadata": {},
   "source": [
    "#### 007 \n",
    "###### Ask the user for their name and their age. Add 1 to their age and display the output [Name] next birthday you will be [new age]. "
   ]
  },
  {
   "cell_type": "code",
   "execution_count": 28,
   "id": "4d75ab38",
   "metadata": {},
   "outputs": [
    {
     "name": "stdout",
     "output_type": "stream",
     "text": [
      "What is your name: kanchan\n",
      "Curent your age: 24\n",
      "kanchan next birthday you will be 25\n"
     ]
    }
   ],
   "source": [
    "user = input(\"What is your name: \")\n",
    "user_age = int(input(\"Curent your age: \"))\n",
    "add = user_age + 1\n",
    "print(user,\"next birthday you will be\", add )"
   ]
  },
  {
   "cell_type": "markdown",
   "id": "05fa3e0c",
   "metadata": {},
   "source": [
    "#### 008 \n",
    "###### Ask for the total price of the bill, then ask how many diners there are. Divide the total bill by the number of diners and show how much each person must pay. "
   ]
  },
  {
   "cell_type": "code",
   "execution_count": 33,
   "id": "b01fa78d",
   "metadata": {},
   "outputs": [
    {
     "name": "stdout",
     "output_type": "stream",
     "text": [
      "Total price of the bill: 400\n",
      "How many diners there are: 200\n",
      "Each person Should pay:  1\n"
     ]
    }
   ],
   "source": [
    "total_bill = int(input(\"Total price of the bill: \"))\n",
    "number =  int(input(\"How many diners there are: \"))\n",
    "each = total_bill /number\n",
    "print(\"Each person Should pay: \",div)"
   ]
  },
  {
   "cell_type": "markdown",
   "id": "fa0addb3",
   "metadata": {},
   "source": [
    "### 009 \n",
    "###### Write a program that will ask for a number of days and then will show how many hours, minutes and seconds are in that number of days. "
   ]
  },
  {
   "cell_type": "code",
   "execution_count": 37,
   "id": "48f2a8b2",
   "metadata": {},
   "outputs": [
    {
     "name": "stdout",
     "output_type": "stream",
     "text": [
      "Enter the Number of days: 1\n",
      "in 1 number of days: \n",
      "Hours:  24\n",
      "Minutes:  1440\n",
      "Seconds:  86400\n"
     ]
    }
   ],
   "source": [
    "day = int(input(\"Enter the Number of days: \"))\n",
    "hour = day*24\n",
    "minutes = hour*60\n",
    "sec = minutes*60\n",
    "print(\"in\",day,\"number of days: \")\n",
    "print(\"Hours: \",hour)\n",
    "print(\"Minutes: \",minutes)\n",
    "print(\"Seconds: \",sec)"
   ]
  },
  {
   "cell_type": "markdown",
   "id": "bfa4bb4f",
   "metadata": {},
   "source": [
    "#### 010 \n",
    "###### There are 2,204 pounds in a kilogram. Ask the user to enter a weight in kilograms and convert it to pounds"
   ]
  },
  {
   "cell_type": "code",
   "execution_count": 42,
   "id": "5febfd9d",
   "metadata": {},
   "outputs": [
    {
     "name": "stdout",
     "output_type": "stream",
     "text": [
      "Enter a weight: 4\n",
      "That is 8.816 pounds\n"
     ]
    }
   ],
   "source": [
    "weit  = int(input(\"Enter a weight: \"))\n",
    "pounds = weit * 2.204\n",
    "print(\"That is\",pounds,\"pounds\")"
   ]
  },
  {
   "cell_type": "markdown",
   "id": "6ddad28f",
   "metadata": {},
   "source": [
    "### 011 \n",
    "###### Task the user to enter a number over 100 and then enter a number under 10 and tell them how many times the smaller number goes into the larger number in a user-friendly format"
   ]
  },
  {
   "cell_type": "code",
   "execution_count": 47,
   "id": "844c09b8",
   "metadata": {},
   "outputs": [
    {
     "name": "stdout",
     "output_type": "stream",
     "text": [
      "Enter a number over 100: 110\n",
      "Enter a number under 10: 10\n",
      "10 goes into 110 11 times\n"
     ]
    }
   ],
   "source": [
    "large  = int(input(\"Enter a number over 100: \"))\n",
    "small  = int(input(\"Enter a number under 10: \"))\n",
    "answer = large // small\n",
    "print(small,\"goes into\", large,answer,\"times\")"
   ]
  },
  {
   "cell_type": "markdown",
   "id": "889be1f1",
   "metadata": {},
   "source": [
    "\n",
    "## if statement\n"
   ]
  },
  {
   "cell_type": "code",
   "execution_count": 51,
   "id": "f199a4d2",
   "metadata": {},
   "outputs": [
    {
     "name": "stdout",
     "output_type": "stream",
     "text": [
      "This over 10\n"
     ]
    }
   ],
   "source": [
    "num = 14\n",
    "if num > 10:\n",
    "    print(\"This over 10\")\n",
    "elif num == 10:\n",
    "    print(\"This is equal\")\n",
    "else:\n",
    "    print(\"This is under 10\")"
   ]
  },
  {
   "cell_type": "markdown",
   "id": "45948032",
   "metadata": {},
   "source": [
    "### 012 \n",
    "###### Ask for two numbers. If the first one is larger than the second, display the second number first and then the first number, otherwise show the first number first and then the second. "
   ]
  },
  {
   "cell_type": "code",
   "execution_count": 57,
   "id": "0c6d9f55",
   "metadata": {},
   "outputs": [
    {
     "name": "stdout",
     "output_type": "stream",
     "text": [
      "Enter the first number: 1\n",
      "Enter the second number: 2\n",
      "First number: 1 Second number:  2\n"
     ]
    }
   ],
   "source": [
    "num1 = int(input(\"Enter the first number: \"))\n",
    "num2 = int(input(\"Enter the second number: \"))\n",
    "if num1 > num2:\n",
    "    print(\"Second number: \",num2,\"First number:\", num1)\n",
    "else:\n",
    "    print(\"First number:\", num1, \"Second number: \", num2)"
   ]
  },
  {
   "cell_type": "markdown",
   "id": "2ded3bdc",
   "metadata": {},
   "source": [
    "### 013 \n",
    "###### Ask the user to enter a number that is under 20. If they enter a number that is 20 or more, display the message “Too high”, otherwise display “Thank you”. "
   ]
  },
  {
   "cell_type": "code",
   "execution_count": 62,
   "id": "859e77dc",
   "metadata": {},
   "outputs": [
    {
     "name": "stdout",
     "output_type": "stream",
     "text": [
      "Enter a number that is under 20: 63\n",
      "Too high\n"
     ]
    }
   ],
   "source": [
    "num1 = int(input(\"Enter a number that is under 20: \"))\n",
    "if num1 >= 20:\n",
    "    print(\"Too high\")\n",
    "else:\n",
    "    print(\"Thank you\")"
   ]
  },
  {
   "cell_type": "markdown",
   "id": "bb042fb1",
   "metadata": {},
   "source": [
    "#### 014 \n",
    "###### Ask the user to enter a number between 10 and 20 (inclusive). If they enter a number within this range, display the message “Thank you”, otherwise display the message “Incorrect answer”. "
   ]
  },
  {
   "cell_type": "code",
   "execution_count": 65,
   "id": "b4b97ab8",
   "metadata": {},
   "outputs": [
    {
     "name": "stdout",
     "output_type": "stream",
     "text": [
      "Enter a number between 10 and 20: 45\n",
      "incorrect answer\n"
     ]
    }
   ],
   "source": [
    "num1 = int(input(\"Enter a number between 10 and 20: \"))\n",
    "if num1 > 10 and num1 < 20:\n",
    "    print(\"Thank you\")\n",
    "else:\n",
    "    print(\"incorrect answer\")"
   ]
  },
  {
   "cell_type": "markdown",
   "id": "61e7e04d",
   "metadata": {},
   "source": [
    "#### 015 \n",
    "###### Ask the user to enter their favourite colour. If they enter “red”, “RED” or “Red” display the message “I like red too”, otherwise display the message “I don’t like [colour], I prefer red”. "
   ]
  },
  {
   "cell_type": "code",
   "execution_count": 74,
   "id": "ca241d8c",
   "metadata": {},
   "outputs": [
    {
     "name": "stdout",
     "output_type": "stream",
     "text": [
      "Enter their favourite colour : red\n",
      "I like red too\n"
     ]
    }
   ],
   "source": [
    "colour = input(\"Enter their favourite colour : \")\n",
    "if colour == \"red\" or colour == \"RED\" or colour == \"Red\":\n",
    "    print(\"I like red too\")\n",
    "else:\n",
    "    print(\"I don’t like\",colour)"
   ]
  },
  {
   "cell_type": "markdown",
   "id": "9b399b09",
   "metadata": {},
   "source": [
    "#### 016 \n",
    "###### Ask the user if it is raining and convert their answer to lower case so it doesn’t matter what case they type it in. If they answer “yes”, ask if it is windy. If they answer “yes” to this second question, display the answer “It is too windy for an umbrella”, otherwise display the message “Take an umbrella”. If they did not answer yes to the first question, display the answer “Enjoy your day”. "
   ]
  },
  {
   "cell_type": "code",
   "execution_count": 2,
   "id": "cb611788",
   "metadata": {},
   "outputs": [
    {
     "name": "stdout",
     "output_type": "stream",
     "text": [
      "It is raining: FGHJ\n",
      "Enjoy your day\n"
     ]
    }
   ],
   "source": [
    "raining = input(\"It is raining: \")\n",
    "raining = str.lower(raining)\n",
    "if raining == \"Yes\":\n",
    "    windy = input(\"it is windly?\")\n",
    "    windy = str.lower(windy)\n",
    "    if windy == \"yes\":\n",
    "        print(\"iit is too windly for an umberella\")\n",
    "    else:\n",
    "        print(\"Take a umberella\")\n",
    "else:\n",
    "    print(\"Enjoy your day\")\n",
    "                "
   ]
  },
  {
   "cell_type": "markdown",
   "id": "ff39a4af",
   "metadata": {},
   "source": [
    "#### 017 \n",
    "###### Ask the user’s age. If they are 18 or over, display the message “You can vote”, if they are aged 17, display the message “You can learn to drive”, if they are 16, display the message “You can buy a lottery ticket”, if they are under 16, display the message “You can go Trick\u0002or-Treating”"
   ]
  },
  {
   "cell_type": "code",
   "execution_count": 10,
   "id": "6c3ef671",
   "metadata": {},
   "outputs": [
    {
     "name": "stdout",
     "output_type": "stream",
     "text": [
      "Enter the your age: 14\n",
      "You can go Trick\u0002or-Treating\n"
     ]
    }
   ],
   "source": [
    "age = int(input(\"Enter the your age: \"))\n",
    "if age >= 18:\n",
    "    print(\"You can vote\")\n",
    "elif age == 17:\n",
    "    print(\"You can learn to drive\")\n",
    "elif age == 16 :\n",
    "    print(\"You can buy a lottery ticket\")\n",
    "else:\n",
    "    print(\"You can go Trick\u0002or-Treating\")"
   ]
  },
  {
   "cell_type": "markdown",
   "id": "b4d08e9c",
   "metadata": {},
   "source": [
    "#### 018 \n",
    "###### Ask the user to enter a number. If it is under 10, display the message “Too low”, if their number is between 10 and 20, display “Correct”, otherwise display “Too high”. "
   ]
  },
  {
   "cell_type": "code",
   "execution_count": 20,
   "id": "8a0331e9",
   "metadata": {},
   "outputs": [
    {
     "name": "stdout",
     "output_type": "stream",
     "text": [
      "Enter a number: 16\n",
      "Correct\n"
     ]
    }
   ],
   "source": [
    "num = int(input(\"Enter a number: \"))\n",
    "if num < 10:\n",
    "    print(\"Too low\")\n",
    "elif num >= 10 and num <= 20:\n",
    "    print(\"Correct\")\n",
    "else:\n",
    "    print(\"Too high\")\n",
    "    "
   ]
  },
  {
   "cell_type": "markdown",
   "id": "548be0e1",
   "metadata": {},
   "source": [
    "#### 019 \n",
    "###### Ask the user to enter 1, 2 or 3. If they enter a 1, display the message “Thank you”, if they enter a 2, display “Well done”, if they enter a 3, display “Correct”. If they enter anything else, display “Error message”. "
   ]
  },
  {
   "cell_type": "code",
   "execution_count": 25,
   "id": "90c9b999",
   "metadata": {},
   "outputs": [
    {
     "name": "stdout",
     "output_type": "stream",
     "text": [
      "Enter a number: 1\n",
      "Thank you\n"
     ]
    }
   ],
   "source": [
    "num = int(input(\"Enter a number: \"))\n",
    "if num == 1:\n",
    "    print(\"Thank you\")\n",
    "elif num == 2:\n",
    "    print(\"Well done\")\n",
    "elif num == 3:\n",
    "    print(\"Correct\")\n",
    "else:\n",
    "    print(\"Error\")\n"
   ]
  },
  {
   "cell_type": "code",
   "execution_count": 32,
   "id": "2cc09739",
   "metadata": {},
   "outputs": [
    {
     "name": "stdout",
     "output_type": "stream",
     "text": [
      "enter the name:   kanchan \n",
      "Hello \n"
     ]
    }
   ],
   "source": [
    "fullname = input(\"enter the name: \")\n",
    "first_name = fullname.split(\" \")\n",
    "print(f\"Hello {first_name[0]}\")"
   ]
  },
  {
   "cell_type": "markdown",
   "id": "4d53a158",
   "metadata": {},
   "source": [
    "### Strings"
   ]
  },
  {
   "cell_type": "code",
   "execution_count": 6,
   "id": "e8701dc7",
   "metadata": {},
   "outputs": [
    {
     "name": "stdout",
     "output_type": "stream",
     "text": [
      "enter the name: k\n"
     ]
    },
    {
     "ename": "TypeError",
     "evalue": "can only concatenate str (not \"int\") to str",
     "output_type": "error",
     "traceback": [
      "\u001b[1;31m---------------------------------------------------------------------------\u001b[0m",
      "\u001b[1;31mTypeError\u001b[0m                                 Traceback (most recent call last)",
      "Input \u001b[1;32mIn [6]\u001b[0m, in \u001b[0;36m<cell line: 3>\u001b[1;34m()\u001b[0m\n\u001b[0;32m      1\u001b[0m name \u001b[38;5;241m=\u001b[39m \u001b[38;5;28minput\u001b[39m(\u001b[38;5;124m\"\u001b[39m\u001b[38;5;124menter the name: \u001b[39m\u001b[38;5;124m\"\u001b[39m)\n\u001b[0;32m      2\u001b[0m num \u001b[38;5;241m=\u001b[39m \u001b[38;5;241m10\u001b[39m\n\u001b[1;32m----> 3\u001b[0m total \u001b[38;5;241m=\u001b[39m \u001b[43mname\u001b[49m\u001b[43m \u001b[49m\u001b[38;5;241;43m+\u001b[39;49m\u001b[43m \u001b[49m\u001b[43mnum\u001b[49m\n\u001b[0;32m      4\u001b[0m \u001b[38;5;28mprint\u001b[39m(total)\n",
      "\u001b[1;31mTypeError\u001b[0m: can only concatenate str (not \"int\") to str"
     ]
    }
   ],
   "source": [
    "name = input(\"enter the name: \")\n",
    "num = 10\n",
    "total = name + num\n",
    "print(total)"
   ]
  },
  {
   "cell_type": "code",
   "execution_count": 8,
   "id": "75ad9d23",
   "metadata": {},
   "outputs": [
    {
     "name": "stdout",
     "output_type": "stream",
     "text": [
      "enter the name: kanchan\n",
      "enter the name: 4\n",
      "kanchan4\n"
     ]
    }
   ],
   "source": [
    "name =  input(\"enter the name: \")\n",
    "num =  int(input(\"enter the name: \"))\n",
    "total = name + str(num)\n",
    "print(total)"
   ]
  },
  {
   "cell_type": "markdown",
   "id": "e2cf5c78",
   "metadata": {},
   "source": [
    "### 020 \n",
    "###### Ask the user to enter their first name and then display the length of their name. "
   ]
  },
  {
   "cell_type": "code",
   "execution_count": 16,
   "id": "0d3f329d",
   "metadata": {},
   "outputs": [
    {
     "name": "stdout",
     "output_type": "stream",
     "text": [
      "Enter the name: python code\n",
      "'python code' length is a: 11\n"
     ]
    }
   ],
   "source": [
    "name = input(\"Enter the name: \")\n",
    "length = len(name)\n",
    "print(f\"'{name}' length is a: {length}\")"
   ]
  },
  {
   "cell_type": "markdown",
   "id": "110feda8",
   "metadata": {},
   "source": [
    "### 021 \n",
    "###### Ask the user to enter their first name and then ask them to enter their surname. Join them together with a space between and display the name and the length of whole name. "
   ]
  },
  {
   "cell_type": "code",
   "execution_count": 22,
   "id": "1ea08ad3",
   "metadata": {},
   "outputs": [
    {
     "name": "stdout",
     "output_type": "stream",
     "text": [
      "Enter the name: jon\n",
      "Enter the name: son\n",
      "Full Name:  jon son\n",
      "Full Name Length:  7\n"
     ]
    }
   ],
   "source": [
    "first_name = input(\"Enter the first_name: \")\n",
    "sur_name = input(\"Enter the surname: \")\n",
    "fullname = first_name + \" \" + sur_name\n",
    "length = len(fullname)\n",
    "print(\"Full Name: \",fullname)\n",
    "print(\"Full Name Length: \",length)\n"
   ]
  },
  {
   "cell_type": "markdown",
   "id": "2ba9ae18",
   "metadata": {},
   "source": [
    "### 022 \n",
    "###### Ask the user to enter their first name and surname in lower case. Change the case to title case and join them together. Display the finished result."
   ]
  },
  {
   "cell_type": "code",
   "execution_count": 24,
   "id": "ee91efa3",
   "metadata": {},
   "outputs": [
    {
     "name": "stdout",
     "output_type": "stream",
     "text": [
      "Enter the first name in lowercase: jon\n",
      "Enter the surname in lowercase: son\n",
      "Jon Son\n"
     ]
    }
   ],
   "source": [
    "first_name = input(\"Enter the first name in lowercase: \")\n",
    "sur_name = input(\"Enter the surname in lowercase: \")\n",
    "first_name = first_name.title()\n",
    "sur_name = sur_name.title()\n",
    "fullname = first_name + \" \" + sur_name\n",
    "print(fullname)"
   ]
  },
  {
   "cell_type": "markdown",
   "id": "a866804c",
   "metadata": {},
   "source": [
    "### 023 \n",
    "###### Ask the user to type in the first line of a nursery rhyme and display the length of the string. Ask for a starting number and an ending number and then display just that section of the text (remember Python starts counting from 0 and not 1). "
   ]
  },
  {
   "cell_type": "code",
   "execution_count": 27,
   "id": "fcca5061",
   "metadata": {},
   "outputs": [
    {
     "name": "stdout",
     "output_type": "stream",
     "text": [
      "Enter the first line of a nursery rhyme: python\n",
      "This has 6 letters in it\n",
      "Enter a starting number: 0\n",
      "Enter a end number: 6\n",
      "python\n"
     ]
    }
   ],
   "source": [
    "user = input(\"Enter the first line of a nursery rhyme: \")\n",
    "length = len(user)\n",
    "print(\"This has\", length, \"letters in it\")\n",
    "start = int(input(\"Enter a starting number: \"))\n",
    "end = int(input(\"Enter a end number: \"))\n",
    "part = (user[start:end])\n",
    "print(part)"
   ]
  },
  {
   "cell_type": "markdown",
   "id": "d932f88b",
   "metadata": {},
   "source": [
    "### 024 \n",
    "###### Ask the user to type in any word and display it in upper case. "
   ]
  },
  {
   "cell_type": "code",
   "execution_count": 30,
   "id": "178a986f",
   "metadata": {},
   "outputs": [
    {
     "name": "stdout",
     "output_type": "stream",
     "text": [
      "Enter the name:python\n",
      "PYTHON\n"
     ]
    }
   ],
   "source": [
    "sur_name = input(\"Enter the name:\")\n",
    "name = sur_name.upper()\n",
    "print(name)"
   ]
  },
  {
   "cell_type": "markdown",
   "id": "3e31863f",
   "metadata": {},
   "source": [
    "### 025 \n",
    "###### Ask the user to enter their first name. If the length of their first name is under five characters, ask them to enter their surname and join them together (without a space) and display the name in upper case. If the length of the first name is fiveor more characters, display their first name in lower case. "
   ]
  },
  {
   "cell_type": "code",
   "execution_count": null,
   "id": "a3cb41c5",
   "metadata": {},
   "outputs": [],
   "source": []
  },
  {
   "cell_type": "code",
   "execution_count": 41,
   "id": "bdf821ce",
   "metadata": {},
   "outputs": [
    {
     "name": "stdout",
     "output_type": "stream",
     "text": [
      "Enter the first_name: kanc\n",
      "Enter the sur_name: yadav\n",
      "KANCYADAV\n"
     ]
    }
   ],
   "source": [
    "first_name = input(\"Enter the first_name: \")\n",
    "if len(first_name) < 5:\n",
    "    surname = input(\"Enter the sur_name: \")\n",
    "    name = first_name + surname\n",
    "    print(name.upper())\n",
    "else:\n",
    "    print(name.lower())"
   ]
  },
  {
   "cell_type": "markdown",
   "id": "ad13fb70",
   "metadata": {},
   "source": [
    "### 026 \n",
    "###### Pig Latin takes the first consonant of a word, moves it to the end of the word and adds on an “ay”. If a word begins with a vowel you just add “way” to the end. For example, pig becomes igpay, banana becomes ananabay, and aadvark becomes aadvarkway. Create a program that will ask the user to enter a word and change it into Pig Latin. Make sure the new word is displayed in lower case."
   ]
  },
  {
   "cell_type": "code",
   "execution_count": 43,
   "id": "f6f5afcb",
   "metadata": {},
   "outputs": [
    {
     "name": "stdout",
     "output_type": "stream",
     "text": [
      "Enter the word: python\n",
      "ythonpay\n"
     ]
    }
   ],
   "source": [
    "word = input(\"Enter the word: \")\n",
    "first = word[0]\n",
    "length = len(word)\n",
    "rest = word[1:length]\n",
    "if first != \"a\" and first != \"e\" and first != \"i\" and first != \"o\" and first != \"u\": \n",
    "    newword = rest + first + \"ay\"\n",
    "else: \n",
    "    newword = word+\"way\"\n",
    "print(newword.lower())    "
   ]
  },
  {
   "cell_type": "markdown",
   "id": "143f584a",
   "metadata": {},
   "source": [
    "### 027 \n",
    "###### Ask the user to enter a number with lots of decimal places. Multiply this number by two and display the answer. \n"
   ]
  },
  {
   "cell_type": "code",
   "execution_count": 58,
   "id": "b59a62c1",
   "metadata": {},
   "outputs": [
    {
     "name": "stdout",
     "output_type": "stream",
     "text": [
      "Enter a number with lots of decimal places: 2.4\n",
      "4.8\n"
     ]
    }
   ],
   "source": [
    "num = float(input(\"Enter a number with lots of decimal places: \"))\n",
    "num1 = num*2\n",
    "print(num1)"
   ]
  },
  {
   "cell_type": "markdown",
   "id": "0ba309c3",
   "metadata": {},
   "source": [
    "### 028 \n",
    "###### Update program 027 so that it will display the answer to two decimal places."
   ]
  },
  {
   "cell_type": "code",
   "execution_count": 67,
   "id": "5967547c",
   "metadata": {},
   "outputs": [
    {
     "name": "stdout",
     "output_type": "stream",
     "text": [
      "Enter a number with lots of decimal places: 255448\n",
      "510896.0\n"
     ]
    }
   ],
   "source": [
    "num = float(input(\"Enter a number with lots of decimal places: \"))\n",
    "num1 = num*2\n",
    "print(round(num1,2))"
   ]
  },
  {
   "cell_type": "markdown",
   "id": "0eb10ed4",
   "metadata": {},
   "source": [
    "### 029 \n",
    "###### Ask the user to enter an integer that is over 500. Work out the square root of that number and display it to two decimal places. "
   ]
  },
  {
   "cell_type": "code",
   "execution_count": 71,
   "id": "a42f66a5",
   "metadata": {},
   "outputs": [
    {
     "name": "stdout",
     "output_type": "stream",
     "text": [
      "Enter an integer that is over 500: 502\n",
      "22.41\n"
     ]
    }
   ],
   "source": [
    "import math\n",
    "num = int(input(\"Enter an integer that is over 500: \"))\n",
    "num1 = math.sqrt(num)\n",
    "print(round(num1,2))\n"
   ]
  },
  {
   "cell_type": "markdown",
   "id": "e2fe365a",
   "metadata": {},
   "source": [
    "### 030\n",
    "###### Display pi (π) to five decimal places. "
   ]
  },
  {
   "cell_type": "code",
   "execution_count": 72,
   "id": "4ccdda1a",
   "metadata": {},
   "outputs": [
    {
     "name": "stdout",
     "output_type": "stream",
     "text": [
      "3.14159\n"
     ]
    }
   ],
   "source": [
    "print(round(math.pi,5))"
   ]
  },
  {
   "cell_type": "markdown",
   "id": "a41a28ae",
   "metadata": {},
   "source": [
    "### 031 \n",
    "###### Ask the user to enter the radius of a circle (measurement from the centre point to the edge). Work out the area of the circle (π*radius2). "
   ]
  },
  {
   "cell_type": "code",
   "execution_count": 74,
   "id": "0dbc1268",
   "metadata": {},
   "outputs": [
    {
     "name": "stdout",
     "output_type": "stream",
     "text": [
      "Enter the radius of a circle: 12\n",
      "452.3893421169302\n"
     ]
    }
   ],
   "source": [
    "user = int(input(\"Enter the radius of a circle: \"))\n",
    "area = math.pi*(user**2)\n",
    "print(area)"
   ]
  },
  {
   "cell_type": "markdown",
   "id": "684ee85e",
   "metadata": {},
   "source": [
    "### 032 \n",
    "##### Ask for the radius and the depth of a cylinder and work out the total volume (circle area*depth) rounded to three decimal places."
   ]
  },
  {
   "cell_type": "code",
   "execution_count": 75,
   "id": "03f282e4",
   "metadata": {},
   "outputs": [
    {
     "name": "stdout",
     "output_type": "stream",
     "text": [
      "Enter the radius of a circle: 4\n",
      "Enter depth: 4\n",
      "201.062\n"
     ]
    }
   ],
   "source": [
    "user = int(input(\"Enter the radius of a circle: \"))\n",
    "depth = int(input(\"Enter depth: \"))\n",
    "area = math.pi*(user**2)\n",
    "volume = area * depth\n",
    "print(round(volume,3))"
   ]
  },
  {
   "cell_type": "markdown",
   "id": "66e3eba4",
   "metadata": {},
   "source": [
    "### 033 \n",
    "###### Ask the user to enter two numbers. Use whole number division to divide the first number by the second and also work out the remainder and display the answer in a user-friendly way (e.g. if they enter 7 and 2 display “7 divided by 2 is 3 with 1 remaining”). "
   ]
  },
  {
   "cell_type": "code",
   "execution_count": 79,
   "id": "3e37c95e",
   "metadata": {},
   "outputs": [
    {
     "name": "stdout",
     "output_type": "stream",
     "text": [
      "Enter a number: 4\n",
      "Enter a number: 3\n",
      "4 divided by 3 is 1 with 1 remaining.\n"
     ]
    }
   ],
   "source": [
    "num1 = int(input(\"Enter a number: \"))\n",
    "num2 = int(input(\"Enter a number: \"))\n",
    "ans1 = num1 // num2\n",
    "ans2 = num1 % num2\n",
    "print(num1, \"divided by\", num2, \"is\", ans1, \"with\", ans2, \"remaining.\")"
   ]
  },
  {
   "cell_type": "code",
   "execution_count": null,
   "id": "2bdb65f1",
   "metadata": {},
   "outputs": [],
   "source": [
    "#For Loop Explanation"
   ]
  },
  {
   "cell_type": "code",
   "execution_count": null,
   "id": "ac362ee3",
   "metadata": {},
   "outputs": [],
   "source": []
  }
 ],
 "metadata": {
  "kernelspec": {
   "display_name": "Python 3 (ipykernel)",
   "language": "python",
   "name": "python3"
  },
  "language_info": {
   "codemirror_mode": {
    "name": "ipython",
    "version": 3
   },
   "file_extension": ".py",
   "mimetype": "text/x-python",
   "name": "python",
   "nbconvert_exporter": "python",
   "pygments_lexer": "ipython3",
   "version": "3.9.12"
  }
 },
 "nbformat": 4,
 "nbformat_minor": 5
}
