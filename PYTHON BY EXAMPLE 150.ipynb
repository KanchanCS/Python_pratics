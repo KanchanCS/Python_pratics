{
 "cells": [
  {
   "cell_type": "markdown",
   "id": "03610352",
   "metadata": {},
   "source": [
    "### 001 \n",
    "###### Ask for the user’s first name and display the\n",
    "* output message Hello [First Name] ."
   ]
  },
  {
   "cell_type": "code",
   "execution_count": 4,
   "id": "ba45d815",
   "metadata": {},
   "outputs": [
    {
     "name": "stdout",
     "output_type": "stream",
     "text": [
      "Enter The first name: jon\n",
      "Hello jon\n"
     ]
    }
   ],
   "source": [
    "user = input(\"Enter The first name: \")\n",
    "print(\"Hello\",user)"
   ]
  },
  {
   "cell_type": "markdown",
   "id": "c9e4158d",
   "metadata": {},
   "source": [
    "### 002 \n",
    "###### Ask for the user’s first name and then ask for their surname and display the \n",
    "* output message Hello [First Name] [Surname]. "
   ]
  },
  {
   "cell_type": "code",
   "execution_count": 7,
   "id": "a3d06fed",
   "metadata": {},
   "outputs": [
    {
     "name": "stdout",
     "output_type": "stream",
     "text": [
      "Enter The Fname: python\n",
      "Enter The Lname: Developer\n",
      "Hello python Developer\n"
     ]
    }
   ],
   "source": [
    "fname = input(\"Enter The Fname: \")\n",
    "lname = input(\"Enter The Lname: \")\n",
    "fullname = fname + \" \" + lname\n",
    "print(\"Hello\",fullname)"
   ]
  },
  {
   "cell_type": "markdown",
   "id": "1af1ef49",
   "metadata": {},
   "source": [
    "#### 003 \n",
    "##### Write code that will display the joke “What do you call a bear with no teeth?” and on the next line display the answer “A gummy bear!” Try to create it using only one line of code. "
   ]
  },
  {
   "cell_type": "code",
   "execution_count": 9,
   "id": "c4ad648e",
   "metadata": {},
   "outputs": [
    {
     "name": "stdout",
     "output_type": "stream",
     "text": [
      " “What do you call a bear with no teeth?\"\n",
      "“A gummy bear!” \n"
     ]
    }
   ],
   "source": [
    "joke = \"\"\" “What do you call a bear with no teeth?\"\\n“A gummy bear!” \"\"\"\n",
    "print(joke)"
   ]
  },
  {
   "cell_type": "markdown",
   "id": "6e6992e8",
   "metadata": {},
   "source": [
    "#### 004 \n",
    "* Ask the user to enter two numbers. Add them together and display the answer as The total is \n",
    "[answer]. "
   ]
  },
  {
   "cell_type": "code",
   "execution_count": 18,
   "id": "3b5b3df8",
   "metadata": {},
   "outputs": [
    {
     "name": "stdout",
     "output_type": "stream",
     "text": [
      "Enter The num1: 4\n",
      "Enter The num2: 4\n",
      "Total count Number:  8\n"
     ]
    }
   ],
   "source": [
    "num1 = int(input(\"Enter The num1: \"))\n",
    "num2 = int(input(\"Enter The num2: \"))\n",
    "total = num1 + num2\n",
    "print(\"Total count Number: \",total)"
   ]
  },
  {
   "cell_type": "markdown",
   "id": "9ae3501e",
   "metadata": {},
   "source": [
    "### 005 \n",
    "###### Ask the user to enter three numbers. Add together the first two numbers and then multiply this total by the third. Display the answer as The answer is \n",
    "[answer]. \n"
   ]
  },
  {
   "cell_type": "code",
   "execution_count": 23,
   "id": "b8e12567",
   "metadata": {},
   "outputs": [
    {
     "name": "stdout",
     "output_type": "stream",
     "text": [
      "Enter The num1: 2\n",
      "Enter The num2: 2\n",
      "Enter The num3: 2\n",
      "8\n"
     ]
    }
   ],
   "source": [
    "num1 = int(input(\"Enter The num1: \"))\n",
    "num2 = int(input(\"Enter The num2: \"))\n",
    "num3 = int(input(\"Enter The num3: \"))\n",
    "\n",
    "add = (num1 + num2) * num3\n",
    "print(add)"
   ]
  },
  {
   "cell_type": "markdown",
   "id": "52dcd380",
   "metadata": {},
   "source": [
    "#### 006 \n",
    "###### Ask how many slices of pizza the user started with and ask how many slices they have eaten. Work out how many slices they have left and display the answer in a user\u0002friendly format"
   ]
  },
  {
   "cell_type": "code",
   "execution_count": 27,
   "id": "cf32635e",
   "metadata": {},
   "outputs": [
    {
     "name": "stdout",
     "output_type": "stream",
     "text": [
      "How many slices of pizza: 6\n",
      "How many slices of pizza: 4\n",
      "You have 2 slices remaining\n"
     ]
    }
   ],
   "source": [
    "pizz = int(input(\"How many slices of pizza: \"))\n",
    "eat = int(input(\"How many slices of pizza: \"))\n",
    "slices = pizz - eat\n",
    "print(\"You have\", slices, \"slices remaining\")"
   ]
  },
  {
   "cell_type": "markdown",
   "id": "44d2ae67",
   "metadata": {},
   "source": [
    "#### 007 \n",
    "###### Ask the user for their name and their age. Add 1 to their age and display the output [Name] next birthday you will be [new age]. "
   ]
  },
  {
   "cell_type": "code",
   "execution_count": 28,
   "id": "2353b365",
   "metadata": {},
   "outputs": [
    {
     "name": "stdout",
     "output_type": "stream",
     "text": [
      "What is your name: kanchan\n",
      "Curent your age: 24\n",
      "kanchan next birthday you will be 25\n"
     ]
    }
   ],
   "source": [
    "user = input(\"What is your name: \")\n",
    "user_age = int(input(\"Curent your age: \"))\n",
    "add = user_age + 1\n",
    "print(user,\"next birthday you will be\", add )"
   ]
  },
  {
   "cell_type": "markdown",
   "id": "2a3cbe42",
   "metadata": {},
   "source": [
    "#### 008 \n",
    "###### Ask for the total price of the bill, then ask how many diners there are. Divide the total bill by the number of diners and show how much each person must pay. "
   ]
  },
  {
   "cell_type": "code",
   "execution_count": 33,
   "id": "fb149010",
   "metadata": {},
   "outputs": [
    {
     "name": "stdout",
     "output_type": "stream",
     "text": [
      "Total price of the bill: 400\n",
      "How many diners there are: 200\n",
      "Each person Should pay:  1\n"
     ]
    }
   ],
   "source": [
    "total_bill = int(input(\"Total price of the bill: \"))\n",
    "number =  int(input(\"How many diners there are: \"))\n",
    "each = total_bill /number\n",
    "print(\"Each person Should pay: \",div)"
   ]
  },
  {
   "cell_type": "markdown",
   "id": "df8b6da6",
   "metadata": {},
   "source": [
    "### 009 \n",
    "###### Write a program that will ask for a number of days and then will show how many hours, minutes and seconds are in that number of days. "
   ]
  },
  {
   "cell_type": "code",
   "execution_count": 37,
   "id": "408106e7",
   "metadata": {},
   "outputs": [
    {
     "name": "stdout",
     "output_type": "stream",
     "text": [
      "Enter the Number of days: 1\n",
      "in 1 number of days: \n",
      "Hours:  24\n",
      "Minutes:  1440\n",
      "Seconds:  86400\n"
     ]
    }
   ],
   "source": [
    "day = int(input(\"Enter the Number of days: \"))\n",
    "hour = day*24\n",
    "minutes = hour*60\n",
    "sec = minutes*60\n",
    "print(\"in\",day,\"number of days: \")\n",
    "print(\"Hours: \",hour)\n",
    "print(\"Minutes: \",minutes)\n",
    "print(\"Seconds: \",sec)"
   ]
  },
  {
   "cell_type": "markdown",
   "id": "2df757b4",
   "metadata": {},
   "source": [
    "#### 010 \n",
    "###### There are 2,204 pounds in a kilogram. Ask the user to enter a weight in kilograms and convert it to pounds"
   ]
  },
  {
   "cell_type": "code",
   "execution_count": 42,
   "id": "e6ff34f5",
   "metadata": {},
   "outputs": [
    {
     "name": "stdout",
     "output_type": "stream",
     "text": [
      "Enter a weight: 4\n",
      "That is 8.816 pounds\n"
     ]
    }
   ],
   "source": [
    "weit  = int(input(\"Enter a weight: \"))\n",
    "pounds = weit * 2.204\n",
    "print(\"That is\",pounds,\"pounds\")"
   ]
  },
  {
   "cell_type": "markdown",
   "id": "ca045736",
   "metadata": {},
   "source": [
    "### 011 \n",
    "###### Task the user to enter a number over 100 and then enter a number under 10 and tell them how many times the smaller number goes into the larger number in a user-friendly format"
   ]
  },
  {
   "cell_type": "code",
   "execution_count": 47,
   "id": "9dee3319",
   "metadata": {},
   "outputs": [
    {
     "name": "stdout",
     "output_type": "stream",
     "text": [
      "Enter a number over 100: 110\n",
      "Enter a number under 10: 10\n",
      "10 goes into 110 11 times\n"
     ]
    }
   ],
   "source": [
    "large  = int(input(\"Enter a number over 100: \"))\n",
    "small  = int(input(\"Enter a number under 10: \"))\n",
    "answer = large // small\n",
    "print(small,\"goes into\", large,answer,\"times\")"
   ]
  },
  {
   "cell_type": "code",
   "execution_count": null,
   "id": "00cbe5b4",
   "metadata": {},
   "outputs": [],
   "source": []
  },
  {
   "cell_type": "code",
   "execution_count": null,
   "id": "d6241ae6",
   "metadata": {},
   "outputs": [],
   "source": []
  }
 ],
 "metadata": {
  "kernelspec": {
   "display_name": "Python 3 (ipykernel)",
   "language": "python",
   "name": "python3"
  },
  "language_info": {
   "codemirror_mode": {
    "name": "ipython",
    "version": 3
   },
   "file_extension": ".py",
   "mimetype": "text/x-python",
   "name": "python",
   "nbconvert_exporter": "python",
   "pygments_lexer": "ipython3",
   "version": "3.9.12"
  }
 },
 "nbformat": 4,
 "nbformat_minor": 5
}
