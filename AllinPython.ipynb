{
  "cells": [
    {
      "cell_type": "markdown",
      "metadata": {
        "id": "view-in-github",
        "colab_type": "text"
      },
      "source": [
        "<a href=\"https://colab.research.google.com/github/KanchanCS/Python_pratics/blob/main/AllinPython.ipynb\" target=\"_parent\"><img src=\"https://colab.research.google.com/assets/colab-badge.svg\" alt=\"Open In Colab\"/></a>"
      ]
    },
    {
      "cell_type": "markdown",
      "source": [
        "## Create a numpy array from a list ot tuple\n",
        "* np.array()\n",
        "* np.arange()\n",
        "* np.Zeros()\n",
        "* np.ones()\n",
        "* np.random()\n",
        "\n"
      ],
      "metadata": {
        "id": "DMO2jYmP14v-"
      },
      "id": "DMO2jYmP14v-"
    },
    {
      "cell_type": "code",
      "execution_count": 4,
      "id": "5f2a4bd8",
      "metadata": {
        "colab": {
          "base_uri": "https://localhost:8080/"
        },
        "id": "5f2a4bd8",
        "outputId": "118e0663-c2e1-4066-b898-f152e90a44af"
      },
      "outputs": [
        {
          "output_type": "stream",
          "name": "stdout",
          "text": [
            "[1 2 3 4 5]\n"
          ]
        }
      ],
      "source": [
        "import numpy as np\n",
        "my_list = [1,2,3,4,5]\n",
        "my_array = np.array(my_list)\n",
        "print(my_array)"
      ]
    },
    {
      "cell_type": "code",
      "execution_count": 5,
      "id": "7864679e",
      "metadata": {
        "colab": {
          "base_uri": "https://localhost:8080/"
        },
        "id": "7864679e",
        "outputId": "019479e9-4026-48a5-f76a-6f4419a308a4"
      },
      "outputs": [
        {
          "output_type": "stream",
          "name": "stdout",
          "text": [
            "[1 3 5 7 9]\n"
          ]
        }
      ],
      "source": [
        "my_array = np.arange(1,10,2)\n",
        "print(my_array)"
      ]
    },
    {
      "cell_type": "code",
      "source": [],
      "metadata": {
        "id": "x2-x0hUa3c1V"
      },
      "id": "x2-x0hUa3c1V",
      "execution_count": null,
      "outputs": []
    },
    {
      "cell_type": "code",
      "source": [],
      "metadata": {
        "id": "3ZrzZ0XK3dEX"
      },
      "id": "3ZrzZ0XK3dEX",
      "execution_count": null,
      "outputs": []
    },
    {
      "cell_type": "markdown",
      "id": "8a05e8d2",
      "metadata": {
        "id": "8a05e8d2"
      },
      "source": [
        "# Bike Rental System"
      ]
    },
    {
      "cell_type": "code",
      "execution_count": null,
      "id": "9bcd5a43",
      "metadata": {
        "id": "9bcd5a43",
        "outputId": "3d8c3cab-64fe-460c-e280-79f48af6263b"
      },
      "outputs": [
        {
          "name": "stdout",
          "output_type": "stream",
          "text": [
            "\n",
            "1 Display Stocks\n",
            "2 Rent a Bike\n",
            "3 Exit\n",
            "    1\n",
            "Total Bikes 100\n",
            "\n",
            "1 Display Stocks\n",
            "2 Rent a Bike\n",
            "3 Exit\n",
            "    2\n",
            "Enter the Qty:---8\n",
            "total prices 800\n",
            "Total Bikes 92\n",
            "\n",
            "1 Display Stocks\n",
            "2 Rent a Bike\n",
            "3 Exit\n",
            "    3\n"
          ]
        }
      ],
      "source": [
        "class bikeShop:\n",
        "    def __init__(self, stock):\n",
        "        self.stock=stock\n",
        "    def displayBike(self):\n",
        "        print(\"Total Bikes\", self.stock)\n",
        "    def rentForBike(self,q):\n",
        "        if q<=0:\n",
        "            print(\"Enter the postive value or greater then zero\")\n",
        "        elif q>self.stock:\n",
        "            print(\"Enter the value (less then stock)\")\n",
        "        else:\n",
        "            self.stock=self.stock-q\n",
        "            print(\"total prices\", q*100)\n",
        "            print(\"Total Bikes\", self.stock)\n",
        "\n",
        "while True:\n",
        "    obj= bikeShop(100)\n",
        "    uc= int(input('''\n",
        "1 Display Stocks\n",
        "2 Rent a Bike\n",
        "3 Exit\n",
        "    '''))\n",
        "    if uc == 1:\n",
        "        obj.displayBike()\n",
        "    elif uc == 2:\n",
        "        n = int(input(\"Enter the Qty:---\"))\n",
        "        obj.rentForBike(n)\n",
        "    else:\n",
        "        break"
      ]
    },
    {
      "cell_type": "code",
      "execution_count": null,
      "id": "811ed099",
      "metadata": {
        "id": "811ed099"
      },
      "outputs": [],
      "source": []
    },
    {
      "cell_type": "code",
      "execution_count": null,
      "id": "f04932a6",
      "metadata": {
        "id": "f04932a6",
        "outputId": "857d76c8-1fbc-4aa0-ae09-77560cb65c6a"
      },
      "outputs": [
        {
          "name": "stdout",
          "output_type": "stream",
          "text": [
            "Enter a number: 12\n",
            "2,3,5,7,11,"
          ]
        }
      ],
      "source": [
        "num = int(input(\"Enter a number: \")) #prime number\n",
        "\n",
        "for i in range(2,num+1):\n",
        "    for j in range(2,num+1):\n",
        "        if i%j == 0:\n",
        "            break\n",
        "    if i == j:\n",
        "        print(i,end=',')"
      ]
    },
    {
      "cell_type": "code",
      "execution_count": null,
      "id": "9f2411e1",
      "metadata": {
        "id": "9f2411e1",
        "outputId": "6fb8101b-27be-4cc2-c73b-0f796c65aeac"
      },
      "outputs": [
        {
          "name": "stdout",
          "output_type": "stream",
          "text": [
            "1,2,3,4,5,6,7,8,9,"
          ]
        }
      ],
      "source": [
        "for i in range(1,10):\n",
        "    print(i,end=\",\")"
      ]
    },
    {
      "cell_type": "code",
      "execution_count": null,
      "id": "586e33f7",
      "metadata": {
        "id": "586e33f7",
        "outputId": "5da6d0b7-974e-4085-9fc0-336cee90cd6e"
      },
      "outputs": [
        {
          "name": "stdout",
          "output_type": "stream",
          "text": [
            "[1, 2, 3, 4, 5, 6, 7, 8, 9, 10, 11]\n"
          ]
        }
      ],
      "source": [
        "print([i for i in range(1,12)])"
      ]
    },
    {
      "cell_type": "code",
      "execution_count": null,
      "id": "3fe4a3dd",
      "metadata": {
        "id": "3fe4a3dd",
        "outputId": "68b64abb-dd08-432e-8df2-fe5ed833424a"
      },
      "outputs": [
        {
          "name": "stdout",
          "output_type": "stream",
          "text": [
            "[1, 2, 3, 4, 5, 89]\n"
          ]
        }
      ],
      "source": [
        "a = [1,2,3,89,5,4]\n",
        "a.sort()\n",
        "print(a)"
      ]
    },
    {
      "cell_type": "code",
      "execution_count": null,
      "id": "e872a7d7",
      "metadata": {
        "id": "e872a7d7",
        "outputId": "600dfdb4-e31b-4239-dd44-83a6e4b1dcb3"
      },
      "outputs": [
        {
          "name": "stdout",
          "output_type": "stream",
          "text": [
            "['ks', 'ko', 'ej']\n"
          ]
        }
      ],
      "source": [
        "cars= ['ks','ej','ko']\n",
        "cars.sort(reverse=True)\n",
        "print(cars)"
      ]
    },
    {
      "cell_type": "code",
      "execution_count": null,
      "id": "7dd37fa5",
      "metadata": {
        "id": "7dd37fa5",
        "outputId": "8de5bde0-bf6d-43d9-f84e-49790263d405"
      },
      "outputs": [
        {
          "name": "stdout",
          "output_type": "stream",
          "text": [
            "Enter a number: 4\n",
            "even number\n"
          ]
        }
      ],
      "source": [
        "num = int(input(\"Enter a number: \"))\n",
        "if (num % 2) == 0:\n",
        "    print(\"even number\")\n",
        "else:\n",
        "    print(\"odd number\")"
      ]
    },
    {
      "cell_type": "code",
      "execution_count": null,
      "id": "c2d0fd99",
      "metadata": {
        "id": "c2d0fd99",
        "outputId": "7715054d-be01-4cf1-c3f8-dd0691434995"
      },
      "outputs": [
        {
          "name": "stdout",
          "output_type": "stream",
          "text": [
            "[4, 5, 89, 3, 2, 1]\n"
          ]
        }
      ],
      "source": [
        "a = [1,2,3,89,5,4]\n",
        "a.reverse()\n",
        "print(a)"
      ]
    },
    {
      "cell_type": "code",
      "execution_count": null,
      "id": "59e1db20",
      "metadata": {
        "id": "59e1db20",
        "outputId": "d8c91ce3-eb69-4979-917b-953930918a85"
      },
      "outputs": [
        {
          "name": "stdout",
          "output_type": "stream",
          "text": [
            "Enter the number:khhgyhhhj\n",
            "{'k': 1, 'h': 5, 'g': 1, 'y': 1, 'j': 1}\n"
          ]
        }
      ],
      "source": [
        "word = input('Enter the number:')\n",
        "d={}\n",
        "for i in word:\n",
        "    d[i]=word.count(i)\n",
        "print(d)"
      ]
    },
    {
      "cell_type": "code",
      "execution_count": null,
      "id": "73423625",
      "metadata": {
        "id": "73423625",
        "outputId": "570a6bb7-1250-4a02-fef6-fee6f6d852aa"
      },
      "outputs": [
        {
          "name": "stdout",
          "output_type": "stream",
          "text": [
            "Enter yhe number: 41\n",
            "number is not armstrong\n",
            "number is not armstrong\n"
          ]
        }
      ],
      "source": [
        "num = int(input(\"Enter yhe number: \"))\n",
        "num3 = num\n",
        "add_sum = 0\n",
        "while num3 !=0:\n",
        "    k = num3%10\n",
        "    add_sum += k**num3\n",
        "    num3 = num3//10\n",
        "    if add_sum == num:\n",
        "        print('this is a armstrong')\n",
        "    else:\n",
        "        print(\"number is not armstrong\")"
      ]
    },
    {
      "cell_type": "code",
      "execution_count": null,
      "id": "90d64e7b",
      "metadata": {
        "id": "90d64e7b",
        "outputId": "42ffb64b-625c-4e59-c699-b8b4d9a1a4ae"
      },
      "outputs": [
        {
          "name": "stdout",
          "output_type": "stream",
          "text": [
            "(+91) 920-164,2548\n"
          ]
        }
      ],
      "source": [
        "def create_phone_number(numbers):\n",
        "    area_code = ''.join(map(str, numbers[:2]))\n",
        "    prefix = ''.join(map(str, numbers[2:5]))\n",
        "    line_number = ''.join(map(str, numbers[5:8]))\n",
        "    line_number1 = ''.join(map(str, numbers[8:12]))\n",
        "    return '(+{}) {}-{},{}'.format(area_code, prefix, line_number, line_number1)\n",
        "phone_number = create_phone_number([9, 1, 9, 2, 0, 1, 6, 4, 2, 5, 4, 8])\n",
        "print(phone_number)"
      ]
    },
    {
      "cell_type": "markdown",
      "id": "3d1dbc07",
      "metadata": {
        "id": "3d1dbc07"
      },
      "source": [
        "# How to import Time Module in Python?"
      ]
    },
    {
      "cell_type": "code",
      "execution_count": null,
      "id": "193a0878",
      "metadata": {
        "id": "193a0878",
        "outputId": "8bba81dd-21ef-403e-ed56-55ef5d81f398"
      },
      "outputs": [
        {
          "name": "stdout",
          "output_type": "stream",
          "text": [
            "time.struct_time(tm_year=1970, tm_mon=1, tm_mday=1, tm_hour=0, tm_min=0, tm_sec=0, tm_wday=3, tm_yday=1, tm_isdst=0)\n"
          ]
        }
      ],
      "source": [
        "import time\n",
        "\n",
        "print(time.gmtime(0))"
      ]
    },
    {
      "cell_type": "markdown",
      "id": "cf2ba639",
      "metadata": {
        "id": "cf2ba639"
      },
      "source": [
        "# How to get the current time in seconds since epoch?\n",
        "##### time() Function in Python"
      ]
    },
    {
      "cell_type": "code",
      "execution_count": null,
      "id": "c98bd83b",
      "metadata": {
        "id": "c98bd83b",
        "outputId": "714ee4f0-9a03-4185-ae6b-ce226c657cdc"
      },
      "outputs": [
        {
          "name": "stdout",
          "output_type": "stream",
          "text": [
            "1679908633.8373234\n"
          ]
        }
      ],
      "source": [
        "from time import time\n",
        "time = time()\n",
        "print(time)"
      ]
    },
    {
      "cell_type": "markdown",
      "id": "2253ec4a",
      "metadata": {
        "id": "2253ec4a"
      },
      "source": [
        "# How to get time in string from seconds?\n",
        "#### time.ctime() Function in Python"
      ]
    },
    {
      "cell_type": "code",
      "execution_count": null,
      "id": "6beba58f",
      "metadata": {
        "id": "6beba58f",
        "outputId": "1a6b529c-6c5e-4bc8-d67e-4037ba213ec9"
      },
      "outputs": [
        {
          "name": "stdout",
          "output_type": "stream",
          "text": [
            "Current Date, Time: Mon Mar 27 14:47:13 2023\n"
          ]
        }
      ],
      "source": [
        "import time\n",
        "\n",
        "timeNow = time.ctime(1679908633.8373234)\n",
        "print(\"Current Date, Time:\", timeNow)\n"
      ]
    },
    {
      "cell_type": "markdown",
      "id": "0c123e01",
      "metadata": {
        "id": "0c123e01"
      },
      "source": [
        "# How to delay execution of a python program?\n",
        "##### sleep() Function in Python"
      ]
    },
    {
      "cell_type": "code",
      "execution_count": null,
      "id": "73374411",
      "metadata": {
        "id": "73374411",
        "outputId": "db87989f-8aa3-4e55-ad89-7533af7cecbd"
      },
      "outputs": [
        {
          "name": "stdout",
          "output_type": "stream",
          "text": [
            "This message will appear immediately\n",
            "This message will appear 5 seconds later\n"
          ]
        }
      ],
      "source": [
        "import time\n",
        "\n",
        "print(\"This message will appear immediately\")\n",
        "time.sleep(1)\n",
        "print(\"This message will appear 5 seconds later\")\n"
      ]
    },
    {
      "cell_type": "code",
      "execution_count": null,
      "id": "ed86395b",
      "metadata": {
        "id": "ed86395b",
        "outputId": "0778e2b3-02b6-4f4e-b8be-0281c09b10f5"
      },
      "outputs": [
        {
          "name": "stdout",
          "output_type": "stream",
          "text": [
            "0\n",
            "1\n",
            "2\n",
            "3\n",
            "4\n"
          ]
        }
      ],
      "source": [
        "import time\n",
        "\n",
        "for i in range(5):\n",
        "    time.sleep(i)\n",
        "    print(i)  # Each number i will be printed after i seconds"
      ]
    },
    {
      "cell_type": "markdown",
      "id": "06ca5c22",
      "metadata": {
        "id": "06ca5c22"
      },
      "source": [
        "# How to converts a tuple representing a time as returned by gmtime() to a specific format?\n",
        "##### time.strftime() function in Python"
      ]
    },
    {
      "cell_type": "code",
      "execution_count": null,
      "id": "02749c54",
      "metadata": {
        "id": "02749c54",
        "outputId": "980d7cbe-5f8b-4c0f-a82f-8f15126b04f4"
      },
      "outputs": [
        {
          "name": "stdout",
          "output_type": "stream",
          "text": [
            "Example 1: Mon, 27 Mar 2023 09:25:37 + 1010\n",
            "\n",
            "Example 2: Monday, 03/27/23 March 2023 09:25:37 + 0000\n",
            "\n",
            "Example 3: Mon Mar 27 14:55:37 2023\n",
            "\n",
            "Example 4: 20\n",
            "\n",
            "Example 5:  14:55 \n",
            "\n",
            "Example 6: Mon, 27 Mar 2023 09:25:37 + 0000\n",
            "\n",
            "Example 7: 09:25:37 AM, 09:25:37 \n",
            "\n",
            "Example 8: 02:55:37 PM, 1, 13\n",
            "\n",
            "Example 9: 02:55:37 PM, 13, 13, 1\n",
            "\n",
            "Example 10: 03/27/23, 14:55:37, 23, 2023\n",
            "\n",
            "Example 11: 02:55:37 PM, +0530, India Standard Time\n"
          ]
        }
      ],
      "source": [
        "from time import gmtime, strftime\n",
        "\n",
        "# using simple format of showing time\n",
        "s = strftime(\"%a, %d %b %Y %H:%M:%S + 1010\", gmtime())\n",
        "print(\"Example 1:\", s)\n",
        "\n",
        "print()\n",
        "\n",
        "# only change in this is the full names\n",
        "# and the representation\n",
        "s = strftime(\"%A, %D %B %Y %H:%M:%S + 0000\", gmtime())\n",
        "print(\"Example 2:\", s)\n",
        "\n",
        "print()\n",
        "\n",
        "# this will show you the preferred date time format\n",
        "s = strftime(\"%c\")\n",
        "print(\"Example 3:\", s)\n",
        "\n",
        "print()\n",
        "\n",
        "# this will tell about the centuries\n",
        "s = strftime(\"%C\")\n",
        "print(\"Example 4:\", s)\n",
        "\n",
        "print()\n",
        "\n",
        "# % R - time in 24 hour notation\n",
        "s = strftime(\" %R \")\n",
        "print(\"Example 5:\", s)\n",
        "\n",
        "print()\n",
        "\n",
        "# % H - hour, using a 24-hour clock (00 to 23) in Example 1, 2, 3\n",
        "# % I - hour, using a 12-hour clock (01 to 12)\n",
        "s = strftime(\"%a, %d %b %Y %I:%M:%S + 0000\", gmtime())\n",
        "print(\"Example 6:\", s)\n",
        "\n",
        "print()\n",
        "\n",
        "# % T - current time, equal to % H:% M:% S\n",
        "s = strftime(\"%r, %T \", gmtime())\n",
        "print(\"Example 7:\", s)\n",
        "\n",
        "print()\n",
        "\n",
        "# % u an % U use (see difference)\n",
        "s = strftime(\"%r, %u, %U\")\n",
        "print(\"Example 8:\", s)\n",
        "\n",
        "print()\n",
        "\n",
        "# use of % V, % W, % w\n",
        "s = strftime(\"%r, %V, %W, %w\")\n",
        "print(\"Example 9:\", s)\n",
        "\n",
        "print()\n",
        "\n",
        "# use of % x, % X, % y, % Y\n",
        "s = strftime(\"%x, %X, %y, %Y\")\n",
        "print(\"Example 10:\", s)\n",
        "\n",
        "print()\n",
        "\n",
        "# use of % Z, % z\n",
        "s = strftime(\"%r, %z, %Z\")\n",
        "print(\"Example 11:\", s)"
      ]
    },
    {
      "cell_type": "code",
      "execution_count": null,
      "id": "b2f728c9",
      "metadata": {
        "id": "b2f728c9"
      },
      "outputs": [],
      "source": []
    }
  ],
  "metadata": {
    "kernelspec": {
      "display_name": "Python 3 (ipykernel)",
      "language": "python",
      "name": "python3"
    },
    "language_info": {
      "codemirror_mode": {
        "name": "ipython",
        "version": 3
      },
      "file_extension": ".py",
      "mimetype": "text/x-python",
      "name": "python",
      "nbconvert_exporter": "python",
      "pygments_lexer": "ipython3",
      "version": "3.9.12"
    },
    "colab": {
      "provenance": [],
      "include_colab_link": true
    }
  },
  "nbformat": 4,
  "nbformat_minor": 5
}