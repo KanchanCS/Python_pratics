{
  "nbformat": 4,
  "nbformat_minor": 0,
  "metadata": {
    "colab": {
      "provenance": [],
      "include_colab_link": true
    },
    "kernelspec": {
      "name": "python3",
      "display_name": "Python 3"
    },
    "language_info": {
      "name": "python"
    }
  },
  "cells": [
    {
      "cell_type": "markdown",
      "metadata": {
        "id": "view-in-github",
        "colab_type": "text"
      },
      "source": [
        "<a href=\"https://colab.research.google.com/github/KanchanCS/Python_pratics/blob/main/Functions.ipynb\" target=\"_parent\"><img src=\"https://colab.research.google.com/assets/colab-badge.svg\" alt=\"Open In Colab\"/></a>"
      ]
    },
    {
      "cell_type": "code",
      "source": [
        "a = 2\n",
        "b = 3\n",
        "c  = a +b\n"
      ],
      "metadata": {
        "colab": {
          "base_uri": "https://localhost:8080/"
        },
        "id": "n0ENWdBIN6je",
        "outputId": "edca8e2d-6341-4331-92b5-dbfe0d933799"
      },
      "execution_count": null,
      "outputs": [
        {
          "output_type": "execute_result",
          "data": {
            "text/plain": [
              "5"
            ]
          },
          "metadata": {},
          "execution_count": 5
        }
      ]
    },
    {
      "cell_type": "code",
      "execution_count": null,
      "metadata": {
        "id": "3fmiNfnuLsZf",
        "colab": {
          "base_uri": "https://localhost:8080/"
        },
        "outputId": "339ba46b-db3b-4ae4-da59-8d26cadd28b9"
      },
      "outputs": [
        {
          "output_type": "stream",
          "name": "stdout",
          "text": [
            "5\n",
            "7\n",
            "HelloWello\n",
            "[1, 2, 5, 6]\n",
            "Enter the value of ab\n",
            "Enter the value of b7\n",
            "b7\n",
            "False\n",
            "True\n"
          ]
        }
      ],
      "source": [
        "def sum(a, b):\n",
        "  return a+b\n",
        "\n",
        "print(sum(2,3)) # 5\n",
        "print(sum(5,2)) # 7\n",
        "print(sum(\"Hello\", \"Wello\")) # HelloWello\n",
        "print(sum([1,2], [5,6])) # [3, 11]  # [1,2,5,6]\n",
        "\n",
        "a = input(\"Enter the value of a\")\n",
        "b = input(\"Enter the value of b\")\n",
        "x = a.isdigit()\n",
        "y = b.isdigit()\n",
        "if x == y == True:\n",
        "  print(sum(int(a), int(b)))\n",
        "else:\n",
        "  print(sum(a,b))\n",
        "\n",
        "print(x)\n",
        "print(y)\n",
        "\n"
      ]
    },
    {
      "cell_type": "code",
      "source": [
        "class Person():\n",
        "  def __init__(self, name, age, height):\n",
        "    self.name = name\n",
        "    self.age = age\n",
        "    self.heigth = height\n",
        "  def person_detail(self):\n",
        "    return f\"{self.name} my age is {self.age}\"\n"
      ],
      "metadata": {
        "id": "ob_pJOHcMyE8"
      },
      "execution_count": null,
      "outputs": []
    },
    {
      "cell_type": "code",
      "source": [
        "p1 = Person(\"Rohan\", 19, 0)\n",
        "p1.person_detail()"
      ],
      "metadata": {
        "colab": {
          "base_uri": "https://localhost:8080/",
          "height": 35
        },
        "id": "6tA6g7cpXgpF",
        "outputId": "3f833c1f-022c-4f57-ce2f-92cce5230e0b"
      },
      "execution_count": null,
      "outputs": [
        {
          "output_type": "execute_result",
          "data": {
            "text/plain": [
              "'Rohan my age is 19'"
            ],
            "application/vnd.google.colaboratory.intrinsic+json": {
              "type": "string"
            }
          },
          "metadata": {},
          "execution_count": 35
        }
      ]
    },
    {
      "cell_type": "markdown",
      "source": [
        "Sure! Here are five easy questions related to basic object-oriented programming concepts in Python:\n",
        "\n",
        "Question 1:\n",
        "Story: Alice is a student who wants to keep track of her grades for different subjects. She wants to create a class to represent her grades.\n",
        "Question: Define a class called \"Grades\" that has a constructor method to initialize the subject name and a method called \"display_grade\" that prints the subject name and the corresponding grade.\n",
        "\n",
        "Question 2:\n",
        "Story: Bob is a bank customer who wants to manage his bank account. He wants to create a class to represent his account.\n",
        "Question: Define a class called \"BankAccount\" that has instance variables for account number and balance. Create methods called \"deposit\" and \"withdraw\" to update the account balance accordingly.\n",
        "\n",
        "Question 3:\n",
        "Story: Carol loves animals and wants to create a class hierarchy to represent different types of animals.\n",
        "Question: Define a base class called \"Animal\" that has a method called \"sound\" which prints a generic sound. Create two derived classes called \"Dog\" and \"Cat\" that override the \"sound\" method to print \"Woof\" and \"Meow\" respectively.\n",
        "\n",
        "Question 4:\n",
        "Story: David is a game developer who wants to create a class for a player in a game.\n",
        "Question: Define a class called \"Player\" that has instance variables for player name and score. Implement a method called \"update_score\" that takes a parameter and updates the player's score by adding the provided value.\n",
        "\n",
        "Question 5:\n",
        "Story: Emily wants to create a class to represent a rectangle shape.\n",
        "Question: Define a class called \"Rectangle\" that has instance variables for length and width. Implement a method called \"calculate_area\" that calculates and returns the area of the rectangle.\n",
        "\n",
        "These questions cover basic concepts like class definition, constructor, instance variables, methods, inheritance, and method implementation. They should provide a good foundation for understanding object-oriented programming in Python."
      ],
      "metadata": {
        "id": "sReq6BwfcF9q"
      }
    }
  ]
}