{
 "cells": [
  {
   "cell_type": "markdown",
   "id": "e50ff1ad",
   "metadata": {},
   "source": [
    "### <span style='color:Red'>1. How to check if two python strings are Anagrams </span>"
   ]
  },
  {
   "cell_type": "code",
   "execution_count": 1,
   "id": "d0284afb",
   "metadata": {},
   "outputs": [
    {
     "name": "stdout",
     "output_type": "stream",
     "text": [
      "Enter the first string: 121\n",
      "Enter the first string: 12\n",
      "The string are not anagrams.\n"
     ]
    }
   ],
   "source": [
    "# get input string from user.\n",
    "str1 = input(\"Enter the first string: \")\n",
    "str2 = input(\"Enter the first string: \")\n",
    "\n",
    "# check if string are of equal length\n",
    "if len(str1) != len(str2):\n",
    "    print(\"The string are not anagrams.\")\n",
    "else: \n",
    "    # convert string to lowercase and sort them\n",
    "    sort_str1 = sorted(str1.lower())\n",
    "    sort_str2 = sorted(str2.lower())\n",
    "    \n",
    "# compare the two sorted string\n",
    "    if sort_str1 == sort_str2:\n",
    "        print(\"The string are anagrams.\")\n",
    "    else: \n",
    "        print(\"The string are not anagrams.\")"
   ]
  },
  {
   "cell_type": "markdown",
   "id": "c69fae68",
   "metadata": {},
   "source": [
    "### <span style='color:green'>2. Check Armstrong number in python.</span>"
   ]
  },
  {
   "cell_type": "code",
   "execution_count": null,
   "id": "c94b0f83",
   "metadata": {},
   "outputs": [],
   "source": [
    "my_num = int(input(\"Enter a number: \"))\n",
    "power_of_my_num = len(str(my_num))\n",
    "total = 0\n",
    "i = my_num\n",
    "while i > 0:\n",
    "    remainder = i % 10\n",
    "    total += remainder ** power_of_my_num\n",
    "    i = i // 10\n",
    "if total == my_num:\n",
    "    print(f'{my_num} is Armstrong number')\n",
    "else: \n",
    "    print(f'{my_num} is not Armstrong number')"
   ]
  },
  {
   "cell_type": "markdown",
   "id": "000d1224",
   "metadata": {},
   "source": [
    "### <span style='color:green'>3. Python programs to check for Leap Year.</span>"
   ]
  },
  {
   "cell_type": "code",
   "execution_count": null,
   "id": "be0cf88d",
   "metadata": {},
   "outputs": [],
   "source": [
    "num = int(input(\"Enter a year: \"))\n",
    "if num % 4 == 0:\n",
    "    if num % 100 == 0:\n",
    "        if num % 400 == 0:\n",
    "            print(f'{num} is not leap year')\n",
    "        else:\n",
    "            print(f'{num} is leap year')\n",
    "else:\n",
    "     print(f'{num} is not leap year')\n",
    "            "
   ]
  },
  {
   "cell_type": "markdown",
   "id": "a93db7fe",
   "metadata": {},
   "source": [
    "### <span style='color:green'>4. Python Programs for Fibonacci Series.</span>"
   ]
  },
  {
   "cell_type": "code",
   "execution_count": null,
   "id": "7c884d3b",
   "metadata": {},
   "outputs": [],
   "source": [
    "num = int(input(\"Enter number for series :\"))\n",
    "a = 0\n",
    "b = 1\n",
    "if num <= 0:\n",
    "    print(\"Enter valid number (>0)\")\n",
    "elif num == 1:\n",
    "    print(a)\n",
    "elif num == 2:\n",
    "    print(a,b)\n",
    "else:\n",
    "    print(a, end = \" \")\n",
    "    print(b, end = \" \")\n",
    "    i = 0\n",
    "    while i < num - 2:\n",
    "        c = a + b\n",
    "        a = b\n",
    "        b = c\n",
    "        print(c, end = \" \")\n",
    "        i += 1"
   ]
  },
  {
   "cell_type": "markdown",
   "id": "789f839c",
   "metadata": {},
   "source": [
    "### <span style='color:green'>5. Python Programs to check Perfect Number.</span>"
   ]
  },
  {
   "cell_type": "code",
   "execution_count": null,
   "id": "ebbf268b",
   "metadata": {},
   "outputs": [],
   "source": [
    "number = int(input(\"Enter a number:\"))\n",
    "sum = 0\n",
    "print(f'divisor  of {number} is :',end=\"\" )\n",
    "for i in range(1,number):\n",
    "    if number % i == 0:\n",
    "        print(i, end= \",\")\n",
    "        sum += i\n",
    "print(\"\\n\")\n",
    "if sum == number:\n",
    "    print(f'{number} is perfect number')\n",
    "else:\n",
    "    print(f'{number} is not perfect number')"
   ]
  },
  {
   "cell_type": "markdown",
   "id": "dd05a3f7",
   "metadata": {},
   "source": [
    "#### PYTHON PASSWORD GENERATOR"
   ]
  },
  {
   "cell_type": "code",
   "execution_count": 2,
   "id": "c88834ea",
   "metadata": {},
   "outputs": [
    {
     "name": "stdout",
     "output_type": "stream",
     "text": [
      "Q{yg3}5hY97X(tlx\n"
     ]
    }
   ],
   "source": [
    "import random\n",
    "lower = \"abcdefghijklmnopqrstuvwxyz\"\n",
    "upper = \"ABCDEFGHIJKLMNOPQRSTUVWXYZ\"\n",
    "number = \"0123456789\"\n",
    "symbols = \"[]{}()*;|_-\"\n",
    "\n",
    "all = lower + upper + number + symbols\n",
    "length = 16\n",
    "password = \"\".join(random.sample(all,length))\n",
    "print(password)"
   ]
  },
  {
   "cell_type": "markdown",
   "id": "cb0c73a5",
   "metadata": {},
   "source": [
    "#### 1. Write a Python program to reverse a string."
   ]
  },
  {
   "cell_type": "code",
   "execution_count": null,
   "id": "28f68637",
   "metadata": {},
   "outputs": [],
   "source": [
    "def reverse(string):\n",
    "    return string[::-1]\n",
    "user = input(\"Enter the string: \")\n",
    "reversed = reverse(user)\n",
    "print(\"Reverse String:\",reversed)"
   ]
  },
  {
   "cell_type": "markdown",
   "id": "feef256f",
   "metadata": {},
   "source": [
    "### 2.Implement a function to check if a given number is prime.\n"
   ]
  },
  {
   "cell_type": "code",
   "execution_count": null,
   "id": "6d157f7a",
   "metadata": {},
   "outputs": [],
   "source": [
    "def prime(n):\n",
    "    count = 0\n",
    "    for i in range(1, n+1):\n",
    "        if n % 2 == 0:\n",
    "            count = count+1\n",
    "    if (count == 0):\n",
    "        print(\"prime\")\n",
    "    else:\n",
    "        print(\"not prime\")    \n",
    "n = int(input(\"Enter the number: \"))\n",
    "prime(n)\n",
    "    "
   ]
  },
  {
   "cell_type": "markdown",
   "id": "3dfad5f9",
   "metadata": {},
   "source": [
    "### 3. Create a class to represent a simple bank account with deposit and withdrawal methods."
   ]
  },
  {
   "cell_type": "code",
   "execution_count": null,
   "id": "78243a9e",
   "metadata": {},
   "outputs": [],
   "source": [
    "class BankAccount:\n",
    "    def __init__(self, account_number, account_holder, balance=0):\n",
    "        self.account_number = account_number\n",
    "        self.account_holder = account_holder\n",
    "        self.balance = balance\n",
    "\n",
    "    def deposit(self, amount):\n",
    "        if amount <= 0:\n",
    "            print(\"Deposit amount must be greater than zero.\")\n",
    "        else:\n",
    "            self.balance += amount\n",
    "            print(f\"Deposited {amount} units. Current balance: {self.balance} units.\")\n",
    "\n",
    "    def withdraw(self, amount):\n",
    "        if amount <= 0:\n",
    "            print(\"Withdrawal amount must be greater than zero.\")\n",
    "        elif amount > self.balance:\n",
    "            print(\"Insufficient funds.\")\n",
    "        else:\n",
    "            self.balance -= amount\n",
    "            print(f\"Withdrawn {amount} units. Current balance: {self.balance} units.\")\n",
    "\n",
    "    def get_balance(self):\n",
    "        return self.balance\n",
    "\n",
    "    def __str__(self):\n",
    "        return f\"Account Number: {self.account_number}, Account Holder: {self.account_holder}, Balance: {self.balance} units\"\n",
    "\n",
    "\n",
    "# Example usage:\n",
    "if __name__ == \"__main__\":\n",
    "    account1 = BankAccount(\"12345\", \"John Doe\", 1000)\n",
    "    Opitons = \"\"\"--Option Enter-- \\n`D` for Depoist \\nEnter `W` for Withdrawl \\nEnter `C` for Check Balanc\"\"\"\n",
    "    print(Opitons)\n",
    "    choice = input(\"Enter Your choice \")\n",
    "    if choice == 'D':\n",
    "        amount = int(input(\"Enter Depoist amount :\"))\n",
    "        account1.deposit(amount)\n",
    "    elif choice == 'W':\n",
    "        amount = int(input(\"Enter Withdrawl amount :\"))\n",
    "        account1.withdraw(amount)\n",
    "    elif choice == 'C':\n",
    "        print(\"Account Details\")\n",
    "        print(account1)\n",
    "        print(f\"your acount balanc {account1.get_balance()}\")\n",
    "    else:\n",
    "        print(f\"Request Failed! Invalid Options `{choice}`\")\n",
    "        print(\"Choose valid Options Below \")\n",
    "        print(Options)\n",
    "        \n"
   ]
  },
  {
   "cell_type": "code",
   "execution_count": null,
   "id": "c15e217d",
   "metadata": {},
   "outputs": [],
   "source": [
    "class Bank:\n",
    "    def __init__(self):\n",
    "        self.balance = 0\n",
    "        print (\"The account is created\")\n",
    "        \n",
    "    def deposit(self):\n",
    "        amount = float(input(\"Enter the amount to be deposit: \"))\n",
    "        self.balance = self.balance + amount\n",
    "        print (\"The deposit is successful and the balance in the account is %f\" % self.balance)\n",
    "    \n",
    "    def withdraw(self):\n",
    "        amount = float(input(\"Enter the amount to withdraw: \"))\n",
    "        if (self.balance >= amount):\n",
    "            self.balance = self.balance - amount\n",
    "            print (\"The withdraw is successful and the balance is %f\" % self.balance)\n",
    "        else:\n",
    "            print ('Insuficient Balance')\n",
    "    \n",
    "    def enquiry(self):\n",
    "        print (\"Balance in the account is %f\" % self.balance)\n",
    "        \n",
    "\n",
    "acc = Bank()\n",
    "acc.deposit()\n",
    "acc.withdraw()\n",
    "acc.enquiry()"
   ]
  },
  {
   "cell_type": "markdown",
   "id": "5d20f502",
   "metadata": {},
   "source": [
    "### 4.  Write a function to find the factorial of a given number using recursion.\n"
   ]
  },
  {
   "cell_type": "code",
   "execution_count": null,
   "id": "08b8aaa5",
   "metadata": {},
   "outputs": [],
   "source": [
    "n = int(input(\"enter the number: \"))   \n",
    "fac = 1\n",
    "while (n > 0):\n",
    "    fac = fac * n\n",
    "    n = n - 1\n",
    "print(\"Factorial: \", fac)    "
   ]
  },
  {
   "cell_type": "markdown",
   "id": "95e731bc",
   "metadata": {},
   "source": [
    "  ### 5.Implement a program to read a CSV file and print its contents."
   ]
  },
  {
   "cell_type": "code",
   "execution_count": 3,
   "id": "e304fee1",
   "metadata": {},
   "outputs": [],
   "source": [
    "import csv\n",
    "def create():\n",
    "    with open('detail.csv','w') as obj:\n",
    "        fobj = csv.writer(obj)\n",
    "        fobj . write([\"roll\", \"name\" , \"age\"])\n",
    "    while True:\n",
    "        roll = int(input(\"Enter the roll\"))\n",
    "        name = input(\"Enter the roll\")\n",
    "        age = int(input(\"Enter the roll\"))\n",
    "        lst = [\"roll\", \"name\" , \"age\"]\n",
    "        form.write(lst)"
   ]
  },
  {
   "cell_type": "code",
   "execution_count": 4,
   "id": "89453d6f",
   "metadata": {},
   "outputs": [
    {
     "data": {
      "text/plain": [
       "['',\n",
       " '/Users/himanshu/Documents/office_project/fully-faltoo.com/NewGrades.xlsx',\n",
       " '/Users/himanshu/Downloads/django-example-powerful-4th.pdf',\n",
       " '/Users/himanshu/Library/Mobile Documents/iCloudcomappleiBooks/Documents/Assignment.pdf',\n",
       " '/Users/himanshu/Downloads/Telegram/Notes/Advanced-java.pdf',\n",
       " '/Users/himanshu/Library/Mobile Documents/iCloudcomappleiBooks/Documents/Assignment.pdf',\n",
       " '/Users/himanshu/Downloads/Telegram/password_list/imhim.csv',\n",
       " '/Users/himanshu/Downloads/Telegram/password_list/webdev.csv',\n",
       " '/Users/himanshu/Downloads/Telegram/vcard-personal-portfolio/index.html',\n",
       " '/Users/himanshu/Downloads/squire-example/index.html']"
      ]
     },
     "execution_count": 4,
     "metadata": {},
     "output_type": "execute_result"
    }
   ],
   "source": [
    "fili_list = ['','/Users/himanshu/Documents/office_project/fully-faltoo.com/NewGrades.xlsx','/Users/himanshu/Downloads/django-example-powerful-4th.pdf','/Users/himanshu/Library/Mobile Documents/iCloudcomappleiBooks/Documents/Assignment.pdf','/Users/himanshu/Downloads/Telegram/Notes/Advanced-java.pdf','/Users/himanshu/Library/Mobile Documents/iCloudcomappleiBooks/Documents/Assignment.pdf','/Users/himanshu/Downloads/Telegram/password_list/imhim.csv','/Users/himanshu/Downloads/Telegram/password_list/webdev.csv','/Users/himanshu/Downloads/Telegram/vcard-personal-portfolio/index.html','/Users/himanshu/Downloads/squire-example/index.html']\n",
    "fili_list"
   ]
  },
  {
   "cell_type": "code",
   "execution_count": null,
   "id": "7b43f96d",
   "metadata": {},
   "outputs": [],
   "source": [
    "filename_list = []\n",
    "for path in fili_list:\n",
    "    path_split = path.split('/')\n",
    "    filename_list.append(path_split[-1])\n",
    "print(filename_list)"
   ]
  },
  {
   "cell_type": "code",
   "execution_count": null,
   "id": "1f9aea08",
   "metadata": {},
   "outputs": [],
   "source": [
    "a,b =input(\"Enter the num: \").split(\",\")\n",
    "print(a)\n",
    "print(b)"
   ]
  },
  {
   "cell_type": "code",
   "execution_count": null,
   "id": "f7b10966",
   "metadata": {},
   "outputs": [],
   "source": [
    "import random\n",
    "\n",
    "# List of student names\n",
    "student_names = [\"Alice\", \"Bob\", \"Charlie\", \"David\", \"Emma\", \"Frank\", \"Grace\", \"Hannah\", \"Isaac\", \"Julia\"]\n",
    "\n",
    "# List to store student data as dictionaries\n",
    "students = []\n",
    "\n",
    "# Generate data for 10 students\n",
    "for rollno in range(1, 11):\n",
    "    name = random.choice(student_names)\n",
    "    stu_class = random.randint(1, 12)  # Assuming classes from 1 to 12\n",
    "    grade = chr(random.randint(65, 69))  # Assuming grades from A to E\n",
    "    status = \"Pass\" if random.random() > 0.5 else \"Fail\"\n",
    "    \n",
    "    student = {\n",
    "        \"rollno\": rollno,\n",
    "        \"name\": name,\n",
    "        \"class\": stu_class,\n",
    "        \"grade\": grade,\n",
    "        \"status\": status\n",
    "    }\n",
    "    \n",
    "    students.append(student)\n",
    "\n",
    "# Print the list of student data\n",
    "for student in students:\n",
    "    print(student)\n"
   ]
  },
  {
   "cell_type": "code",
   "execution_count": null,
   "id": "7e48ffba",
   "metadata": {},
   "outputs": [],
   "source": [
    "stu = [\n",
    "    {'rollno': 1, 'name': 'Isaac', 'class': 2, 'grade': 'E', 'status': 'Pass'},\n",
    "    {'rollno': 2, 'name': 'David', 'class': 9, 'grade': 'B', 'status': 'Fail'},\n",
    "    {'rollno': 3, 'name': 'Grace', 'class': 8, 'grade': 'A', 'status': 'Fail'},\n",
    "    {'rollno': 4, 'name': 'Frank', 'class': 1, 'grade': 'E', 'status': 'Pass'},\n",
    "    {'rollno': 5, 'name': 'Alice', 'class': 5, 'grade': 'B', 'status': 'Pass'},\n",
    "    {'rollno': 6, 'name': 'Emma', 'class': 2, 'grade': 'C', 'status': 'Pass'},\n",
    "    {'rollno': 7, 'name': 'Hannah', 'class': 7, 'grade': 'D', 'status': 'Pass'},\n",
    "    {'rollno': 8, 'name': 'Emma', 'class': 2, 'grade': 'B', 'status': 'Fail'},\n",
    "    {'rollno': 9, 'name': 'Alice', 'class': 8, 'grade': 'D', 'status': 'Fail'},\n",
    "    {'rollno': 10, 'name': 'Alice', 'class': 6, 'grade': 'E', 'status': 'Fail'}\n",
    "]\n",
    "\n",
    "def search_student(roll_number):\n",
    "    for student in stu:\n",
    "        if student['rollno'] == roll_number:\n",
    "            return student\n",
    "    return None\n",
    "\n",
    "# Input roll number\n",
    "roll_number = int(input(\"Enter the roll number: \"))\n",
    "\n",
    "# Search for the student\n",
    "found_student = search_student(roll_number)\n",
    "\n",
    "# Display student information if found\n",
    "if found_student:\n",
    "    print(\"Student found:\")\n",
    "    print(\"Name:\", found_student['name'])\n",
    "    print(\"Class:\", found_student['class'])\n",
    "    print(\"Grade:\", found_student['grade'])\n",
    "    print(\"Status:\", found_student['status'])\n",
    "else:\n",
    "    print(\"Student not found.\")\n"
   ]
  },
  {
   "cell_type": "code",
   "execution_count": 7,
   "id": "42760aee",
   "metadata": {},
   "outputs": [
    {
     "name": "stdout",
     "output_type": "stream",
     "text": [
      "hellow world\n"
     ]
    }
   ],
   "source": [
    "# 1.Write a Python program to print \"Hello, World!\"\n",
    "a = \"hellow world\"\n",
    "print(a)"
   ]
  },
  {
   "cell_type": "code",
   "execution_count": 8,
   "id": "33ddf897",
   "metadata": {},
   "outputs": [
    {
     "name": "stdout",
     "output_type": "stream",
     "text": [
      "25\n"
     ]
    }
   ],
   "source": [
    "# 2.Calculate the sum of two numbers\n",
    "num1 = 12\n",
    "num2 = 13\n",
    "add_num = num1+num2\n",
    "print(add_num)"
   ]
  },
  {
   "cell_type": "code",
   "execution_count": 9,
   "id": "7380750e",
   "metadata": {},
   "outputs": [
    {
     "name": "stdout",
     "output_type": "stream",
     "text": [
      "6\n"
     ]
    }
   ],
   "source": [
    "# 3. Find the product of two numbers\n",
    "num1 = 2\n",
    "num2 = 3\n",
    "product_num = num1 * num2\n",
    "print(product_num)"
   ]
  },
  {
   "cell_type": "code",
   "execution_count": 10,
   "id": "f28d1b5b",
   "metadata": {},
   "outputs": [
    {
     "name": "stdout",
     "output_type": "stream",
     "text": [
      "Enter temperature in Celsius: 4\n",
      "Temperature in Fahrenheit: 39.2\n"
     ]
    }
   ],
   "source": [
    "# 4.Convert temperature from Celsius to Fahrenheit.\n",
    "def celsius_to_fahrenheit(celsius):\n",
    "    fahrenheit = (celsius * 9/5) +32\n",
    "    return fahrenheit\n",
    "celsius = float(input(\"Enter temperature in Celsius: \"))\n",
    "fahrenheit = celsius_to_fahrenheit(celsius)\n",
    "print(\"Temperature in Fahrenheit:\", fahrenheit)"
   ]
  },
  {
   "cell_type": "code",
   "execution_count": 11,
   "id": "43e6b3e9",
   "metadata": {},
   "outputs": [
    {
     "name": "stdout",
     "output_type": "stream",
     "text": [
      "Enter the radius of the circle: 4\n",
      "The area of the circle with radius 4.0 is: 50.26548245743669\n"
     ]
    }
   ],
   "source": [
    "# 5. Compute the area of a circle given its radius.\n",
    "import math\n",
    "radius = float(input(\"Enter the radius of the circle: \"))\n",
    "area = math.pi * radius**2\n",
    "print(f\"The area of the circle with radius {radius} is: {area}\")\n"
   ]
  },
  {
   "cell_type": "code",
   "execution_count": 12,
   "id": "f27390aa",
   "metadata": {},
   "outputs": [
    {
     "name": "stdout",
     "output_type": "stream",
     "text": [
      "After swapping:\n",
      "a = 10\n",
      "b = 5\n"
     ]
    }
   ],
   "source": [
    "# 6.  Swap the values of two variables without using a third variable.\n",
    "\n",
    "a = 5\n",
    "b = 10\n",
    "\n",
    "# Swapping without using a third variable\n",
    "a = a + b\n",
    "b = a - b\n",
    "a = a - b\n",
    "\n",
    "# Print the swapped values\n",
    "print(\"After swapping:\")\n",
    "print(\"a =\", a)\n",
    "print(\"b =\", b)\n"
   ]
  },
  {
   "cell_type": "code",
   "execution_count": 13,
   "id": "aa0e1a09",
   "metadata": {},
   "outputs": [
    {
     "name": "stdout",
     "output_type": "stream",
     "text": [
      "odd number\n"
     ]
    }
   ],
   "source": [
    "# 7.  Check if a given number is even or odd.\n",
    "a = 5\n",
    "if a % 2==0:\n",
    "    print(\"even number\")\n",
    "else:\n",
    "    print(\"odd number\")"
   ]
  },
  {
   "cell_type": "code",
   "execution_count": 14,
   "id": "57c9d132",
   "metadata": {},
   "outputs": [
    {
     "name": "stdout",
     "output_type": "stream",
     "text": [
      "Enter a year: 1999\n",
      "1999 is not a leap year.\n"
     ]
    }
   ],
   "source": [
    "# 8. Determine if a year is a leap year or not.\n",
    "year = int(input(\"Enter a year: \"))\n",
    "\n",
    "if (year % 4 == 0 and year % 100 != 0) or (year % 400 == 0):\n",
    "    print(f\"{year} is a leap year.\")\n",
    "else:\n",
    "    print(f\"{year} is not a leap year.\")\n"
   ]
  },
  {
   "cell_type": "code",
   "execution_count": 15,
   "id": "c5aaca84",
   "metadata": {},
   "outputs": [
    {
     "name": "stdout",
     "output_type": "stream",
     "text": [
      "Enter the number of days: 45\n",
      "45 days is approximately 1 months and 15 days.\n"
     ]
    }
   ],
   "source": [
    "# 9.  Convert a given number of days into months and days.\n",
    "\n",
    "total_days = int(input(\"Enter the number of days: \"))\n",
    "months = total_days // 30  # Assuming 30 days in a month\n",
    "remaining_days = total_days % 30\n",
    "\n",
    "print(f\"{total_days} days is approximately {months} months and {remaining_days} days.\")\n"
   ]
  },
  {
   "cell_type": "code",
   "execution_count": 17,
   "id": "3824cec8",
   "metadata": {},
   "outputs": [
    {
     "name": "stdout",
     "output_type": "stream",
     "text": [
      "Enter the length of the rectangle: 4\n",
      "Enter the width of the rectangle: 5\n",
      "The area of the rectangle with length 4.0 and width 5.0 is: 20.0\n"
     ]
    }
   ],
   "source": [
    "# 10. Calculate the area of a rectangle.\n",
    "\n",
    "length = float(input(\"Enter the length of the rectangle: \"))\n",
    "width = float(input(\"Enter the width of the rectangle: \"))\n",
    "area = length * width\n",
    "\n",
    "\n",
    "print(f\"The area of the rectangle with length {length} and width {width} is: {area}\")\n"
   ]
  },
  {
   "cell_type": "code",
   "execution_count": 18,
   "id": "38540512",
   "metadata": {},
   "outputs": [
    {
     "name": "stdout",
     "output_type": "stream",
     "text": [
      "Enter a character: kj\n",
      "Invalid input. Please enter a single alphabet character.\n"
     ]
    }
   ],
   "source": [
    "# 11. Check if a character is a vowel or consonant.\n",
    "\n",
    "char = input(\"Enter a character: \")\n",
    "char = char.lower()\n",
    "\n",
    "# Check if the character is a vowel or consonant\n",
    "if char.isalpha() and len(char) == 1:\n",
    "    if char in 'aeiou':\n",
    "        print(f\"{char} is a vowel.\")\n",
    "    else:\n",
    "        print(f\"{char} is a consonant.\")\n",
    "else:\n",
    "    print(\"Invalid input. Please enter a single alphabet character.\")\n"
   ]
  },
  {
   "cell_type": "code",
   "execution_count": 19,
   "id": "31bad72d",
   "metadata": {},
   "outputs": [
    {
     "name": "stdout",
     "output_type": "stream",
     "text": [
      "Enter a non-negative integer: 4\n",
      "The factorial of 4 is: 24\n"
     ]
    }
   ],
   "source": [
    "# 12. Calculate the factorial of a given number.\n",
    "\n",
    "number = int(input(\"Enter a non-negative integer: \"))\n",
    "if number < 0:\n",
    "    print(\"Please enter a non-negative integer.\")\n",
    "else:\n",
    "    # Calculate the factorial\n",
    "    factorial = 1\n",
    "    for i in range(1, number + 1):\n",
    "        factorial *= i\n",
    "\n",
    "    print(f\"The factorial of {number} is: {factorial}\")\n"
   ]
  },
  {
   "cell_type": "code",
   "execution_count": 20,
   "id": "bedc28db",
   "metadata": {},
   "outputs": [
    {
     "name": "stdout",
     "output_type": "stream",
     "text": [
      "Enter the first number: 4\n",
      "Enter the second number: 4\n",
      "Enter the third number: 2\n",
      "The largest number 4\n"
     ]
    }
   ],
   "source": [
    "# 13.  Find the largest among three numbers\n",
    "# Input: three numbers\n",
    "num1 = int(input(\"Enter the first number: \"))\n",
    "num2 = int(input(\"Enter the second number: \"))\n",
    "num3 = int(input(\"Enter the third number: \"))\n",
    "\n",
    "largest = max(num1, num2, num3)\n",
    "print(f\"The largest number {largest}\")\n"
   ]
  },
  {
   "cell_type": "code",
   "execution_count": 21,
   "id": "09ac8984",
   "metadata": {},
   "outputs": [
    {
     "name": "stdout",
     "output_type": "stream",
     "text": [
      "Enter a number: 4\n",
      "4 is positive.\n"
     ]
    }
   ],
   "source": [
    "# 14. Check if a number is positive, negative, or zero.\n",
    "\n",
    "number = int(input(\"Enter a number: \"))\n",
    "\n",
    "if number > 0:\n",
    "    print(f\"{number} is positive.\")\n",
    "elif number < 0:\n",
    "    print(f\"{number} is negative.\")\n",
    "else:\n",
    "    print(f\"{number} is zero.\")\n"
   ]
  },
  {
   "cell_type": "code",
   "execution_count": 22,
   "id": "e281cc85",
   "metadata": {},
   "outputs": [
    {
     "name": "stdout",
     "output_type": "stream",
     "text": [
      "Enter a single letter: jh\n",
      "Uppercase: JH\n",
      "Lowercase: jh\n"
     ]
    }
   ],
   "source": [
    "# 15. Convert a lowercase letter to uppercase and vice versa.\n",
    "\n",
    "letter = input(\"Enter a single letter: \")\n",
    "if letter.isalpha():\n",
    "    upper_case = letter.upper()\n",
    "    print(f\"Uppercase: {upper_case}\")\n",
    "    \n",
    "    lower_case = letter.lower()\n",
    "    print(f\"Lowercase: {lower_case}\")\n",
    "\n"
   ]
  },
  {
   "cell_type": "code",
   "execution_count": 23,
   "id": "75313b78",
   "metadata": {},
   "outputs": [
    {
     "name": "stdout",
     "output_type": "stream",
     "text": [
      "The sum of even numbers between 1 and 100 is: 2550\n"
     ]
    }
   ],
   "source": [
    "# 16.  Calculate the sum of all even numbers between 1 and 100.\n",
    "\n",
    "sum_of_evens = 0\n",
    "\n",
    "for number in range(2, 101, 2):\n",
    "    sum_of_evens += number\n",
    "\n",
    "print(f\"The sum of even numbers between 1 and 100 is: {sum_of_evens}\")\n"
   ]
  },
  {
   "cell_type": "code",
   "execution_count": 25,
   "id": "81104cef",
   "metadata": {},
   "outputs": [
    {
     "name": "stdout",
     "output_type": "stream",
     "text": [
      "Enter the number Fibonacci sequence: 2\n",
      "The Fibonacci sequence is: [0, 1]\n"
     ]
    }
   ],
   "source": [
    "# 17. Generate the Fibonacci sequence up to a given number of terms.\n",
    "\n",
    "num_terms = int(input(\"Enter the number Fibonacci sequence: \"))\n",
    "fibonacci_sequence = [0, 1]\n",
    "\n",
    "# Generate the Fibonacci sequence\n",
    "for i in range(2, num_terms):\n",
    "    next_term = fibonacci_sequence[-1] + fibonacci_sequence[-2]\n",
    "    fibonacci_sequence.append(next_term)\n",
    "\n",
    "# Print the result\n",
    "print(f\"The Fibonacci sequence is: {fibonacci_sequence}\")\n"
   ]
  },
  {
   "cell_type": "code",
   "execution_count": 37,
   "id": "b3b4cbaf",
   "metadata": {},
   "outputs": [
    {
     "name": "stdout",
     "output_type": "stream",
     "text": [
      "Enter a positive integer: 13\n",
      "13 is a prime number.\n"
     ]
    }
   ],
   "source": [
    "# 18.  Check if a number is a prime number.\n",
    "\n",
    "number = int(input(\"Enter a positive integer: \"))\n",
    "\n",
    "# Check if the number is a prime number\n",
    "if number > 1:\n",
    "    for i in range(2, int(number**0.5) + 1):\n",
    "        if number % i == 0:\n",
    "            print(f\"{number} is not a prime number.\")\n",
    "            break\n",
    "    else:\n",
    "        print(f\"{number} is a prime number.\")\n",
    "else:\n",
    "    print(f\"{number} is not a prime number.\")\n"
   ]
  },
  {
   "cell_type": "code",
   "execution_count": 30,
   "id": "c57dea58",
   "metadata": {},
   "outputs": [
    {
     "name": "stdout",
     "output_type": "stream",
     "text": [
      "Enter a number: 4\n",
      "Multiplication table of 4:\n",
      "4 x 1 = 4\n",
      "4 x 2 = 8\n",
      "4 x 3 = 12\n",
      "4 x 4 = 16\n",
      "4 x 5 = 20\n",
      "4 x 6 = 24\n",
      "4 x 7 = 28\n",
      "4 x 8 = 32\n",
      "4 x 9 = 36\n",
      "4 x 10 = 40\n"
     ]
    }
   ],
   "source": [
    "# 19. Print the multiplication table of a given number.\n",
    "\n",
    "number = int(input(\"Enter a number: \"))\n",
    "\n",
    "print(f\"Multiplication table of {number}:\")\n",
    "\n",
    "for i in range(1, 11):\n",
    "    result = number * i\n",
    "    print(f\"{number} x {i} = {result}\")\n"
   ]
  },
  {
   "cell_type": "code",
   "execution_count": 33,
   "id": "172209d4",
   "metadata": {},
   "outputs": [
    {
     "name": "stdout",
     "output_type": "stream",
     "text": [
      "Enter a number: 12\n",
      "The reverse of 12 is: 21\n"
     ]
    }
   ],
   "source": [
    "# 20.  Reverse a given number\n",
    "\n",
    "number = int(input(\"Enter a number: \"))\n",
    "reversed_number = 0\n",
    "original_number = number\n",
    "\n",
    "# Reverse the number\n",
    "while number > 0:\n",
    "    digit = number % 10\n",
    "    reversed_number = reversed_number * 10 + digit\n",
    "    number = number // 10\n",
    "\n",
    "# Print the result\n",
    "print(f\"The reverse of {original_number} is: {reversed_number}\")\n"
   ]
  },
  {
   "cell_type": "code",
   "execution_count": 40,
   "id": "5bfc47ea",
   "metadata": {},
   "outputs": [
    {
     "name": "stdout",
     "output_type": "stream",
     "text": [
      "Enter a string: 11\n",
      "11 is a palindrome.\n"
     ]
    }
   ],
   "source": [
    "# 21. Check if a string is a palindrome\n",
    "\n",
    "string = input(\"Enter a string: \")\n",
    "cleaned_string = ''.join(string.split()).lower()\n",
    "\n",
    "# Check if the string is a palindrome\n",
    "if cleaned_string == cleaned_string[::-1]:\n",
    "    print(f\"{string} is a palindrome.\")\n",
    "else:\n",
    "    print(f\"{string} is not a palindrome.\")\n"
   ]
  },
  {
   "cell_type": "code",
   "execution_count": 44,
   "id": "1d5a0e88",
   "metadata": {},
   "outputs": [
    {
     "name": "stdout",
     "output_type": "stream",
     "text": [
      "Enter a list of numbers separated by spaces: 1 2 5 4 2 \n",
      "The maximum element in the list is: 5\n"
     ]
    }
   ],
   "source": [
    "# 22.  Find the maximum element in a list.\n",
    "\n",
    "numbers = [int(x) for x in input(\"Enter a list of numbers separated by spaces: \").split()]\n",
    "max_element = max(numbers)\n",
    "\n",
    "print(f\"The maximum element in the list is: {max_element}\")\n"
   ]
  },
  {
   "cell_type": "code",
   "execution_count": 45,
   "id": "de1dddd1",
   "metadata": {},
   "outputs": [
    {
     "name": "stdout",
     "output_type": "stream",
     "text": [
      "Enter a list of elements separated by spaces: 1 1 2 4 5 5 \n",
      "The list after removing duplicates: [1, 2, 4, 5]\n"
     ]
    }
   ],
   "source": [
    "# 23. Remove duplicate elements from a list.\n",
    "\n",
    "original_list = [int(x) for x in input(\"Enter a list of elements separated by spaces: \").split()]\n",
    "\n",
    "# Remove duplicates using set\n",
    "unique_list = list(set(original_list))\n",
    "print(f\"The list after removing duplicates: {unique_list}\")\n"
   ]
  },
  {
   "cell_type": "code",
   "execution_count": 46,
   "id": "a59014dc",
   "metadata": {},
   "outputs": [
    {
     "name": "stdout",
     "output_type": "stream",
     "text": [
      "Average of the list = 35.75\n"
     ]
    }
   ],
   "source": [
    "# 24. Calculate the average of a list of numbers.\n",
    "def Average(lst): \n",
    "    return sum(lst) / len(lst) \n",
    " \n",
    "# Driver Code \n",
    "lst = [15, 9, 55, 41, 35, 20, 62, 49] \n",
    "average = Average(lst) \n",
    " \n",
    "print(\"Average of the list =\", round(average, 2)) "
   ]
  },
  {
   "cell_type": "code",
   "execution_count": 47,
   "id": "63af7282",
   "metadata": {},
   "outputs": [
    {
     "name": "stdout",
     "output_type": "stream",
     "text": [
      "Enter a list of elements separated by spaces: 4 5 5 2 1\n",
      "Enter the element to count: 6\n",
      "The element '6' appears 0 times in the list.\n"
     ]
    }
   ],
   "source": [
    "# 25.  Count the number of occurrences of a specific element in a list.\n",
    "\n",
    "my_list = input(\"Enter a list of elements separated by spaces: \").split()\n",
    "element_to_count = input(\"Enter the element to count: \")\n",
    "count_occurrences = my_list.count(element_to_count)\n",
    "\n",
    "print(f\"The element '{element_to_count}' appears {count_occurrences} times in the list.\")\n"
   ]
  },
  {
   "cell_type": "code",
   "execution_count": 49,
   "id": "f926194e",
   "metadata": {},
   "outputs": [
    {
     "name": "stdout",
     "output_type": "stream",
     "text": [
      "Enter the first list of elements separated by spaces: 3 4\n",
      "Enter the second list of elements separated by spaces: 1 2\n",
      "The merged and sorted list is: ['1', '2', '3', '4']\n"
     ]
    }
   ],
   "source": [
    "# 26. Merge two lists and sort them.\n",
    "\n",
    "list1 = input(\"Enter the first list of elements separated by spaces: \").split()\n",
    "list2 = input(\"Enter the second list of elements separated by spaces: \").split()\n",
    "\n",
    "merged_list = list1 + list2\n",
    "sorted_list = sorted(merged_list)\n",
    "\n",
    "# Print the result\n",
    "print(f\"The merged and sorted list is: {sorted_list}\")"
   ]
  },
  {
   "cell_type": "code",
   "execution_count": 51,
   "id": "339c6f09",
   "metadata": {},
   "outputs": [
    {
     "name": "stdout",
     "output_type": "stream",
     "text": [
      "Enter a list of elements separated by spaces: 4\n",
      "The list is not empty.\n"
     ]
    }
   ],
   "source": [
    "# 27. Check if a list is empty.\n",
    "\n",
    "my_list = input(\"Enter a list of elements separated by spaces: \").split()\n",
    "\n",
    "if not my_list:\n",
    "    print(\"The list is empty.\")\n",
    "else:\n",
    "    print(\"The list is not empty.\")\n"
   ]
  },
  {
   "cell_type": "code",
   "execution_count": 52,
   "id": "c3a3fd11",
   "metadata": {},
   "outputs": [
    {
     "name": "stdout",
     "output_type": "stream",
     "text": [
      "Enter a string: kg\n",
      "The length of the string is: 2\n"
     ]
    }
   ],
   "source": [
    "# 28.  Find the length of a string without using the len() function.\n",
    "\n",
    "my_string = input(\"Enter a string: \")\n",
    "\n",
    "length = 0\n",
    "for char in my_string:\n",
    "    length += 1\n",
    "\n",
    "print(f\"The length of the string is: {length}\")\n"
   ]
  },
  {
   "cell_type": "code",
   "execution_count": 54,
   "id": "2fa262e0",
   "metadata": {},
   "outputs": [
    {
     "name": "stdout",
     "output_type": "stream",
     "text": [
      "Enter a string: akiho\n",
      "The number of vowels: 3\n",
      "The number of consonants: 2\n"
     ]
    }
   ],
   "source": [
    "# 29. Find the number of vowels and consonants in a string\n",
    "\n",
    "my_string = input(\"Enter a string: \")\n",
    "\n",
    "my_string = my_string.lower()\n",
    "\n",
    "# Initialize counters\n",
    "vowel_count = 0\n",
    "consonant_count = 0\n",
    "\n",
    "# Check each character in the string\n",
    "for char in my_string:\n",
    "    if char.isalpha():\n",
    "        if char in 'aeiou':\n",
    "            vowel_count += 1\n",
    "        else:\n",
    "            consonant_count += 1\n",
    "\n",
    "\n",
    "print(f\"The number of vowels: {vowel_count}\")\n",
    "print(f\"The number of consonants: {consonant_count}\")\n"
   ]
  },
  {
   "cell_type": "code",
   "execution_count": 56,
   "id": "d5986092",
   "metadata": {},
   "outputs": [
    {
     "name": "stdout",
     "output_type": "stream",
     "text": [
      "Enter a string: k j h\n",
      "The string without whitespaces: kjh\n"
     ]
    }
   ],
   "source": [
    "# 30.  Remove all whitespaces from a string.\n",
    "\n",
    "my_string = input(\"Enter a string: \")\n",
    "\n",
    "no_whitespace_string = my_string.replace(\" \", \"\")\n",
    "print(f\"The string without whitespaces: {no_whitespace_string}\")\n"
   ]
  },
  {
   "cell_type": "code",
   "execution_count": 57,
   "id": "0a28eb03",
   "metadata": {},
   "outputs": [
    {
     "name": "stdout",
     "output_type": "stream",
     "text": [
      "Enter the first string: 14\n",
      "Enter the second string: 12\n",
      "The two strings are not anagrams.\n"
     ]
    }
   ],
   "source": [
    "# 31.  Check if two strings are anagrams.\n",
    "\n",
    "string1 = input(\"Enter the first string: \")\n",
    "string2 = input(\"Enter the second string: \")\n",
    "\n",
    "string1 = string1.lower()\n",
    "string2 = string2.lower()\n",
    "\n",
    "if sorted(string1) == sorted(string2):\n",
    "    print(\"The two strings are anagrams.\")\n",
    "else:\n",
    "    print(\"The two strings are not anagrams.\")\n"
   ]
  },
  {
   "cell_type": "code",
   "execution_count": 61,
   "id": "d27003a9",
   "metadata": {},
   "outputs": [
    {
     "name": "stdout",
     "output_type": "stream",
     "text": [
      "Enter a file name: \"C:\\Resume\\Kanchan Python Developer-..pdf\"\n",
      "The file extension is: .pdf\"\n"
     ]
    }
   ],
   "source": [
    "# 32. Extract the file extension from a given file name\n",
    "\n",
    "import os\n",
    "file_name = input(\"Enter a file name: \")\n",
    "\n",
    "# Extract the file extension\n",
    "file_extension = os.path.splitext(file_name)[1]\n",
    "\n",
    "print(f\"The file extension is: {file_extension}\")"
   ]
  },
  {
   "cell_type": "code",
   "execution_count": 62,
   "id": "51878d1e",
   "metadata": {},
   "outputs": [
    {
     "name": "stdout",
     "output_type": "stream",
     "text": [
      "Enter the length of the rectangle: 4\n",
      "Enter the width of the rectangle: 5\n",
      "The area of the rectangle is: 20.0\n",
      "The perimeter of the rectangle is: 18.0\n"
     ]
    }
   ],
   "source": [
    "# 33.  Calculate the area and perimeter of a rectangle using a class\n",
    "\n",
    "class Rectangle:\n",
    "    def __init__(self, length, width):\n",
    "        self.length = length\n",
    "        self.width = width\n",
    "\n",
    "    def calculate_area(self):\n",
    "        return self.length * self.width\n",
    "\n",
    "    def calculate_perimeter(self):\n",
    "        return 2 * (self.length + self.width)\n",
    "\n",
    "# Input: length and width of the rectangle\n",
    "length = float(input(\"Enter the length of the rectangle: \"))\n",
    "width = float(input(\"Enter the width of the rectangle: \"))\n",
    "\n",
    "# Create a Rectangle object\n",
    "rectangle = Rectangle(length, width)\n",
    "\n",
    "# Calculate and print the area\n",
    "area = rectangle.calculate_area()\n",
    "print(f\"The area of the rectangle is: {area}\")\n",
    "\n",
    "# Calculate and print the perimeter\n",
    "perimeter = rectangle.calculate_perimeter()\n",
    "print(f\"The perimeter of the rectangle is: {perimeter}\")\n"
   ]
  },
  {
   "cell_type": "code",
   "execution_count": 64,
   "id": "9bce1b0d",
   "metadata": {},
   "outputs": [
    {
     "name": "stdout",
     "output_type": "stream",
     "text": [
      "Enter the first number: 4\n",
      "Enter the second number: 5\n",
      "\n",
      "Choose an operation:\n",
      "1. Addition (+)\n",
      "2. Subtraction (-)\n",
      "3. Multiplication (*)\n",
      "4. Division (/)\n",
      "Enter the operation number (1, 2, 3, 4): 1\n",
      "\n",
      "Addition result: 9\n"
     ]
    }
   ],
   "source": [
    "# 34.  Implement a simple calculator using functions.\n",
    "\n",
    "def add(x, y):\n",
    "    return x + y\n",
    "\n",
    "def subtract(x, y):\n",
    "    return x - y\n",
    "\n",
    "def multiply(x, y):\n",
    "    return x * y\n",
    "\n",
    "def divide(x, y):\n",
    "    if y != 0:\n",
    "        return x / y\n",
    "    else:\n",
    "        return \"Cannot divide by zero.\"\n",
    "\n",
    "# Input: two numbers\n",
    "num1 = int(input(\"Enter the first number: \"))\n",
    "num2 = int(input(\"Enter the second number: \"))\n",
    "\n",
    "# Menu for operations\n",
    "print(\"\\nChoose an operation:\")\n",
    "print(\"1. Addition (+)\")\n",
    "print(\"2. Subtraction (-)\")\n",
    "print(\"3. Multiplication (*)\")\n",
    "print(\"4. Division (/)\")\n",
    "\n",
    "# Input: operation choice\n",
    "choice = input(\"Enter the operation number (1, 2, 3, 4): \")\n",
    "\n",
    "# Perform the selected operation\n",
    "if choice in ('1', '2', '3', '4'):\n",
    "    if choice == '1':\n",
    "        result = add(num1, num2)\n",
    "        operation = \"Addition\"\n",
    "    elif choice == '2':\n",
    "        result = subtract(num1, num2)\n",
    "        operation = \"Subtraction\"\n",
    "    elif choice == '3':\n",
    "        result = multiply(num1, num2)\n",
    "        operation = \"Multiplication\"\n",
    "    else:\n",
    "        result = divide(num1, num2)\n",
    "        operation = \"Division\"\n",
    "\n",
    "    # Print the result\n",
    "    print(f\"\\n{operation} result: {result}\")\n",
    "else:\n",
    "    print(\"Invalid choice. Please enter a valid operation number.\")\n"
   ]
  },
  {
   "cell_type": "code",
   "execution_count": 68,
   "id": "b0fc0140",
   "metadata": {},
   "outputs": [
    {
     "name": "stdout",
     "output_type": "stream",
     "text": [
      "Enter a year: 2000\n",
      "2000 is a century year.\n"
     ]
    }
   ],
   "source": [
    "# 35. Check if a given year is a century year (ending with 00).\n",
    "\n",
    "year = int(input(\"Enter a year: \"))\n",
    "\n",
    "# Check if the year is a century year\n",
    "if year % 100 == 0:\n",
    "    print(f\"{year} is a century year.\")\n",
    "else:\n",
    "    print(f\"{year} is not a century year.\")\n"
   ]
  },
  {
   "cell_type": "code",
   "execution_count": 69,
   "id": "a66cf1db",
   "metadata": {},
   "outputs": [
    {
     "name": "stdout",
     "output_type": "stream",
     "text": [
      "Enter a number: 45\n",
      "The square root of 45.0 is: 6.708203932499369\n"
     ]
    }
   ],
   "source": [
    "# 36. Calculate the square root of a number using the math module.\n",
    "\n",
    "import math\n",
    "\n",
    "number = float(input(\"Enter a number: \"))\n",
    "\n",
    "# Calculate the square root using the math module\n",
    "square_root = math.sqrt(number)\n",
    "\n",
    "print(f\"The square root of {number} is: {square_root}\")\n"
   ]
  },
  {
   "cell_type": "code",
   "execution_count": 70,
   "id": "3013148d",
   "metadata": {},
   "outputs": [
    {
     "name": "stdout",
     "output_type": "stream",
     "text": [
      "Enter a number: 45\n",
      "The number of digits in 45 is: 2\n"
     ]
    }
   ],
   "source": [
    "# 37.  Count the number of digits in a given number.\n",
    "\n",
    "number = int(input(\"Enter a number: \"))\n",
    "\n",
    "# Calculate the number of digits\n",
    "num_digits = len(str(abs(number)))\n",
    "\n",
    "print(f\"The number of digits in {number} is: {num_digits}\")\n"
   ]
  },
  {
   "cell_type": "code",
   "execution_count": 72,
   "id": "2fafc712",
   "metadata": {},
   "outputs": [
    {
     "name": "stdout",
     "output_type": "stream",
     "text": [
      "Enter a list of numbers separated by spaces: 1 5 4\n",
      "The smallest element in the list is: 1\n",
      "The largest element in the list is: 5\n"
     ]
    }
   ],
   "source": [
    "# 38. Find the smallest and largest elements in a list.\n",
    "\n",
    "numbers = [int(x) for x in input(\"Enter a list of numbers separated by spaces: \").split()]\n",
    "\n",
    "# Check if the list is not empty\n",
    "if numbers:\n",
    "    # Find the smallest and largest elements\n",
    "    smallest = min(numbers)\n",
    "    largest = max(numbers)\n",
    "\n",
    "    print(f\"The smallest element in the list is: {smallest}\")\n",
    "    print(f\"The largest element in the list is: {largest}\")\n",
    "else:\n",
    "    print(\"The list is empty. Please enter numbers.\")\n"
   ]
  },
  {
   "cell_type": "code",
   "execution_count": 74,
   "id": "61749553",
   "metadata": {},
   "outputs": [
    {
     "name": "stdout",
     "output_type": "stream",
     "text": [
      "Enter a string: kam\n",
      "Enter the character to replace: m\n",
      "Enter the new character or string: n\n",
      "The string after replacement: kan\n"
     ]
    }
   ],
   "source": [
    "# 39.  Replace all occurrences of a specific character in a string.\n",
    "\n",
    "original_string = input(\"Enter a string: \")\n",
    "old_char = input(\"Enter the character to replace: \")\n",
    "new_char = input(\"Enter the new character or string: \")\n",
    "\n",
    "new_string = original_string.replace(old_char, new_char)\n",
    "\n",
    "print(f\"The string after replacement: {new_string}\")\n"
   ]
  },
  {
   "cell_type": "code",
   "execution_count": 75,
   "id": "fe0d7d23",
   "metadata": {},
   "outputs": [
    {
     "name": "stdout",
     "output_type": "stream",
     "text": [
      "Enter the first list of elements separated by spaces: 1 4 5\n",
      "Enter the second list of elements separated by spaces: 1 2 \n",
      "List 1 is not a subset of List 2.\n"
     ]
    }
   ],
   "source": [
    "# 40. Check if a list is a subset of another list.\n",
    "\n",
    "list1 = input(\"Enter the first list of elements separated by spaces: \").split()\n",
    "list2 = input(\"Enter the second list of elements separated by spaces: \").split()\n",
    "\n",
    "# Check if list1 is a subset of list2\n",
    "is_subset = set(list1).issubset(set(list2))\n",
    "\n",
    "if is_subset:\n",
    "    print(\"List 1 is a subset of List 2.\")\n",
    "else:\n",
    "    print(\"List 1 is not a subset of List 2.\")\n"
   ]
  },
  {
   "cell_type": "code",
   "execution_count": 76,
   "id": "3e963326",
   "metadata": {},
   "outputs": [
    {
     "name": "stdout",
     "output_type": "stream",
     "text": [
      "Enter a list of integers separated by spaces: 4\n",
      "The comma-separated string is: 4\n"
     ]
    }
   ],
   "source": [
    "# 41.  Convert a list of integers to a comma-separated string\n",
    "\n",
    "integer_list = [int(x) for x in input(\"Enter a list of integers separated by spaces: \").split()]\n",
    "comma_separated_string = ', '.join(map(str, integer_list))\n",
    "\n",
    "print(f\"The comma-separated string is: {comma_separated_string}\")\n"
   ]
  },
  {
   "cell_type": "code",
   "execution_count": 77,
   "id": "60f6b87d",
   "metadata": {},
   "outputs": [
    {
     "name": "stdout",
     "output_type": "stream",
     "text": [
      "Enter the desired password length: 4\n",
      "Random Password: ;}0E\n"
     ]
    }
   ],
   "source": [
    "# 42.  Generate a random password of a given length.\n",
    "import random\n",
    "import string\n",
    "\n",
    "def generate_password(length):\n",
    "    # Define the characters to use in the password\n",
    "    characters = string.ascii_letters + string.digits + string.punctuation\n",
    "\n",
    "    # Generate the random password\n",
    "    password = ''.join(random.choice(characters) for _ in range(length))\n",
    "\n",
    "    return password\n",
    "\n",
    "# Input: desired password length\n",
    "password_length = int(input(\"Enter the desired password length: \"))\n",
    "\n",
    "# Generate and print the random password\n",
    "random_password = generate_password(password_length)\n",
    "print(f\"Random Password: {random_password}\")\n"
   ]
  },
  {
   "cell_type": "code",
   "execution_count": 78,
   "id": "a73fb3a5",
   "metadata": {},
   "outputs": [
    {
     "name": "stdout",
     "output_type": "stream",
     "text": [
      "Enter the base: 12\n",
      "Enter the exponent: 4\n",
      "12.0 raised to the power of 4 is: 20736.0\n"
     ]
    }
   ],
   "source": [
    "# 43.  Calculate the power of a number using a loop\n",
    "\n",
    "base = float(input(\"Enter the base: \"))\n",
    "exponent = int(input(\"Enter the exponent: \"))\n",
    "\n",
    "# Initialize the result to 1\n",
    "result = 1\n",
    "\n",
    "# Calculate the power using a loop\n",
    "for _ in range(exponent):\n",
    "    result *= base\n",
    "\n",
    "# Print the result\n",
    "print(f\"{base} raised to the power of {exponent} is: {result}\")\n"
   ]
  },
  {
   "cell_type": "code",
   "execution_count": 79,
   "id": "652d4416",
   "metadata": {},
   "outputs": [
    {
     "name": "stdout",
     "output_type": "stream",
     "text": [
      "Enter a decimal number: 456\n",
      "The binary representation of 456 is: 111001000\n"
     ]
    }
   ],
   "source": [
    "# 44. Convert a decimal number to binary and vice versa\n",
    "\n",
    "decimal_number = int(input(\"Enter a decimal number: \"))\n",
    "\n",
    "# Convert decimal to binary\n",
    "binary_representation = bin(decimal_number)[2:]\n",
    "\n",
    "# Print the result\n",
    "print(f\"The binary representation of {decimal_number} is: {binary_representation}\")\n"
   ]
  },
  {
   "cell_type": "code",
   "execution_count": 81,
   "id": "f78071f5",
   "metadata": {},
   "outputs": [
    {
     "name": "stdout",
     "output_type": "stream",
     "text": [
      "Enter a binary number: 1111\n",
      "The decimal representation of 1111 is: 15\n"
     ]
    }
   ],
   "source": [
    "# Input: binary number\n",
    "binary_number = input(\"Enter a binary number: \")\n",
    "\n",
    "# Convert binary to decimal\n",
    "decimal_representation = int(binary_number, 2)\n",
    "\n",
    "# Print the result\n",
    "print(f\"The decimal representation of {binary_number} is: {decimal_representation}\")\n"
   ]
  },
  {
   "cell_type": "code",
   "execution_count": 84,
   "id": "8a40a516",
   "metadata": {},
   "outputs": [
    {
     "name": "stdout",
     "output_type": "stream",
     "text": [
      "Enter a sentence: khj hhjhj\n",
      "The reversed sentence is: hhjhj khj\n"
     ]
    }
   ],
   "source": [
    "# 45. Reverse the order of words in a sentence\n",
    "\n",
    "sentence = input(\"Enter a sentence: \")\n",
    "\n",
    "# Reverse the order of words\n",
    "reversed_sentence = ' '.join(sentence.split()[::-1])\n",
    "\n",
    "# Print the result\n",
    "print(f\"The reversed sentence is: {reversed_sentence}\")\n"
   ]
  },
  {
   "cell_type": "code",
   "execution_count": 85,
   "id": "b6c9bcc6",
   "metadata": {},
   "outputs": [
    {
     "name": "stdout",
     "output_type": "stream",
     "text": [
      "Enter a string: hhjhjbj\n",
      "The string after removing the first and last characters: hjhjb\n"
     ]
    }
   ],
   "source": [
    "# 46. Remove the first and last character from a string.\n",
    "# Input: a string\n",
    "original_string = input(\"Enter a string: \")\n",
    "\n",
    "# Remove the first and last characters\n",
    "modified_string = original_string[1:-1]\n",
    "\n",
    "# Print the result\n",
    "print(f\"The string after removing the first and last characters: {modified_string}\")\n"
   ]
  },
  {
   "cell_type": "code",
   "execution_count": 88,
   "id": "a9cd5fbe",
   "metadata": {},
   "outputs": [
    {
     "name": "stdout",
     "output_type": "stream",
     "text": [
      "Enter a string: a\n",
      "The string does not contain only digits.\n"
     ]
    }
   ],
   "source": [
    "# 47. Check if a string contains only digits.\n",
    "# Input: a string\n",
    "my_string = input(\"Enter a string: \")\n",
    "\n",
    "# Check if the string contains only digits\n",
    "if my_string.isdigit():\n",
    "    print(\"The string contains only digits.\")\n",
    "else:\n",
    "    print(\"The string does not contain only digits.\")\n"
   ]
  },
  {
   "cell_type": "code",
   "execution_count": 89,
   "id": "63048991",
   "metadata": {},
   "outputs": [
    {
     "name": "stdout",
     "output_type": "stream",
     "text": [
      "Enter a list of numbers separated by spaces: 1 4 5\n",
      "The second largest element in the list is: 4.0\n"
     ]
    }
   ],
   "source": [
    "# 48.  Find the second largest element in a list.\n",
    "\n",
    "numbers = [float(x) for x in input(\"Enter a list of numbers separated by spaces: \").split()]\n",
    "\n",
    "# Check if the list has at least two elements\n",
    "if len(numbers) < 2:\n",
    "    print(\"The list should have at least two elements.\")\n",
    "else:\n",
    "    # Find the second largest element\n",
    "    unique_numbers = list(set(numbers))\n",
    "    unique_numbers.sort()\n",
    "    \n",
    "    second_largest = unique_numbers[-2]\n",
    "\n",
    "    # Print the result\n",
    "    print(f\"The second largest element in the list is: {second_largest}\")\n"
   ]
  },
  {
   "cell_type": "code",
   "execution_count": 90,
   "id": "c0989385",
   "metadata": {},
   "outputs": [
    {
     "name": "stdout",
     "output_type": "stream",
     "text": [
      "Enter a number: 54\n",
      "The sum of digits is: 9\n"
     ]
    }
   ],
   "source": [
    "# 49.  Calculate the sum of digits in a given number\n",
    "\n",
    "number = int(input(\"Enter a number: \"))\n",
    "\n",
    "# Calculate the sum of digits\n",
    "sum_of_digits = 0\n",
    "\n",
    "# Loop to extract and sum each digit\n",
    "while number > 0:\n",
    "    digit = number % 10\n",
    "    sum_of_digits += digit\n",
    "    number //= 10\n",
    "\n",
    "# Print the result\n",
    "print(f\"The sum of digits is: {sum_of_digits}\")\n"
   ]
  },
  {
   "cell_type": "code",
   "execution_count": 91,
   "id": "b23037de",
   "metadata": {},
   "outputs": [
    {
     "name": "stdout",
     "output_type": "stream",
     "text": [
      "Enter the number of rows: 6\n",
      "* \n",
      "* * \n",
      "* * * \n",
      "* * * * \n",
      "* * * * * \n",
      "* * * * * * \n"
     ]
    }
   ],
   "source": [
    "# 50.  Generate a pattern of stars using nested loops.\n",
    "# Input: number of rows\n",
    "num_rows = int(input(\"Enter the number of rows: \"))\n",
    "\n",
    "# Generate a pattern of stars\n",
    "for i in range(num_rows):\n",
    "    for j in range(i + 1):\n",
    "        print('*', end=' ')\n",
    "    print()\n"
   ]
  },
  {
   "cell_type": "code",
   "execution_count": null,
   "id": "da640e4c",
   "metadata": {},
   "outputs": [],
   "source": []
  }
 ],
 "metadata": {
  "kernelspec": {
   "display_name": "Python 3 (ipykernel)",
   "language": "python",
   "name": "python3"
  },
  "language_info": {
   "codemirror_mode": {
    "name": "ipython",
    "version": 3
   },
   "file_extension": ".py",
   "mimetype": "text/x-python",
   "name": "python",
   "nbconvert_exporter": "python",
   "pygments_lexer": "ipython3",
   "version": "3.9.12"
  }
 },
 "nbformat": 4,
 "nbformat_minor": 5
}
