{
 "cells": [
  {
   "cell_type": "markdown",
   "id": "e50ff1ad",
   "metadata": {},
   "source": [
    "### <span style='color:Red'>1. How to check if two python strings are Anagrams </span>"
   ]
  },
  {
   "cell_type": "code",
   "execution_count": 10,
   "id": "d0284afb",
   "metadata": {},
   "outputs": [
    {
     "name": "stdout",
     "output_type": "stream",
     "text": [
      "Enter the first string: kk\n",
      "Enter the first string: kk\n",
      "The string are anagrams.\n"
     ]
    }
   ],
   "source": [
    "# get input string from user.\n",
    "str1 = input(\"Enter the first string: \")\n",
    "str2 = input(\"Enter the first string: \")\n",
    "\n",
    "# check if string are of equal length\n",
    "if len(str1) != len(str2):\n",
    "    print(\"The string are not anagrams.\")\n",
    "else: \n",
    "    # convert string to lowercase and sort them\n",
    "    sort_str1 = sorted(str1.lower())\n",
    "    sort_str2 = sorted(str2.lower())\n",
    "    \n",
    "# compare the two sorted string\n",
    "    if sort_str1 == sort_str2:\n",
    "        print(\"The string are anagrams.\")\n",
    "    else: \n",
    "        print(\"The string are not anagrams.\")"
   ]
  },
  {
   "cell_type": "markdown",
   "id": "c69fae68",
   "metadata": {},
   "source": [
    "### <span style='color:green'>2. Check Armstrong number in python.</span>"
   ]
  },
  {
   "cell_type": "code",
   "execution_count": 60,
   "id": "c94b0f83",
   "metadata": {},
   "outputs": [
    {
     "name": "stdout",
     "output_type": "stream",
     "text": [
      "Enter a number: 1\n",
      "1 is Armstrong number\n"
     ]
    }
   ],
   "source": [
    "my_num = int(input(\"Enter a number: \"))\n",
    "power_of_my_num = len(str(my_num))\n",
    "total = 0\n",
    "i = my_num\n",
    "while i > 0:\n",
    "    remainder = i % 10\n",
    "    total += remainder ** power_of_my_num\n",
    "    i = i // 10\n",
    "if total == my_num:\n",
    "    print(f'{my_num} is Armstrong number')\n",
    "else: \n",
    "    print(f'{my_num} is not Armstrong number')"
   ]
  },
  {
   "cell_type": "markdown",
   "id": "000d1224",
   "metadata": {},
   "source": [
    "### <span style='color:green'>3. Python programs to check for Leap Year.</span>"
   ]
  },
  {
   "cell_type": "code",
   "execution_count": 44,
   "id": "be0cf88d",
   "metadata": {},
   "outputs": [
    {
     "name": "stdout",
     "output_type": "stream",
     "text": [
      "Enter a year: 2022\n",
      "2022 is not leap year\n"
     ]
    }
   ],
   "source": [
    "num = int(input(\"Enter a year: \"))\n",
    "if num % 4 == 0:\n",
    "    if num % 100 == 0:\n",
    "        if num % 400 == 0:\n",
    "            print(f'{num} is not leap year')\n",
    "        else:\n",
    "            print(f'{num} is leap year')\n",
    "else:\n",
    "     print(f'{num} is not leap year')\n",
    "            "
   ]
  },
  {
   "cell_type": "markdown",
   "id": "a93db7fe",
   "metadata": {},
   "source": [
    "### <span style='color:green'>4. Python Programs for Fibonacci Series.</span>"
   ]
  },
  {
   "cell_type": "code",
   "execution_count": 54,
   "id": "7c884d3b",
   "metadata": {},
   "outputs": [
    {
     "name": "stdout",
     "output_type": "stream",
     "text": [
      "Enter number for series :12\n",
      "0 1 1 2 3 5 8 13 21 34 55 89 "
     ]
    }
   ],
   "source": [
    "num = int(input(\"Enter number for series :\"))\n",
    "a = 0\n",
    "b = 1\n",
    "if num <= 0:\n",
    "    print(\"Enter valid number (>0)\")\n",
    "elif num == 1:\n",
    "    print(a)\n",
    "elif num == 2:\n",
    "    print(a,b)\n",
    "else:\n",
    "    print(a, end = \" \")\n",
    "    print(b, end = \" \")\n",
    "    i = 0\n",
    "    while i < num - 2:\n",
    "        c = a + b\n",
    "        a = b\n",
    "        b = c\n",
    "        print(c, end = \" \")\n",
    "        i += 1"
   ]
  },
  {
   "cell_type": "markdown",
   "id": "789f839c",
   "metadata": {},
   "source": [
    "### <span style='color:green'>5. Python Programs to check Perfect Number.</span>"
   ]
  },
  {
   "cell_type": "code",
   "execution_count": 59,
   "id": "ebbf268b",
   "metadata": {},
   "outputs": [
    {
     "name": "stdout",
     "output_type": "stream",
     "text": [
      "Enter a number:12\n",
      "divisor  of 12 is :1,2,3,4,6,\n",
      "\n",
      "12 is not perfect number\n"
     ]
    }
   ],
   "source": [
    "number = int(input(\"Enter a number:\"))\n",
    "sum = 0\n",
    "print(f'divisor  of {number} is :',end=\"\" )\n",
    "for i in range(1,number):\n",
    "    if number % i == 0:\n",
    "        print(i, end= \",\")\n",
    "        sum += i\n",
    "print(\"\\n\")\n",
    "if sum == number:\n",
    "    print(f'{number} is perfect number')\n",
    "else:\n",
    "    print(f'{number} is not perfect number')"
   ]
  },
  {
   "cell_type": "markdown",
   "id": "23039237",
   "metadata": {},
   "source": [
    "# 50+ from book\n",
    "#### Write a Python program to print \"Hello, World!"
   ]
  },
  {
   "cell_type": "markdown",
   "id": "dd05a3f7",
   "metadata": {},
   "source": [
    "#### PYTHON PASSWORD GENERATOR"
   ]
  },
  {
   "cell_type": "code",
   "execution_count": 9,
   "id": "c88834ea",
   "metadata": {},
   "outputs": [
    {
     "name": "stdout",
     "output_type": "stream",
     "text": [
      "av4KJBiEk91qpS;X\n"
     ]
    }
   ],
   "source": [
    "import random\n",
    "lower = \"abcdefghijklmnopqrstuvwxyz\"\n",
    "upper = \"ABCDEFGHIJKLMNOPQRSTUVWXYZ\"\n",
    "number = \"0123456789\"\n",
    "symbols = \"[]{}()*;|_-\"\n",
    "\n",
    "all = lower + upper + number + symbols\n",
    "length = 16\n",
    "password = \"\".join(random.sample(all,length))\n",
    "print(password)"
   ]
  },
  {
   "cell_type": "code",
   "execution_count": null,
   "id": "8b142fad",
   "metadata": {},
   "outputs": [],
   "source": []
  },
  {
   "cell_type": "code",
   "execution_count": null,
   "id": "655ff4b6",
   "metadata": {},
   "outputs": [],
   "source": []
  },
  {
   "cell_type": "code",
   "execution_count": null,
   "id": "6a8b1aff",
   "metadata": {},
   "outputs": [],
   "source": []
  }
 ],
 "metadata": {
  "kernelspec": {
   "display_name": "Python 3 (ipykernel)",
   "language": "python",
   "name": "python3"
  },
  "language_info": {
   "codemirror_mode": {
    "name": "ipython",
    "version": 3
   },
   "file_extension": ".py",
   "mimetype": "text/x-python",
   "name": "python",
   "nbconvert_exporter": "python",
   "pygments_lexer": "ipython3",
   "version": "3.9.12"
  }
 },
 "nbformat": 4,
 "nbformat_minor": 5
}
